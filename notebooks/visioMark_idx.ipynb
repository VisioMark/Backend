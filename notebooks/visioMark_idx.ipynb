{
  "cells": [
    {
      "cell_type": "code",
      "execution_count": 1,
      "metadata": {
        "id": "KQLPRzaFjiZk"
      },
      "outputs": [
        {
          "name": "stderr",
          "output_type": "stream",
          "text": [
            "2023-07-12 01:52:51.924969: I tensorflow/stream_executor/platform/default/dso_loader.cc:49] Successfully opened dynamic library libcudart.so.10.1\n"
          ]
        }
      ],
      "source": [
        "import tensorflow as tf\n",
        "from keras.models import Sequential\n",
        "from keras.layers import Dense, Dropout, Flatten, Conv2D, MaxPooling2D, Activation\n",
        "import numpy as np\n",
        "from sklearn.model_selection import train_test_split\n",
        "from tensorflow.keras.preprocessing.image import load_img, img_to_array\n",
        "from keras.constraints import maxnorm\n",
        "from tensorflow.keras.utils import to_categorical\n"
      ]
    },
    {
      "cell_type": "code",
      "execution_count": 2,
      "metadata": {
        "id": "sa7irhsZ3fsp"
      },
      "outputs": [],
      "source": [
        "dataset_dir = 'stripped_indx'\n",
        "\n",
        "train_ratio = 0.8  # 80% for training, 20% for testing\n",
        "# Lists to store the file paths and labels\n",
        "file_paths = []\n",
        "label_ids = []\n",
        "labels = ['0', '1', '2', '3', '4', '5', '6', '7', '8', '9']"
      ]
    },
    {
      "cell_type": "code",
      "execution_count": 3,
      "metadata": {},
      "outputs": [
        {
          "name": "stdout",
          "output_type": "stream",
          "text": [
            "TensorFlow is running with your GPU\n"
          ]
        },
        {
          "name": "stderr",
          "output_type": "stream",
          "text": [
            "2023-07-12 01:53:04.483564: I tensorflow/compiler/jit/xla_cpu_device.cc:41] Not creating XLA devices, tf_xla_enable_xla_devices not set\n",
            "2023-07-12 01:53:04.488790: I tensorflow/stream_executor/platform/default/dso_loader.cc:49] Successfully opened dynamic library libcuda.so.1\n",
            "2023-07-12 01:53:05.562979: E tensorflow/stream_executor/cuda/cuda_gpu_executor.cc:927] could not open file to read NUMA node: /sys/bus/pci/devices/0000:01:00.0/numa_node\n",
            "Your kernel may have been built without NUMA support.\n",
            "2023-07-12 01:53:05.563073: I tensorflow/core/common_runtime/gpu/gpu_device.cc:1720] Found device 0 with properties: \n",
            "pciBusID: 0000:01:00.0 name: NVIDIA GeForce GTX 1050 computeCapability: 6.1\n",
            "coreClock: 1.493GHz coreCount: 5 deviceMemorySize: 2.00GiB deviceMemoryBandwidth: 104.43GiB/s\n",
            "2023-07-12 01:53:05.563112: I tensorflow/stream_executor/platform/default/dso_loader.cc:49] Successfully opened dynamic library libcudart.so.10.1\n",
            "2023-07-12 01:53:05.620140: I tensorflow/stream_executor/platform/default/dso_loader.cc:49] Successfully opened dynamic library libcublas.so.10\n",
            "2023-07-12 01:53:05.620311: I tensorflow/stream_executor/platform/default/dso_loader.cc:49] Successfully opened dynamic library libcublasLt.so.10\n",
            "2023-07-12 01:53:05.650033: I tensorflow/stream_executor/platform/default/dso_loader.cc:49] Successfully opened dynamic library libcufft.so.10\n",
            "2023-07-12 01:53:05.656925: I tensorflow/stream_executor/platform/default/dso_loader.cc:49] Successfully opened dynamic library libcurand.so.10\n",
            "2023-07-12 01:53:05.717673: I tensorflow/stream_executor/platform/default/dso_loader.cc:49] Successfully opened dynamic library libcusolver.so.10\n",
            "2023-07-12 01:53:05.725250: I tensorflow/stream_executor/platform/default/dso_loader.cc:49] Successfully opened dynamic library libcusparse.so.10\n",
            "2023-07-12 01:53:05.820717: I tensorflow/stream_executor/platform/default/dso_loader.cc:49] Successfully opened dynamic library libcudnn.so.7\n",
            "2023-07-12 01:53:05.820950: E tensorflow/stream_executor/cuda/cuda_gpu_executor.cc:927] could not open file to read NUMA node: /sys/bus/pci/devices/0000:01:00.0/numa_node\n",
            "Your kernel may have been built without NUMA support.\n",
            "2023-07-12 01:53:05.821045: E tensorflow/stream_executor/cuda/cuda_gpu_executor.cc:927] could not open file to read NUMA node: /sys/bus/pci/devices/0000:01:00.0/numa_node\n",
            "Your kernel may have been built without NUMA support.\n",
            "2023-07-12 01:53:05.821060: I tensorflow/core/common_runtime/gpu/gpu_device.cc:1862] Adding visible gpu devices: 0\n"
          ]
        }
      ],
      "source": [
        "import tensorflow as tf\n",
        "\n",
        "devices = tf.config.list_physical_devices(\"GPU\")\n",
        "\n",
        "if devices:\n",
        "  print(\"TensorFlow is running with your GPU\")\n",
        "else:\n",
        "  print(\"TensorFlow is not running with your GPU\")"
      ]
    },
    {
      "attachments": {},
      "cell_type": "markdown",
      "metadata": {
        "id": "q6HJovjT3L3w"
      },
      "source": [
        "## Checking if any image is corrupted or not"
      ]
    },
    {
      "cell_type": "code",
      "execution_count": 4,
      "metadata": {
        "colab": {
          "background_save": true
        },
        "id": "F7XpxNbl7X7i"
      },
      "outputs": [
        {
          "name": "stderr",
          "output_type": "stream",
          "text": [
            "2023-07-12 01:53:15.473516: I tensorflow/core/platform/cpu_feature_guard.cc:142] This TensorFlow binary is optimized with oneAPI Deep Neural Network Library (oneDNN) to use the following CPU instructions in performance-critical operations:  SSE4.1 SSE4.2 AVX AVX2 FMA\n",
            "To enable them in other operations, rebuild TensorFlow with the appropriate compiler flags.\n",
            "2023-07-12 01:53:15.475712: I tensorflow/compiler/jit/xla_gpu_device.cc:99] Not creating XLA devices, tf_xla_enable_xla_devices not set\n",
            "2023-07-12 01:53:15.476037: E tensorflow/stream_executor/cuda/cuda_gpu_executor.cc:927] could not open file to read NUMA node: /sys/bus/pci/devices/0000:01:00.0/numa_node\n",
            "Your kernel may have been built without NUMA support.\n",
            "2023-07-12 01:53:15.476079: I tensorflow/core/common_runtime/gpu/gpu_device.cc:1720] Found device 0 with properties: \n",
            "pciBusID: 0000:01:00.0 name: NVIDIA GeForce GTX 1050 computeCapability: 6.1\n",
            "coreClock: 1.493GHz coreCount: 5 deviceMemorySize: 2.00GiB deviceMemoryBandwidth: 104.43GiB/s\n",
            "2023-07-12 01:53:15.476117: I tensorflow/stream_executor/platform/default/dso_loader.cc:49] Successfully opened dynamic library libcudart.so.10.1\n",
            "2023-07-12 01:53:15.476171: I tensorflow/stream_executor/platform/default/dso_loader.cc:49] Successfully opened dynamic library libcublas.so.10\n",
            "2023-07-12 01:53:15.476196: I tensorflow/stream_executor/platform/default/dso_loader.cc:49] Successfully opened dynamic library libcublasLt.so.10\n",
            "2023-07-12 01:53:15.476216: I tensorflow/stream_executor/platform/default/dso_loader.cc:49] Successfully opened dynamic library libcufft.so.10\n",
            "2023-07-12 01:53:15.476236: I tensorflow/stream_executor/platform/default/dso_loader.cc:49] Successfully opened dynamic library libcurand.so.10\n",
            "2023-07-12 01:53:15.476256: I tensorflow/stream_executor/platform/default/dso_loader.cc:49] Successfully opened dynamic library libcusolver.so.10\n",
            "2023-07-12 01:53:15.476275: I tensorflow/stream_executor/platform/default/dso_loader.cc:49] Successfully opened dynamic library libcusparse.so.10\n",
            "2023-07-12 01:53:15.476295: I tensorflow/stream_executor/platform/default/dso_loader.cc:49] Successfully opened dynamic library libcudnn.so.7\n",
            "2023-07-12 01:53:15.476391: E tensorflow/stream_executor/cuda/cuda_gpu_executor.cc:927] could not open file to read NUMA node: /sys/bus/pci/devices/0000:01:00.0/numa_node\n",
            "Your kernel may have been built without NUMA support.\n",
            "2023-07-12 01:53:15.476457: E tensorflow/stream_executor/cuda/cuda_gpu_executor.cc:927] could not open file to read NUMA node: /sys/bus/pci/devices/0000:01:00.0/numa_node\n",
            "Your kernel may have been built without NUMA support.\n",
            "2023-07-12 01:53:15.476471: I tensorflow/core/common_runtime/gpu/gpu_device.cc:1862] Adding visible gpu devices: 0\n",
            "2023-07-12 01:53:15.478194: I tensorflow/stream_executor/platform/default/dso_loader.cc:49] Successfully opened dynamic library libcudart.so.10.1\n",
            "2023-07-12 01:53:17.893258: I tensorflow/core/common_runtime/gpu/gpu_device.cc:1261] Device interconnect StreamExecutor with strength 1 edge matrix:\n",
            "2023-07-12 01:53:17.893297: I tensorflow/core/common_runtime/gpu/gpu_device.cc:1267]      0 \n",
            "2023-07-12 01:53:17.893306: I tensorflow/core/common_runtime/gpu/gpu_device.cc:1280] 0:   N \n",
            "2023-07-12 01:53:17.894781: E tensorflow/stream_executor/cuda/cuda_gpu_executor.cc:927] could not open file to read NUMA node: /sys/bus/pci/devices/0000:01:00.0/numa_node\n",
            "Your kernel may have been built without NUMA support.\n",
            "2023-07-12 01:53:17.894817: I tensorflow/core/common_runtime/gpu/gpu_device.cc:1489] Could not identify NUMA node of platform GPU id 0, defaulting to 0.  Your kernel may not have been built with NUMA support.\n",
            "2023-07-12 01:53:17.895258: E tensorflow/stream_executor/cuda/cuda_gpu_executor.cc:927] could not open file to read NUMA node: /sys/bus/pci/devices/0000:01:00.0/numa_node\n",
            "Your kernel may have been built without NUMA support.\n",
            "2023-07-12 01:53:17.895478: E tensorflow/stream_executor/cuda/cuda_gpu_executor.cc:927] could not open file to read NUMA node: /sys/bus/pci/devices/0000:01:00.0/numa_node\n",
            "Your kernel may have been built without NUMA support.\n",
            "2023-07-12 01:53:17.895533: I tensorflow/core/common_runtime/gpu/gpu_device.cc:1406] Created TensorFlow device (/job:localhost/replica:0/task:0/device:GPU:0 with 1302 MB memory) -> physical GPU (device: 0, name: NVIDIA GeForce GTX 1050, pci bus id: 0000:01:00.0, compute capability: 6.1)\n"
          ]
        },
        {
          "data": {
            "text/plain": [
              "10"
            ]
          },
          "execution_count": 4,
          "metadata": {},
          "output_type": "execute_result"
        }
      ],
      "source": [
        "import os\n",
        "# Iterate through each class directory\n",
        "for label_id, label in enumerate(labels):\n",
        "    class_dir = os.path.join(dataset_dir, label)\n",
        "    if os.path.isdir(class_dir):\n",
        "        image_files = [f for f in os.listdir(class_dir) if os.path.isfile(os.path.join(class_dir, f))]\n",
        "        file_paths.extend([os.path.join(class_dir, f) for f in image_files])\n",
        "        label_ids.extend([label_id] * len(image_files))\n",
        "\n",
        "# Shuffle the file paths and label IDs\n",
        "tf.random.set_seed(42)\n",
        "tf.random.shuffle(file_paths)\n",
        "tf.random.set_seed(42)\n",
        "tf.random.shuffle(label_ids)\n",
        "\n",
        "# Split the dataset into training and testing sets using stratified sampling\n",
        "X_train_paths, X_test_paths, y_train_ids, y_test_ids = train_test_split(file_paths, label_ids, train_size=train_ratio, stratify=label_ids)\n",
        "\n",
        "# Convert the image data into NumPy arrays\n",
        "X_train = np.array([img_to_array(load_img(path, target_size=(130, 20))) for path in X_train_paths])\n",
        "X_test = np.array([img_to_array(load_img(path, target_size=(130, 20))) for path in X_test_paths])\n",
        "\n",
        "# Normalizing and performing one-hot encoding\n",
        "X_train = X_train.astype('float32')\n",
        "X_test = X_test.astype('float32')\n",
        "X_train = X_train/255.0\n",
        "X_test = X_test/255.0\n",
        "\n",
        "# Convert the label IDs into one-hot encoded vectors\n",
        "y_train = to_categorical(y_train_ids, num_classes=len(labels))\n",
        "y_test = to_categorical(y_test_ids, num_classes=len(labels))\n",
        "\n",
        "num_classes = y_test.shape[1]\n",
        "num_classes"
      ]
    },
    {
      "cell_type": "code",
      "execution_count": 5,
      "metadata": {},
      "outputs": [
        {
          "name": "stdout",
          "output_type": "stream",
          "text": [
            "Training set (202, 130, 20, 3)\n",
            "Testing set (51, 130, 20, 3)\n"
          ]
        }
      ],
      "source": [
        "print(\"Training set\", X_train.shape)\n",
        "print(\"Testing set\", X_test.shape)"
      ]
    },
    {
      "cell_type": "code",
      "execution_count": 6,
      "metadata": {},
      "outputs": [
        {
          "data": {
            "text/plain": [
              "False"
            ]
          },
          "execution_count": 6,
          "metadata": {},
          "output_type": "execute_result"
        }
      ],
      "source": [
        "'./_data/Exceptions/Question2-scan0047.jpg' in X_train_paths"
      ]
    },
    {
      "cell_type": "code",
      "execution_count": 7,
      "metadata": {
        "colab": {
          "background_save": true
        },
        "id": "YVv_kxzlipoB"
      },
      "outputs": [],
      "source": [
        "import keras\n",
        "\n",
        "model = Sequential()\n",
        "\n",
        "model.add(Conv2D(32, (3, 3), input_shape=(130,20,3), activation='relu', padding='same'))\n",
        "model.add(Dropout(0.2))\n",
        "model.add(Conv2D(32, (3, 3), activation='relu', padding='same'))\n",
        "model.add(MaxPooling2D(pool_size=(2, 2)))\n",
        "model.add(Conv2D(64, (3, 3), activation='relu', padding='same'))\n",
        "model.add(Dropout(0.2))\n",
        "model.add(Conv2D(64, (3, 3), activation='relu', padding='same'))\n",
        "model.add(MaxPooling2D(pool_size=(2, 2)))\n",
        "model.add(Conv2D(128, (3, 3), activation='relu', padding='same'))\n",
        "model.add(Dropout(0.2))\n",
        "model.add(Conv2D(128, (3, 3), activation='relu', padding='same'))\n",
        "model.add(MaxPooling2D(pool_size=(2, 2)))\n",
        "model.add(Flatten())\n",
        "model.add(Dropout(0.2))\n",
        "model.add(Dense(1024, activation='relu', kernel_constraint=maxnorm(3)))\n",
        "model.add(Dropout(0.2))\n",
        "model.add(Dense(512, activation='relu', kernel_constraint=maxnorm(3)))\n",
        "model.add(Dropout(0.2))\n",
        "model.add(Dense(num_classes, activation='softmax'))\n",
        "\n"
      ]
    },
    {
      "cell_type": "code",
      "execution_count": 9,
      "metadata": {
        "colab": {
          "background_save": true
        },
        "id": "_TnhiLjx8wOF",
        "outputId": "7cc85321-69d2-48df-f26a-de71779404e4"
      },
      "outputs": [
        {
          "name": "stdout",
          "output_type": "stream",
          "text": [
            "Model: \"sequential\"\n",
            "_________________________________________________________________\n",
            "Layer (type)                 Output Shape              Param #   \n",
            "=================================================================\n",
            "conv2d (Conv2D)              (None, 130, 20, 32)       896       \n",
            "_________________________________________________________________\n",
            "dropout (Dropout)            (None, 130, 20, 32)       0         \n",
            "_________________________________________________________________\n",
            "conv2d_1 (Conv2D)            (None, 130, 20, 32)       9248      \n",
            "_________________________________________________________________\n",
            "max_pooling2d (MaxPooling2D) (None, 65, 10, 32)        0         \n",
            "_________________________________________________________________\n",
            "conv2d_2 (Conv2D)            (None, 65, 10, 64)        18496     \n",
            "_________________________________________________________________\n",
            "dropout_1 (Dropout)          (None, 65, 10, 64)        0         \n",
            "_________________________________________________________________\n",
            "conv2d_3 (Conv2D)            (None, 65, 10, 64)        36928     \n",
            "_________________________________________________________________\n",
            "max_pooling2d_1 (MaxPooling2 (None, 32, 5, 64)         0         \n",
            "_________________________________________________________________\n",
            "conv2d_4 (Conv2D)            (None, 32, 5, 128)        73856     \n",
            "_________________________________________________________________\n",
            "dropout_2 (Dropout)          (None, 32, 5, 128)        0         \n",
            "_________________________________________________________________\n",
            "conv2d_5 (Conv2D)            (None, 32, 5, 128)        147584    \n",
            "_________________________________________________________________\n",
            "max_pooling2d_2 (MaxPooling2 (None, 16, 2, 128)        0         \n",
            "_________________________________________________________________\n",
            "flatten (Flatten)            (None, 4096)              0         \n",
            "_________________________________________________________________\n",
            "dropout_3 (Dropout)          (None, 4096)              0         \n",
            "_________________________________________________________________\n",
            "dense (Dense)                (None, 1024)              4195328   \n",
            "_________________________________________________________________\n",
            "dropout_4 (Dropout)          (None, 1024)              0         \n",
            "_________________________________________________________________\n",
            "dense_1 (Dense)              (None, 512)               524800    \n",
            "_________________________________________________________________\n",
            "dropout_5 (Dropout)          (None, 512)               0         \n",
            "_________________________________________________________________\n",
            "dense_2 (Dense)              (None, 10)                5130      \n",
            "=================================================================\n",
            "Total params: 5,012,266\n",
            "Trainable params: 5,012,266\n",
            "Non-trainable params: 0\n",
            "_________________________________________________________________\n"
          ]
        }
      ],
      "source": [
        "model.summary()"
      ]
    },
    {
      "cell_type": "code",
      "execution_count": 11,
      "metadata": {
        "colab": {
          "base_uri": "https://localhost:8080/"
        },
        "id": "Do2pP8Ab8sfn",
        "outputId": "3a5fc5f3-cf00-4db5-f803-36ab0743d0a1"
      },
      "outputs": [],
      "source": [
        "model.compile(optimizer='Adam', loss=keras.losses.categorical_crossentropy, metrics=['accuracy'])\n",
        "\n",
        "# create a learning rate scheduler\n",
        "lr_scheduler = tf.keras.callbacks.LearningRateScheduler(lambda epoch: 1e-4 * 10 ** (epoch / 5))"
      ]
    },
    {
      "cell_type": "code",
      "execution_count": 12,
      "metadata": {},
      "outputs": [
        {
          "name": "stderr",
          "output_type": "stream",
          "text": [
            "2023-07-12 01:54:21.286412: I tensorflow/compiler/mlir/mlir_graph_optimization_pass.cc:116] None of the MLIR optimization passes are enabled (registered 2)\n",
            "2023-07-12 01:54:21.297990: I tensorflow/core/platform/profile_utils/cpu_utils.cc:112] CPU Frequency: 2496000000 Hz\n"
          ]
        },
        {
          "name": "stdout",
          "output_type": "stream",
          "text": [
            "Epoch 1/5\n"
          ]
        },
        {
          "name": "stderr",
          "output_type": "stream",
          "text": [
            "2023-07-12 01:54:22.764547: I tensorflow/stream_executor/platform/default/dso_loader.cc:49] Successfully opened dynamic library libcublas.so.10\n",
            "2023-07-12 01:54:23.514808: I tensorflow/stream_executor/platform/default/dso_loader.cc:49] Successfully opened dynamic library libcudnn.so.7\n"
          ]
        },
        {
          "name": "stdout",
          "output_type": "stream",
          "text": [
            "6/6 [==============================] - 8s 443ms/step - loss: 2.2701 - accuracy: 0.1286 - val_loss: 2.2619 - val_accuracy: 0.2381\n",
            "Epoch 2/5\n",
            "6/6 [==============================] - 0s 55ms/step - loss: 2.1007 - accuracy: 0.2099 - val_loss: 2.2493 - val_accuracy: 0.2381\n",
            "Epoch 3/5\n",
            "6/6 [==============================] - 0s 60ms/step - loss: 2.0931 - accuracy: 0.2575 - val_loss: 2.2834 - val_accuracy: 0.0952\n",
            "Epoch 4/5\n",
            "6/6 [==============================] - 0s 52ms/step - loss: 2.1303 - accuracy: 0.2188 - val_loss: 2.2839 - val_accuracy: 0.2381\n",
            "Epoch 5/5\n",
            "6/6 [==============================] - 0s 58ms/step - loss: 2.1091 - accuracy: 0.2500 - val_loss: 2.2804 - val_accuracy: 0.0952\n"
          ]
        }
      ],
      "source": [
        "hist = model.fit(X_train, y_train , epochs=5, validation_split=0.1, callbacks=[lr_scheduler])"
      ]
    },
    {
      "attachments": {},
      "cell_type": "markdown",
      "metadata": {},
      "source": [
        "## Save Model"
      ]
    },
    {
      "cell_type": "code",
      "execution_count": 13,
      "metadata": {},
      "outputs": [],
      "source": [
        "# models_path = \"./saved_models\"\n",
        "\n",
        "# os.makedirs(models_path, exist_ok=True)\n",
        "\n",
        "# # get the number of files in the directory\n",
        "# def get_num_files(path):\n",
        "#     if not os.path.exists(path):\n",
        "#         return 0\n",
        "#     return sum([len(files) for r, d, files in os.walk(path)])\n",
        "\n",
        "# # save the model with the current number\n",
        "# num_files = get_num_files(models_path)\n",
        "\n",
        "# model.save(os.path.join(models_path, f\"idx_model_{num_files}.h5\"))"
      ]
    },
    {
      "cell_type": "code",
      "execution_count": 14,
      "metadata": {},
      "outputs": [
        {
          "name": "stderr",
          "output_type": "stream",
          "text": [
            "/tmp/ipykernel_1978/3113396048.py:6: UserWarning: Matplotlib is currently using module://matplotlib_inline.backend_inline, which is a non-GUI backend, so cannot show the figure.\n",
            "  fig.show()\n"
          ]
        },
        {
          "data": {
            "image/png": "[encoded data removed]",
            "text/plain": [
              "<Figure size 640x480 with 1 Axes>"
            ]
          },
          "metadata": {},
          "output_type": "display_data"
        }
      ],
      "source": [
        "import matplotlib.pyplot as plt\n",
        "\n",
        "fig = plt.figure()\n",
        "plt.plot(hist.history['accuracy'], color='red', label='acc')\n",
        "plt.plot(hist.history['val_accuracy'], label='val_acc')\n",
        "fig.show()"
      ]
    },
    {
      "cell_type": "code",
      "execution_count": 15,
      "metadata": {},
      "outputs": [
        {
          "data": {
            "text/plain": [
              "[<matplotlib.lines.Line2D at 0x7f124013cd60>]"
            ]
          },
          "execution_count": 15,
          "metadata": {},
          "output_type": "execute_result"
        },
        {
          "data": {
            "image/png": "[encoded data removed]",
            "text/plain": [
              "<Figure size 640x480 with 1 Axes>"
            ]
          },
          "metadata": {},
          "output_type": "display_data"
        }
      ],
      "source": [
        "fig\n",
        "plt.plot(hist.history['loss'])\n",
        "plt.plot(hist.history['val_loss'], color='orange', label='val_loss')"
      ]
    },
    {
      "cell_type": "code",
      "execution_count": 16,
      "metadata": {
        "colab": {
          "base_uri": "https://localhost:8080/",
          "height": 183
        },
        "id": "k90b5abqkE2v",
        "outputId": "0e236d04-85d2-42ef-deaf-97c7ec83347f"
      },
      "outputs": [],
      "source": [
        "predictions_original = model.predict(X_test)\n",
        "rounded_predictions = np.apply_along_axis(lambda x: np.round(x), 1, predictions_original)"
      ]
    },
    {
      "cell_type": "code",
      "execution_count": 1,
      "metadata": {},
      "outputs": [
        {
          "ename": "NameError",
          "evalue": "name 'tf' is not defined",
          "output_type": "error",
          "traceback": [
            "\u001b[0;31m---------------------------------------------------------------------------\u001b[0m",
            "\u001b[0;31mNameError\u001b[0m                                 Traceback (most recent call last)",
            "Cell \u001b[0;32mIn[1], line 1\u001b[0m\n\u001b[0;32m----> 1\u001b[0m y_test_argmax \u001b[39m=\u001b[39m tf\u001b[39m.\u001b[39margmax(y_test, axis\u001b[39m=\u001b[39m\u001b[39m1\u001b[39m)\n",
            "\u001b[0;31mNameError\u001b[0m: name 'tf' is not defined"
          ]
        }
      ],
      "source": [
        "y_test_argmax = tf.argmax(y_test, axis=1)\n"
      ]
    },
    {
      "cell_type": "code",
      "execution_count": 18,
      "metadata": {},
      "outputs": [
        {
          "data": {
            "text/plain": [
              "array([[0., 0., 0., 0., 0., 0., 0., 0., 0., 0.],\n",
              "       [0., 0., 0., 0., 0., 0., 0., 0., 0., 0.],\n",
              "       [0., 0., 0., 0., 0., 0., 0., 0., 0., 0.],\n",
              "       [0., 0., 0., 0., 0., 0., 0., 0., 0., 0.],\n",
              "       [0., 0., 0., 0., 0., 0., 0., 0., 0., 0.],\n",
              "       [0., 0., 0., 0., 0., 0., 0., 0., 0., 0.],\n",
              "       [0., 0., 0., 0., 0., 0., 0., 0., 0., 0.],\n",
              "       [0., 0., 0., 0., 0., 0., 0., 0., 0., 0.],\n",
              "       [0., 0., 0., 0., 0., 0., 0., 0., 0., 0.],\n",
              "       [0., 0., 0., 0., 0., 0., 0., 0., 0., 0.],\n",
              "       [0., 0., 0., 0., 0., 0., 0., 0., 0., 0.],\n",
              "       [0., 0., 0., 0., 0., 0., 0., 0., 0., 0.],\n",
              "       [0., 0., 0., 0., 0., 0., 0., 0., 0., 0.],\n",
              "       [0., 0., 0., 0., 0., 0., 0., 0., 0., 0.],\n",
              "       [0., 0., 0., 0., 0., 0., 0., 0., 0., 0.],\n",
              "       [0., 0., 0., 0., 0., 0., 0., 0., 0., 0.],\n",
              "       [0., 0., 0., 0., 0., 0., 0., 0., 0., 0.],\n",
              "       [0., 0., 0., 0., 0., 0., 0., 0., 0., 0.],\n",
              "       [0., 0., 0., 0., 0., 0., 0., 0., 0., 0.],\n",
              "       [0., 0., 0., 0., 0., 0., 0., 0., 0., 0.],\n",
              "       [0., 0., 0., 0., 0., 0., 0., 0., 0., 0.],\n",
              "       [0., 0., 0., 0., 0., 0., 0., 0., 0., 0.],\n",
              "       [0., 0., 0., 0., 0., 0., 0., 0., 0., 0.],\n",
              "       [0., 0., 0., 0., 0., 0., 0., 0., 0., 0.],\n",
              "       [0., 0., 0., 0., 0., 0., 0., 0., 0., 0.],\n",
              "       [0., 0., 0., 0., 0., 0., 0., 0., 0., 0.],\n",
              "       [0., 0., 0., 0., 0., 0., 0., 0., 0., 0.],\n",
              "       [0., 0., 0., 0., 0., 0., 0., 0., 0., 0.],\n",
              "       [0., 0., 0., 0., 0., 0., 0., 0., 0., 0.],\n",
              "       [0., 0., 0., 0., 0., 0., 0., 0., 0., 0.],\n",
              "       [0., 0., 0., 0., 0., 0., 0., 0., 0., 0.],\n",
              "       [0., 0., 0., 0., 0., 0., 0., 0., 0., 0.],\n",
              "       [0., 0., 0., 0., 0., 0., 0., 0., 0., 0.],\n",
              "       [0., 0., 0., 0., 0., 0., 0., 0., 0., 0.],\n",
              "       [0., 0., 0., 0., 0., 0., 0., 0., 0., 0.],\n",
              "       [0., 0., 0., 0., 0., 0., 0., 0., 0., 0.],\n",
              "       [0., 0., 0., 0., 0., 0., 0., 0., 0., 0.],\n",
              "       [0., 0., 0., 0., 0., 0., 0., 0., 0., 0.],\n",
              "       [0., 0., 0., 0., 0., 0., 0., 0., 0., 0.],\n",
              "       [0., 0., 0., 0., 0., 0., 0., 0., 0., 0.],\n",
              "       [0., 0., 0., 0., 0., 0., 0., 0., 0., 0.],\n",
              "       [0., 0., 0., 0., 0., 0., 0., 0., 0., 0.],\n",
              "       [0., 0., 0., 0., 0., 0., 0., 0., 0., 0.],\n",
              "       [0., 0., 0., 0., 0., 0., 0., 0., 0., 0.],\n",
              "       [0., 0., 0., 0., 0., 0., 0., 0., 0., 0.],\n",
              "       [0., 0., 0., 0., 0., 0., 0., 0., 0., 0.],\n",
              "       [0., 0., 0., 0., 0., 0., 0., 0., 0., 0.],\n",
              "       [0., 0., 0., 0., 0., 0., 0., 0., 0., 0.],\n",
              "       [0., 0., 0., 0., 0., 0., 0., 0., 0., 0.],\n",
              "       [0., 0., 0., 0., 0., 0., 0., 0., 0., 0.],\n",
              "       [0., 0., 0., 0., 0., 0., 0., 0., 0., 0.]], dtype=float32)"
            ]
          },
          "execution_count": 18,
          "metadata": {},
          "output_type": "execute_result"
        }
      ],
      "source": [
        "rounded_predictions"
      ]
    },
    {
      "cell_type": "code",
      "execution_count": 45,
      "metadata": {},
      "outputs": [
        {
          "name": "stdout",
          "output_type": "stream",
          "text": [
            "average 0 331\n",
            "average 1 236\n",
            "average 2 391\n",
            "average 3 64\n",
            "average 4 349\n",
            "average 5 905\n",
            "average 6 50\n"
          ]
        }
      ],
      "source": [
        "prediction_index_probs: dict[int, list] = {\n",
        "    0: [],\n",
        "    1: [],\n",
        "    2: [],\n",
        "    3: [],\n",
        "    4: [],\n",
        "    5: [],\n",
        "    6: []\n",
        "}\n",
        "\n",
        "low_prob_indices = []\n",
        "low_prob_predictions = []\n",
        "\n",
        "for i, prediction in enumerate(predictions_original):\n",
        "    prediction_index = np.argmax(prediction)\n",
        "    prediction_prob = prediction[prediction_index]\n",
        "    if prediction_prob < 0.8:\n",
        "        low_prob_indices.append(i)\n",
        "        low_prob_predictions.append(prediction)\n",
        "    prediction_index_probs[prediction_index].append(prediction_prob)\n",
        "    # print(prediction_index_probs)\n",
        "\n",
        "for key in prediction_index_probs.keys():\n",
        "    print(f\"average {key}\", np.argmin(prediction_index_probs[key]))    \n"
      ]
    },
    {
      "cell_type": "code",
      "execution_count": 36,
      "metadata": {},
      "outputs": [
        {
          "name": "stdout",
          "output_type": "stream",
          "text": [
            "508 out of 3106\n",
            "percentage: 0.16355441081777206\n"
          ]
        }
      ],
      "source": [
        "print(f\"{len(low_prob_indices)} out of {len(X_test)}\")\n",
        "print(f\"percentage: {len(low_prob_indices)/len(X_test)}\")"
      ]
    },
    {
      "cell_type": "code",
      "execution_count": 19,
      "metadata": {},
      "outputs": [
        {
          "data": {
            "text/plain": [
              "'./_data/D/Question67-scan0022.jpg'"
            ]
          },
          "execution_count": 19,
          "metadata": {},
          "output_type": "execute_result"
        }
      ],
      "source": [
        "X_test_paths[1907]"
      ]
    },
    {
      "cell_type": "code",
      "execution_count": 20,
      "metadata": {},
      "outputs": [
        {
          "data": {
            "text/plain": [
              "array([9.996182e-01, 8.168037e-08, 1.617764e-10, 1.429614e-11,\n",
              "       4.596598e-10, 3.816797e-04, 8.186421e-09], dtype=float32)"
            ]
          },
          "execution_count": 20,
          "metadata": {},
          "output_type": "execute_result"
        }
      ],
      "source": [
        "predictions_original[11]"
      ]
    },
    {
      "cell_type": "code",
      "execution_count": 21,
      "metadata": {},
      "outputs": [],
      "source": [
        "predictions = tf.argmax(rounded_predictions, axis=1)"
      ]
    },
    {
      "cell_type": "code",
      "execution_count": 22,
      "metadata": {
        "id": "aQEnZTQukNMF"
      },
      "outputs": [],
      "source": [
        "cm = tf.math.confusion_matrix(y_test_argmax, predictions)\n",
        "cm = cm/cm.numpy().sum(axis=1)[:, tf.newaxis]"
      ]
    },
    {
      "cell_type": "code",
      "execution_count": 23,
      "metadata": {},
      "outputs": [
        {
          "data": {
            "text/plain": [
              "array([[9.81723238e-01, 0.00000000e+00, 0.00000000e+00, 0.00000000e+00,\n",
              "        0.00000000e+00, 1.04438642e-02, 7.83289817e-03],\n",
              "       [1.10192837e-02, 9.50413223e-01, 5.50964187e-03, 8.26446281e-03,\n",
              "        0.00000000e+00, 8.26446281e-03, 1.65289256e-02],\n",
              "       [5.02512563e-03, 2.51256281e-03, 9.62311558e-01, 5.02512563e-03,\n",
              "        0.00000000e+00, 2.51256281e-02, 0.00000000e+00],\n",
              "       [2.36220472e-02, 0.00000000e+00, 0.00000000e+00, 9.47506562e-01,\n",
              "        5.24934383e-03, 1.83727034e-02, 5.24934383e-03],\n",
              "       [1.81347150e-02, 0.00000000e+00, 2.59067358e-03, 1.03626943e-02,\n",
              "        9.66321244e-01, 0.00000000e+00, 2.59067358e-03],\n",
              "       [2.91438980e-02, 2.55009107e-02, 3.00546448e-02, 2.27686703e-02,\n",
              "        2.55009107e-02, 8.66120219e-01, 9.10746812e-04],\n",
              "       [7.21649485e-02, 1.03092784e-02, 0.00000000e+00, 0.00000000e+00,\n",
              "        6.18556701e-02, 0.00000000e+00, 8.55670103e-01]])"
            ]
          },
          "execution_count": 23,
          "metadata": {},
          "output_type": "execute_result"
        }
      ],
      "source": [
        "cm.numpy()"
      ]
    },
    {
      "cell_type": "code",
      "execution_count": 24,
      "metadata": {
        "colab": {
          "background_save": true
        },
        "id": "Cn9dr7L7Z09F"
      },
      "outputs": [
        {
          "data": {
            "image/png": "[encoded data removed]",
            "text/plain": [
              "<Figure size 1000x1000 with 2 Axes>"
            ]
          },
          "metadata": {},
          "output_type": "display_data"
        }
      ],
      "source": [
        "import seaborn as sns\n",
        "\n",
        "plt.figure(figsize=(10, 10))\n",
        "sns.heatmap(cm, annot=True, fmt=\".2f\", linewidths=0.5, square=True, cmap='Blues_r', xticklabels=labels, yticklabels=labels)\n",
        "plt.ylabel('Actual label')\n",
        "plt.xlabel('Predicted label')\n",
        "plt.title(\"Confusion matrix\")\n",
        "plt.show()"
      ]
    },
    {
      "cell_type": "code",
      "execution_count": 25,
      "metadata": {},
      "outputs": [],
      "source": [
        "from tensorflow.keras.metrics import Precision, Accuracy, Recall, BinaryAccuracy\n",
        "\n",
        "labels = y_test\n",
        "\n",
        "precision = Precision()\n",
        "accuracy = Accuracy()\n",
        "recall = Recall()"
      ]
    },
    {
      "cell_type": "code",
      "execution_count": 26,
      "metadata": {},
      "outputs": [
        {
          "name": "stdout",
          "output_type": "stream",
          "text": [
            "Precision: 0.93333334\n",
            "Accuracy: 0.97971666\n",
            "Recall: 0.924018\n"
          ]
        }
      ],
      "source": [
        "# Evaluate the metrics\n",
        "precision.update_state(labels, rounded_predictions)\n",
        "accuracy.update_state(labels, rounded_predictions)\n",
        "recall.update_state(labels, rounded_predictions)\n",
        "\n",
        "# Print the metrics\n",
        "print('Precision:', precision.result().numpy())\n",
        "print('Accuracy:', accuracy.result().numpy())\n",
        "print('Recall:', recall.result().numpy())"
      ]
    },
    {
      "cell_type": "code",
      "execution_count": 27,
      "metadata": {},
      "outputs": [
        {
          "name": "stdout",
          "output_type": "stream",
          "text": [
            "Accuracy: 92.85%\n"
          ]
        }
      ],
      "source": [
        "scores = model.evaluate(X_test, y_test, verbose=0)\n",
        "print(\"Accuracy: %.2f%%\" % (scores[1]*100))"
      ]
    },
    {
      "cell_type": "code",
      "execution_count": 44,
      "metadata": {},
      "outputs": [
        {
          "name": "stdout",
          "output_type": "stream",
          "text": [
            "Question196-scan0033b.jpg [0.7274751] 4\n",
            "Question4-scan0052b.jpg [0.969681] 2\n",
            "Question196-scan0040b.jpg [0.85233104] 0\n",
            "Question17-scan0035b.jpg [0.8256274] 2\n",
            "Question62-scan0016b.jpg [0.97831947] 4\n",
            "Question59-scan0023b.jpg [0.71119756] 0\n",
            "Question8-scan0051b.jpg [0.97779226] 2\n",
            "Question82-scan0012b.jpg [0.95314413] 2\n",
            "Question90-scan0011b.jpg [0.95803356] 3\n",
            "Question90-scan0020b.jpg [0.7333206] 2\n",
            "Question195-scan0016b.jpg [0.7360808] 3\n",
            "Question86-scan0003b.jpg [0.6392831] 2\n",
            "Question113-scan0003b.jpg [0.9846177] 1\n",
            "Question197-scan0030b.jpg [0.6694107] 2\n",
            "Question82-scan0032b.jpg [0.93084925] 4\n",
            "Question81-scan0023b.jpg [0.81156117] 1\n",
            "Question105-scan0008b.jpg [0.8578713] 4\n",
            "Question109-scan0029b.jpg [0.38793853] 4\n",
            "Question26-scan0031b.jpg [0.74272734] 4\n",
            "Question14-scan0022b.jpg [0.7626017] 1\n",
            "Question78-scan0025b.jpg [0.9623963] 3\n",
            "Question92-scan0012b.jpg [0.6389521] 2\n",
            "Question92-scan0011b.jpg [0.4994143] 3\n",
            "Question196-scan0006b.jpg [0.57003415] 1\n",
            "Question33-scan0027b.jpg [0.9998011] 4\n",
            "Question61-scan0025b.jpg [0.50315267] 4\n",
            "Question76-scan0035b.jpg [0.6328675] 4\n",
            "Question2-scan0023b.jpg [0.73357856] 2\n",
            "Question197-scan0027b.jpg [0.92536604] 3\n",
            "Question60-scan0015b.jpg [0.69043344] 4\n",
            "Question39-scan0043b.jpg [0.99911064] 4\n",
            "Question67-scan0043b.jpg [0.9105166] 3\n",
            "Question197-scan0046b.jpg [0.7134875] 0\n",
            "Question17-scan0033b.jpg [0.92438346] 2\n",
            "Question86-scan0006b.jpg [0.95394015] 2\n",
            "Question111-scan0010b.jpg [0.996289] 0\n",
            "Question81-scan0032b.jpg [0.514729] 0\n",
            "Question198-scan0046b.jpg [0.51739144] 2\n",
            "Question101-scan0016b.jpg [0.65895844] 3\n",
            "Question90-scan0034b.jpg [0.9078106] 0\n",
            "Question6-scan0018b.jpg [0.6713849] 2\n",
            "Question42-scan0011b.jpg [0.63617575] 3\n",
            "Question197-scan0040b.jpg [0.84690213] 1\n",
            "Question79-scan0008b.jpg [0.505845] 4\n",
            "Question63-scan0004b.jpg [0.7061817] 3\n",
            "Question81-scan0003b.jpg [0.4467583] 3\n",
            "Question92-scan0034b.jpg [0.8699891] 1\n",
            "Question25-scan0027b.jpg [0.93806285] 1\n",
            "Question23-scan0015b.jpg [0.8028633] 2\n",
            "Question108-scan0001b.jpg [0.6900953] 4\n",
            "Question198-scan0006b.jpg [0.67388713] 4\n",
            "Question57-scan0037b.jpg [0.51893735] 0\n",
            "Question4-scan0037b.jpg [0.6962485] 2\n",
            "Question73-scan0016b.jpg [0.9669535] 3\n",
            "Question77-scan0043b.jpg [0.99817455] 4\n",
            "Question93-scan0006b.jpg [0.5673678] 2\n",
            "Question196-scan0009b.jpg [0.5517595] 0\n",
            "Question54-scan0039b.jpg [0.9978399] 0\n",
            "Question196-scan0027b.jpg [0.9770922] 3\n",
            "Question11-scan0037b.jpg [0.6629891] 2\n",
            "Question68-scan0039b.jpg [0.8357716] 4\n",
            "Question106-scan0044b.jpg [0.8663166] 2\n",
            "Question195-scan0030b.jpg [0.9368035] 0\n",
            "Question2-scan0018b.jpg [0.9947726] 2\n",
            "Question71-scan0002b.jpg [0.8407435] 1\n",
            "Question200-scan0016b.jpg [0.8789765] 0\n",
            "Question4-scan0025b.jpg [0.74402726] 2\n",
            "Question64-scan0025b.jpg [0.8705581] 3\n",
            "Question97-scan0025b.jpg [0.55161184] 0\n",
            "69\n"
          ]
        }
      ],
      "source": [
        "import cv2\n",
        "\n",
        "# a = cv2.imread(dataset_dir + '/double/Question1-scan0048.jpg')\n",
        "# getting all the files in a dir\n",
        "count = 0\n",
        "ltf = 0\n",
        "for image_name in os.listdir(\"./_data/double\"):\n",
        "    image_path = os.path.join(\"./_data/double\", image_name)\n",
        "    a = cv2.imread(image_path)\n",
        "    resize = tf.image.resize(a, (130, 20))\n",
        "    b = model.predict(np.expand_dims(resize/255, 0))\n",
        "    c = np.apply_along_axis(lambda x: np.max(x), 1, b)\n",
        "    if tf.argmax(b[0]).numpy() != 5:\n",
        "        ltf += 1\n",
        "        print(image_name, c, tf.argmax(b[0]).numpy())\n",
        "    \n",
        "    count += 1\n",
        "    if count > 1000:\n",
        "        break\n",
        "    \n",
        "print(ltf)\n",
        "# plt.imshow(a)\n",
        "    # e = np.apply_along_axis(lambda x: np.round(x), 1, b)"
      ]
    },
    {
      "cell_type": "code",
      "execution_count": 40,
      "metadata": {},
      "outputs": [
        {
          "data": {
            "text/plain": [
              "11"
            ]
          },
          "execution_count": 40,
          "metadata": {},
          "output_type": "execute_result"
        }
      ],
      "source": [
        "ltf"
      ]
    },
    {
      "cell_type": "code",
      "execution_count": 82,
      "metadata": {},
      "outputs": [
        {
          "name": "stdout",
          "output_type": "stream",
          "text": [
            "WARNING:tensorflow:10 out of the last 5125 calls to <function Model.make_predict_function.<locals>.predict_function at 0x7f4ba8b1d310> triggered tf.function retracing. Tracing is expensive and the excessive number of tracings could be due to (1) creating @tf.function repeatedly in a loop, (2) passing tensors with different shapes, (3) passing Python objects instead of tensors. For (1), please define your @tf.function outside of the loop. For (2), @tf.function has experimental_relax_shapes=True option that relaxes argument shapes that can avoid unnecessary retracing. For (3), please refer to https://www.tensorflow.org/guide/function#controlling_retracing and https://www.tensorflow.org/api_docs/python/tf/function for  more details.\n"
          ]
        }
      ],
      "source": [
        "import cv2\n",
        "import numpy as np\n",
        "model = tf.keras.models.load_model('saved_models/model_2.h5')\n",
        "\n",
        "img = cv2.imread('./output_folder/Question88.jpg')\n",
        "resize = tf.image.resize(img, [130, 20])\n",
        "predictions = model.predict(np.expand_dims(resize/255, axis=0))\n",
        "\n",
        "# scores = model.evaluate(X_test, y_test, verbose=0)\n",
        "# print(\"Accuracy: %.2f%%\" % (scores[1]*100))"
      ]
    },
    {
      "cell_type": "code",
      "execution_count": 83,
      "metadata": {},
      "outputs": [
        {
          "data": {
            "text/plain": [
              "array([[0.04205149, 0.02469086, 0.01523522, 0.01687624, 0.01013163,\n",
              "        0.01958996, 0.8714246 ]], dtype=float32)"
            ]
          },
          "execution_count": 83,
          "metadata": {},
          "output_type": "execute_result"
        }
      ],
      "source": [
        "predictions"
      ]
    },
    {
      "cell_type": "code",
      "execution_count": 84,
      "metadata": {},
      "outputs": [],
      "source": [
        "pred = np.apply_along_axis(lambda x: np.round(x), 1, predictions)"
      ]
    },
    {
      "cell_type": "code",
      "execution_count": 85,
      "metadata": {},
      "outputs": [
        {
          "data": {
            "text/plain": [
              "array([[0.04205149, 0.02469086, 0.01523522, 0.01687624, 0.01013163,\n",
              "        0.01958996, 0.8714246 ]], dtype=float32)"
            ]
          },
          "execution_count": 85,
          "metadata": {},
          "output_type": "execute_result"
        }
      ],
      "source": [
        "predictions"
      ]
    },
    {
      "cell_type": "code",
      "execution_count": 86,
      "metadata": {},
      "outputs": [
        {
          "name": "stdout",
          "output_type": "stream",
          "text": [
            "Exception "
          ]
        }
      ],
      "source": [
        "shading= {\n",
        "    0: 'A',\n",
        "    1: 'B',\n",
        "    2: 'C', \n",
        "    3: 'D', \n",
        "    4: 'E',\n",
        "    5: 'Double',\n",
        "    6: 'Exception'\n",
        "}\n",
        "for i in range(len(pred)):\n",
        "    for j in range(len(pred[i])):\n",
        "        if pred[i][j] == 1:\n",
        "            print(shading[j], end=' ')"
      ]
    }
  ],
  "metadata": {
    "accelerator": "GPU",
    "colab": {
      "gpuType": "T4",
      "provenance": []
    },
    "kernelspec": {
      "display_name": "Python 3",
      "name": "python3"
    },
    "language_info": {
      "codemirror_mode": {
        "name": "ipython",
        "version": 3
      },
      "file_extension": ".py",
      "mimetype": "text/x-python",
      "name": "python",
      "nbconvert_exporter": "python",
      "pygments_lexer": "ipython3",
      "version": "3.9.16"
    }
  },
  "nbformat": 4,
  "nbformat_minor": 0
}
