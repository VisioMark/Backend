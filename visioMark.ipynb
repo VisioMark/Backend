{
  "cells": [
    {
      "cell_type": "code",
      "execution_count": 1,
      "metadata": {},
      "outputs": [
        {
          "name": "stderr",
          "output_type": "stream",
          "text": [
            "2023-06-21 01:57:38.842381: I tensorflow/stream_executor/platform/default/dso_loader.cc:49] Successfully opened dynamic library libcudart.so.10.1\n",
            "/home/jhohannes/miniconda3/envs/tf/lib/python3.8/site-packages/tensorflow/python/framework/dtypes.py:513: FutureWarning: In the future `np.object` will be defined as the corresponding NumPy scalar.\n",
            "  np.object,\n"
          ]
        },
        {
          "ename": "AttributeError",
          "evalue": "module 'numpy' has no attribute 'object'.\n`np.object` was a deprecated alias for the builtin `object`. To avoid this error in existing code, use `object` by itself. Doing this will not modify any behavior and is safe. \nThe aliases was originally deprecated in NumPy 1.20; for more details and guidance see the original release note at:\n    https://numpy.org/devdocs/release/1.20.0-notes.html#deprecations",
          "output_type": "error",
          "traceback": [
            "\u001b[0;31m---------------------------------------------------------------------------\u001b[0m",
            "\u001b[0;31mAttributeError\u001b[0m                            Traceback (most recent call last)",
            "Cell \u001b[0;32mIn[1], line 1\u001b[0m\n\u001b[0;32m----> 1\u001b[0m \u001b[39mimport\u001b[39;00m \u001b[39mtensorflow\u001b[39;00m \u001b[39mas\u001b[39;00m \u001b[39mtf\u001b[39;00m\n\u001b[1;32m      2\u001b[0m tf\u001b[39m.\u001b[39mconfig\u001b[39m.\u001b[39mlist_physical_devices(\u001b[39m\"\u001b[39m\u001b[39mGPU\u001b[39m\u001b[39m\"\u001b[39m)\n",
            "File \u001b[0;32m~/miniconda3/envs/tf/lib/python3.8/site-packages/tensorflow/__init__.py:41\u001b[0m\n\u001b[1;32m     38\u001b[0m \u001b[39mimport\u001b[39;00m \u001b[39msix\u001b[39;00m \u001b[39mas\u001b[39;00m \u001b[39m_six\u001b[39;00m\n\u001b[1;32m     39\u001b[0m \u001b[39mimport\u001b[39;00m \u001b[39msys\u001b[39;00m \u001b[39mas\u001b[39;00m \u001b[39m_sys\u001b[39;00m\n\u001b[0;32m---> 41\u001b[0m \u001b[39mfrom\u001b[39;00m \u001b[39mtensorflow\u001b[39;00m\u001b[39m.\u001b[39;00m\u001b[39mpython\u001b[39;00m\u001b[39m.\u001b[39;00m\u001b[39mtools\u001b[39;00m \u001b[39mimport\u001b[39;00m module_util \u001b[39mas\u001b[39;00m _module_util\n\u001b[1;32m     42\u001b[0m \u001b[39mfrom\u001b[39;00m \u001b[39mtensorflow\u001b[39;00m\u001b[39m.\u001b[39;00m\u001b[39mpython\u001b[39;00m\u001b[39m.\u001b[39;00m\u001b[39mutil\u001b[39;00m\u001b[39m.\u001b[39;00m\u001b[39mlazy_loader\u001b[39;00m \u001b[39mimport\u001b[39;00m LazyLoader \u001b[39mas\u001b[39;00m _LazyLoader\n\u001b[1;32m     44\u001b[0m \u001b[39m# Make sure code inside the TensorFlow codebase can use tf2.enabled() at import.\u001b[39;00m\n",
            "File \u001b[0;32m~/miniconda3/envs/tf/lib/python3.8/site-packages/tensorflow/python/__init__.py:46\u001b[0m\n\u001b[1;32m     41\u001b[0m \u001b[39mfrom\u001b[39;00m \u001b[39mtensorflow\u001b[39;00m\u001b[39m.\u001b[39;00m\u001b[39mpython\u001b[39;00m\u001b[39m.\u001b[39;00m\u001b[39meager\u001b[39;00m \u001b[39mimport\u001b[39;00m context\n\u001b[1;32m     43\u001b[0m \u001b[39m# pylint: enable=wildcard-import\u001b[39;00m\n\u001b[1;32m     44\u001b[0m \n\u001b[1;32m     45\u001b[0m \u001b[39m# Bring in subpackages.\u001b[39;00m\n\u001b[0;32m---> 46\u001b[0m \u001b[39mfrom\u001b[39;00m \u001b[39mtensorflow\u001b[39;00m\u001b[39m.\u001b[39;00m\u001b[39mpython\u001b[39;00m \u001b[39mimport\u001b[39;00m data\n\u001b[1;32m     47\u001b[0m \u001b[39mfrom\u001b[39;00m \u001b[39mtensorflow\u001b[39;00m\u001b[39m.\u001b[39;00m\u001b[39mpython\u001b[39;00m \u001b[39mimport\u001b[39;00m distribute\n\u001b[1;32m     48\u001b[0m \u001b[39mfrom\u001b[39;00m \u001b[39mtensorflow\u001b[39;00m\u001b[39m.\u001b[39;00m\u001b[39mpython\u001b[39;00m \u001b[39mimport\u001b[39;00m keras\n",
            "File \u001b[0;32m~/miniconda3/envs/tf/lib/python3.8/site-packages/tensorflow/python/data/__init__.py:25\u001b[0m\n\u001b[1;32m     22\u001b[0m \u001b[39mfrom\u001b[39;00m \u001b[39m__future__\u001b[39;00m \u001b[39mimport\u001b[39;00m print_function\n\u001b[1;32m     24\u001b[0m \u001b[39m# pylint: disable=unused-import\u001b[39;00m\n\u001b[0;32m---> 25\u001b[0m \u001b[39mfrom\u001b[39;00m \u001b[39mtensorflow\u001b[39;00m\u001b[39m.\u001b[39;00m\u001b[39mpython\u001b[39;00m\u001b[39m.\u001b[39;00m\u001b[39mdata\u001b[39;00m \u001b[39mimport\u001b[39;00m experimental\n\u001b[1;32m     26\u001b[0m \u001b[39mfrom\u001b[39;00m \u001b[39mtensorflow\u001b[39;00m\u001b[39m.\u001b[39;00m\u001b[39mpython\u001b[39;00m\u001b[39m.\u001b[39;00m\u001b[39mdata\u001b[39;00m\u001b[39m.\u001b[39;00m\u001b[39mops\u001b[39;00m\u001b[39m.\u001b[39;00m\u001b[39mdataset_ops\u001b[39;00m \u001b[39mimport\u001b[39;00m AUTOTUNE\n\u001b[1;32m     27\u001b[0m \u001b[39mfrom\u001b[39;00m \u001b[39mtensorflow\u001b[39;00m\u001b[39m.\u001b[39;00m\u001b[39mpython\u001b[39;00m\u001b[39m.\u001b[39;00m\u001b[39mdata\u001b[39;00m\u001b[39m.\u001b[39;00m\u001b[39mops\u001b[39;00m\u001b[39m.\u001b[39;00m\u001b[39mdataset_ops\u001b[39;00m \u001b[39mimport\u001b[39;00m Dataset\n",
            "File \u001b[0;32m~/miniconda3/envs/tf/lib/python3.8/site-packages/tensorflow/python/data/experimental/__init__.py:96\u001b[0m\n\u001b[1;32m     93\u001b[0m \u001b[39mfrom\u001b[39;00m \u001b[39m__future__\u001b[39;00m \u001b[39mimport\u001b[39;00m print_function\n\u001b[1;32m     95\u001b[0m \u001b[39m# pylint: disable=unused-import\u001b[39;00m\n\u001b[0;32m---> 96\u001b[0m \u001b[39mfrom\u001b[39;00m \u001b[39mtensorflow\u001b[39;00m\u001b[39m.\u001b[39;00m\u001b[39mpython\u001b[39;00m\u001b[39m.\u001b[39;00m\u001b[39mdata\u001b[39;00m\u001b[39m.\u001b[39;00m\u001b[39mexperimental\u001b[39;00m \u001b[39mimport\u001b[39;00m service\n\u001b[1;32m     97\u001b[0m \u001b[39mfrom\u001b[39;00m \u001b[39mtensorflow\u001b[39;00m\u001b[39m.\u001b[39;00m\u001b[39mpython\u001b[39;00m\u001b[39m.\u001b[39;00m\u001b[39mdata\u001b[39;00m\u001b[39m.\u001b[39;00m\u001b[39mexperimental\u001b[39;00m\u001b[39m.\u001b[39;00m\u001b[39mops\u001b[39;00m\u001b[39m.\u001b[39;00m\u001b[39mbatching\u001b[39;00m \u001b[39mimport\u001b[39;00m dense_to_ragged_batch\n\u001b[1;32m     98\u001b[0m \u001b[39mfrom\u001b[39;00m \u001b[39mtensorflow\u001b[39;00m\u001b[39m.\u001b[39;00m\u001b[39mpython\u001b[39;00m\u001b[39m.\u001b[39;00m\u001b[39mdata\u001b[39;00m\u001b[39m.\u001b[39;00m\u001b[39mexperimental\u001b[39;00m\u001b[39m.\u001b[39;00m\u001b[39mops\u001b[39;00m\u001b[39m.\u001b[39;00m\u001b[39mbatching\u001b[39;00m \u001b[39mimport\u001b[39;00m dense_to_sparse_batch\n",
            "File \u001b[0;32m~/miniconda3/envs/tf/lib/python3.8/site-packages/tensorflow/python/data/experimental/service/__init__.py:140\u001b[0m\n\u001b[1;32m    137\u001b[0m \u001b[39mfrom\u001b[39;00m \u001b[39m__future__\u001b[39;00m \u001b[39mimport\u001b[39;00m division\n\u001b[1;32m    138\u001b[0m \u001b[39mfrom\u001b[39;00m \u001b[39m__future__\u001b[39;00m \u001b[39mimport\u001b[39;00m print_function\n\u001b[0;32m--> 140\u001b[0m \u001b[39mfrom\u001b[39;00m \u001b[39mtensorflow\u001b[39;00m\u001b[39m.\u001b[39;00m\u001b[39mpython\u001b[39;00m\u001b[39m.\u001b[39;00m\u001b[39mdata\u001b[39;00m\u001b[39m.\u001b[39;00m\u001b[39mexperimental\u001b[39;00m\u001b[39m.\u001b[39;00m\u001b[39mops\u001b[39;00m\u001b[39m.\u001b[39;00m\u001b[39mdata_service_ops\u001b[39;00m \u001b[39mimport\u001b[39;00m distribute\n\u001b[1;32m    141\u001b[0m \u001b[39mfrom\u001b[39;00m \u001b[39mtensorflow\u001b[39;00m\u001b[39m.\u001b[39;00m\u001b[39mpython\u001b[39;00m\u001b[39m.\u001b[39;00m\u001b[39mdata\u001b[39;00m\u001b[39m.\u001b[39;00m\u001b[39mexperimental\u001b[39;00m\u001b[39m.\u001b[39;00m\u001b[39mops\u001b[39;00m\u001b[39m.\u001b[39;00m\u001b[39mdata_service_ops\u001b[39;00m \u001b[39mimport\u001b[39;00m from_dataset_id\n\u001b[1;32m    142\u001b[0m \u001b[39mfrom\u001b[39;00m \u001b[39mtensorflow\u001b[39;00m\u001b[39m.\u001b[39;00m\u001b[39mpython\u001b[39;00m\u001b[39m.\u001b[39;00m\u001b[39mdata\u001b[39;00m\u001b[39m.\u001b[39;00m\u001b[39mexperimental\u001b[39;00m\u001b[39m.\u001b[39;00m\u001b[39mops\u001b[39;00m\u001b[39m.\u001b[39;00m\u001b[39mdata_service_ops\u001b[39;00m \u001b[39mimport\u001b[39;00m register_dataset\n",
            "File \u001b[0;32m~/miniconda3/envs/tf/lib/python3.8/site-packages/tensorflow/python/data/experimental/ops/data_service_ops.py:25\u001b[0m\n\u001b[1;32m     22\u001b[0m \u001b[39mimport\u001b[39;00m \u001b[39msix\u001b[39;00m\n\u001b[1;32m     24\u001b[0m \u001b[39mfrom\u001b[39;00m \u001b[39mtensorflow\u001b[39;00m\u001b[39m.\u001b[39;00m\u001b[39mpython\u001b[39;00m \u001b[39mimport\u001b[39;00m tf2\n\u001b[0;32m---> 25\u001b[0m \u001b[39mfrom\u001b[39;00m \u001b[39mtensorflow\u001b[39;00m\u001b[39m.\u001b[39;00m\u001b[39mpython\u001b[39;00m\u001b[39m.\u001b[39;00m\u001b[39mdata\u001b[39;00m\u001b[39m.\u001b[39;00m\u001b[39mexperimental\u001b[39;00m\u001b[39m.\u001b[39;00m\u001b[39mops\u001b[39;00m \u001b[39mimport\u001b[39;00m compression_ops\n\u001b[1;32m     26\u001b[0m \u001b[39mfrom\u001b[39;00m \u001b[39mtensorflow\u001b[39;00m\u001b[39m.\u001b[39;00m\u001b[39mpython\u001b[39;00m\u001b[39m.\u001b[39;00m\u001b[39mdata\u001b[39;00m\u001b[39m.\u001b[39;00m\u001b[39mexperimental\u001b[39;00m\u001b[39m.\u001b[39;00m\u001b[39mops\u001b[39;00m\u001b[39m.\u001b[39;00m\u001b[39mdistribute_options\u001b[39;00m \u001b[39mimport\u001b[39;00m AutoShardPolicy\n\u001b[1;32m     27\u001b[0m \u001b[39mfrom\u001b[39;00m \u001b[39mtensorflow\u001b[39;00m\u001b[39m.\u001b[39;00m\u001b[39mpython\u001b[39;00m\u001b[39m.\u001b[39;00m\u001b[39mdata\u001b[39;00m\u001b[39m.\u001b[39;00m\u001b[39mexperimental\u001b[39;00m\u001b[39m.\u001b[39;00m\u001b[39mops\u001b[39;00m\u001b[39m.\u001b[39;00m\u001b[39mdistribute_options\u001b[39;00m \u001b[39mimport\u001b[39;00m ExternalStatePolicy\n",
            "File \u001b[0;32m~/miniconda3/envs/tf/lib/python3.8/site-packages/tensorflow/python/data/experimental/ops/compression_ops.py:20\u001b[0m\n\u001b[1;32m     17\u001b[0m \u001b[39mfrom\u001b[39;00m \u001b[39m__future__\u001b[39;00m \u001b[39mimport\u001b[39;00m division\n\u001b[1;32m     18\u001b[0m \u001b[39mfrom\u001b[39;00m \u001b[39m__future__\u001b[39;00m \u001b[39mimport\u001b[39;00m print_function\n\u001b[0;32m---> 20\u001b[0m \u001b[39mfrom\u001b[39;00m \u001b[39mtensorflow\u001b[39;00m\u001b[39m.\u001b[39;00m\u001b[39mpython\u001b[39;00m\u001b[39m.\u001b[39;00m\u001b[39mdata\u001b[39;00m\u001b[39m.\u001b[39;00m\u001b[39mutil\u001b[39;00m \u001b[39mimport\u001b[39;00m structure\n\u001b[1;32m     21\u001b[0m \u001b[39mfrom\u001b[39;00m \u001b[39mtensorflow\u001b[39;00m\u001b[39m.\u001b[39;00m\u001b[39mpython\u001b[39;00m\u001b[39m.\u001b[39;00m\u001b[39mops\u001b[39;00m \u001b[39mimport\u001b[39;00m gen_experimental_dataset_ops \u001b[39mas\u001b[39;00m ged_ops\n\u001b[1;32m     24\u001b[0m \u001b[39mdef\u001b[39;00m \u001b[39mcompress\u001b[39m(element):\n",
            "File \u001b[0;32m~/miniconda3/envs/tf/lib/python3.8/site-packages/tensorflow/python/data/util/structure.py:26\u001b[0m\n\u001b[1;32m     23\u001b[0m \u001b[39mimport\u001b[39;00m \u001b[39msix\u001b[39;00m\n\u001b[1;32m     24\u001b[0m \u001b[39mimport\u001b[39;00m \u001b[39mwrapt\u001b[39;00m\n\u001b[0;32m---> 26\u001b[0m \u001b[39mfrom\u001b[39;00m \u001b[39mtensorflow\u001b[39;00m\u001b[39m.\u001b[39;00m\u001b[39mpython\u001b[39;00m\u001b[39m.\u001b[39;00m\u001b[39mdata\u001b[39;00m\u001b[39m.\u001b[39;00m\u001b[39mutil\u001b[39;00m \u001b[39mimport\u001b[39;00m nest\n\u001b[1;32m     27\u001b[0m \u001b[39mfrom\u001b[39;00m \u001b[39mtensorflow\u001b[39;00m\u001b[39m.\u001b[39;00m\u001b[39mpython\u001b[39;00m\u001b[39m.\u001b[39;00m\u001b[39mframework\u001b[39;00m \u001b[39mimport\u001b[39;00m composite_tensor\n\u001b[1;32m     28\u001b[0m \u001b[39mfrom\u001b[39;00m \u001b[39mtensorflow\u001b[39;00m\u001b[39m.\u001b[39;00m\u001b[39mpython\u001b[39;00m\u001b[39m.\u001b[39;00m\u001b[39mframework\u001b[39;00m \u001b[39mimport\u001b[39;00m ops\n",
            "File \u001b[0;32m~/miniconda3/envs/tf/lib/python3.8/site-packages/tensorflow/python/data/util/nest.py:41\u001b[0m\n\u001b[1;32m     38\u001b[0m \u001b[39mimport\u001b[39;00m \u001b[39msix\u001b[39;00m \u001b[39mas\u001b[39;00m \u001b[39m_six\u001b[39;00m\n\u001b[1;32m     40\u001b[0m \u001b[39mfrom\u001b[39;00m \u001b[39mtensorflow\u001b[39;00m\u001b[39m.\u001b[39;00m\u001b[39mpython\u001b[39;00m \u001b[39mimport\u001b[39;00m _pywrap_utils\n\u001b[0;32m---> 41\u001b[0m \u001b[39mfrom\u001b[39;00m \u001b[39mtensorflow\u001b[39;00m\u001b[39m.\u001b[39;00m\u001b[39mpython\u001b[39;00m\u001b[39m.\u001b[39;00m\u001b[39mframework\u001b[39;00m \u001b[39mimport\u001b[39;00m sparse_tensor \u001b[39mas\u001b[39;00m _sparse_tensor\n\u001b[1;32m     42\u001b[0m \u001b[39mfrom\u001b[39;00m \u001b[39mtensorflow\u001b[39;00m\u001b[39m.\u001b[39;00m\u001b[39mpython\u001b[39;00m\u001b[39m.\u001b[39;00m\u001b[39mutil\u001b[39;00m\u001b[39m.\u001b[39;00m\u001b[39mcompat\u001b[39;00m \u001b[39mimport\u001b[39;00m collections_abc \u001b[39mas\u001b[39;00m _collections_abc\n\u001b[1;32m     45\u001b[0m \u001b[39mdef\u001b[39;00m \u001b[39m_sorted\u001b[39m(dict_):\n",
            "File \u001b[0;32m~/miniconda3/envs/tf/lib/python3.8/site-packages/tensorflow/python/framework/sparse_tensor.py:29\u001b[0m\n\u001b[1;32m     27\u001b[0m \u001b[39mfrom\u001b[39;00m \u001b[39mtensorflow\u001b[39;00m\u001b[39m.\u001b[39;00m\u001b[39mpython\u001b[39;00m \u001b[39mimport\u001b[39;00m tf2\n\u001b[1;32m     28\u001b[0m \u001b[39mfrom\u001b[39;00m \u001b[39mtensorflow\u001b[39;00m\u001b[39m.\u001b[39;00m\u001b[39mpython\u001b[39;00m\u001b[39m.\u001b[39;00m\u001b[39mframework\u001b[39;00m \u001b[39mimport\u001b[39;00m composite_tensor\n\u001b[0;32m---> 29\u001b[0m \u001b[39mfrom\u001b[39;00m \u001b[39mtensorflow\u001b[39;00m\u001b[39m.\u001b[39;00m\u001b[39mpython\u001b[39;00m\u001b[39m.\u001b[39;00m\u001b[39mframework\u001b[39;00m \u001b[39mimport\u001b[39;00m constant_op\n\u001b[1;32m     30\u001b[0m \u001b[39mfrom\u001b[39;00m \u001b[39mtensorflow\u001b[39;00m\u001b[39m.\u001b[39;00m\u001b[39mpython\u001b[39;00m\u001b[39m.\u001b[39;00m\u001b[39mframework\u001b[39;00m \u001b[39mimport\u001b[39;00m dtypes\n\u001b[1;32m     31\u001b[0m \u001b[39mfrom\u001b[39;00m \u001b[39mtensorflow\u001b[39;00m\u001b[39m.\u001b[39;00m\u001b[39mpython\u001b[39;00m\u001b[39m.\u001b[39;00m\u001b[39mframework\u001b[39;00m \u001b[39mimport\u001b[39;00m ops\n",
            "File \u001b[0;32m~/miniconda3/envs/tf/lib/python3.8/site-packages/tensorflow/python/framework/constant_op.py:29\u001b[0m\n\u001b[1;32m     27\u001b[0m \u001b[39mfrom\u001b[39;00m \u001b[39mtensorflow\u001b[39;00m\u001b[39m.\u001b[39;00m\u001b[39mcore\u001b[39;00m\u001b[39m.\u001b[39;00m\u001b[39mframework\u001b[39;00m \u001b[39mimport\u001b[39;00m types_pb2\n\u001b[1;32m     28\u001b[0m \u001b[39mfrom\u001b[39;00m \u001b[39mtensorflow\u001b[39;00m\u001b[39m.\u001b[39;00m\u001b[39mpython\u001b[39;00m\u001b[39m.\u001b[39;00m\u001b[39meager\u001b[39;00m \u001b[39mimport\u001b[39;00m context\n\u001b[0;32m---> 29\u001b[0m \u001b[39mfrom\u001b[39;00m \u001b[39mtensorflow\u001b[39;00m\u001b[39m.\u001b[39;00m\u001b[39mpython\u001b[39;00m\u001b[39m.\u001b[39;00m\u001b[39meager\u001b[39;00m \u001b[39mimport\u001b[39;00m execute\n\u001b[1;32m     30\u001b[0m \u001b[39mfrom\u001b[39;00m \u001b[39mtensorflow\u001b[39;00m\u001b[39m.\u001b[39;00m\u001b[39mpython\u001b[39;00m\u001b[39m.\u001b[39;00m\u001b[39mframework\u001b[39;00m \u001b[39mimport\u001b[39;00m dtypes\n\u001b[1;32m     31\u001b[0m \u001b[39mfrom\u001b[39;00m \u001b[39mtensorflow\u001b[39;00m\u001b[39m.\u001b[39;00m\u001b[39mpython\u001b[39;00m\u001b[39m.\u001b[39;00m\u001b[39mframework\u001b[39;00m \u001b[39mimport\u001b[39;00m op_callbacks\n",
            "File \u001b[0;32m~/miniconda3/envs/tf/lib/python3.8/site-packages/tensorflow/python/eager/execute.py:27\u001b[0m\n\u001b[1;32m     25\u001b[0m \u001b[39mfrom\u001b[39;00m \u001b[39mtensorflow\u001b[39;00m\u001b[39m.\u001b[39;00m\u001b[39mpython\u001b[39;00m \u001b[39mimport\u001b[39;00m pywrap_tfe\n\u001b[1;32m     26\u001b[0m \u001b[39mfrom\u001b[39;00m \u001b[39mtensorflow\u001b[39;00m\u001b[39m.\u001b[39;00m\u001b[39mpython\u001b[39;00m\u001b[39m.\u001b[39;00m\u001b[39meager\u001b[39;00m \u001b[39mimport\u001b[39;00m core\n\u001b[0;32m---> 27\u001b[0m \u001b[39mfrom\u001b[39;00m \u001b[39mtensorflow\u001b[39;00m\u001b[39m.\u001b[39;00m\u001b[39mpython\u001b[39;00m\u001b[39m.\u001b[39;00m\u001b[39mframework\u001b[39;00m \u001b[39mimport\u001b[39;00m dtypes\n\u001b[1;32m     28\u001b[0m \u001b[39mfrom\u001b[39;00m \u001b[39mtensorflow\u001b[39;00m\u001b[39m.\u001b[39;00m\u001b[39mpython\u001b[39;00m\u001b[39m.\u001b[39;00m\u001b[39mframework\u001b[39;00m \u001b[39mimport\u001b[39;00m ops\n\u001b[1;32m     29\u001b[0m \u001b[39mfrom\u001b[39;00m \u001b[39mtensorflow\u001b[39;00m\u001b[39m.\u001b[39;00m\u001b[39mpython\u001b[39;00m\u001b[39m.\u001b[39;00m\u001b[39mframework\u001b[39;00m \u001b[39mimport\u001b[39;00m tensor_shape\n",
            "File \u001b[0;32m~/miniconda3/envs/tf/lib/python3.8/site-packages/tensorflow/python/framework/dtypes.py:513\u001b[0m\n\u001b[1;32m    482\u001b[0m     _NP_TO_TF[pdt] \u001b[39m=\u001b[39m \u001b[39mnext\u001b[39m(\n\u001b[1;32m    483\u001b[0m         _NP_TO_TF[dt] \u001b[39mfor\u001b[39;00m dt \u001b[39min\u001b[39;00m _NP_TO_TF \u001b[39mif\u001b[39;00m dt \u001b[39m==\u001b[39m pdt()\u001b[39m.\u001b[39mdtype)\n\u001b[1;32m    486\u001b[0m TF_VALUE_DTYPES \u001b[39m=\u001b[39m \u001b[39mset\u001b[39m(_NP_TO_TF\u001b[39m.\u001b[39mvalues())\n\u001b[1;32m    489\u001b[0m _TF_TO_NP \u001b[39m=\u001b[39m {\n\u001b[1;32m    490\u001b[0m     types_pb2\u001b[39m.\u001b[39mDT_HALF:\n\u001b[1;32m    491\u001b[0m         np\u001b[39m.\u001b[39mfloat16,\n\u001b[1;32m    492\u001b[0m     types_pb2\u001b[39m.\u001b[39mDT_FLOAT:\n\u001b[1;32m    493\u001b[0m         np\u001b[39m.\u001b[39mfloat32,\n\u001b[1;32m    494\u001b[0m     types_pb2\u001b[39m.\u001b[39mDT_DOUBLE:\n\u001b[1;32m    495\u001b[0m         np\u001b[39m.\u001b[39mfloat64,\n\u001b[1;32m    496\u001b[0m     types_pb2\u001b[39m.\u001b[39mDT_INT32:\n\u001b[1;32m    497\u001b[0m         np\u001b[39m.\u001b[39mint32,\n\u001b[1;32m    498\u001b[0m     types_pb2\u001b[39m.\u001b[39mDT_UINT8:\n\u001b[1;32m    499\u001b[0m         np\u001b[39m.\u001b[39muint8,\n\u001b[1;32m    500\u001b[0m     types_pb2\u001b[39m.\u001b[39mDT_UINT16:\n\u001b[1;32m    501\u001b[0m         np\u001b[39m.\u001b[39muint16,\n\u001b[1;32m    502\u001b[0m     types_pb2\u001b[39m.\u001b[39mDT_UINT32:\n\u001b[1;32m    503\u001b[0m         np\u001b[39m.\u001b[39muint32,\n\u001b[1;32m    504\u001b[0m     types_pb2\u001b[39m.\u001b[39mDT_UINT64:\n\u001b[1;32m    505\u001b[0m         np\u001b[39m.\u001b[39muint64,\n\u001b[1;32m    506\u001b[0m     types_pb2\u001b[39m.\u001b[39mDT_INT16:\n\u001b[1;32m    507\u001b[0m         np\u001b[39m.\u001b[39mint16,\n\u001b[1;32m    508\u001b[0m     types_pb2\u001b[39m.\u001b[39mDT_INT8:\n\u001b[1;32m    509\u001b[0m         np\u001b[39m.\u001b[39mint8,\n\u001b[1;32m    510\u001b[0m     \u001b[39m# NOTE(touts): For strings we use np.object as it supports variable length\u001b[39;00m\n\u001b[1;32m    511\u001b[0m     \u001b[39m# strings.\u001b[39;00m\n\u001b[1;32m    512\u001b[0m     types_pb2\u001b[39m.\u001b[39mDT_STRING:\n\u001b[0;32m--> 513\u001b[0m         np\u001b[39m.\u001b[39;49mobject,\n\u001b[1;32m    514\u001b[0m     types_pb2\u001b[39m.\u001b[39mDT_COMPLEX64:\n\u001b[1;32m    515\u001b[0m         np\u001b[39m.\u001b[39mcomplex64,\n\u001b[1;32m    516\u001b[0m     types_pb2\u001b[39m.\u001b[39mDT_COMPLEX128:\n\u001b[1;32m    517\u001b[0m         np\u001b[39m.\u001b[39mcomplex128,\n\u001b[1;32m    518\u001b[0m     types_pb2\u001b[39m.\u001b[39mDT_INT64:\n\u001b[1;32m    519\u001b[0m         np\u001b[39m.\u001b[39mint64,\n\u001b[1;32m    520\u001b[0m     types_pb2\u001b[39m.\u001b[39mDT_BOOL:\n\u001b[1;32m    521\u001b[0m         np\u001b[39m.\u001b[39mbool,\n\u001b[1;32m    522\u001b[0m     types_pb2\u001b[39m.\u001b[39mDT_QINT8:\n\u001b[1;32m    523\u001b[0m         _np_qint8,\n\u001b[1;32m    524\u001b[0m     types_pb2\u001b[39m.\u001b[39mDT_QUINT8:\n\u001b[1;32m    525\u001b[0m         _np_quint8,\n\u001b[1;32m    526\u001b[0m     types_pb2\u001b[39m.\u001b[39mDT_QINT16:\n\u001b[1;32m    527\u001b[0m         _np_qint16,\n\u001b[1;32m    528\u001b[0m     types_pb2\u001b[39m.\u001b[39mDT_QUINT16:\n\u001b[1;32m    529\u001b[0m         _np_quint16,\n\u001b[1;32m    530\u001b[0m     types_pb2\u001b[39m.\u001b[39mDT_QINT32:\n\u001b[1;32m    531\u001b[0m         _np_qint32,\n\u001b[1;32m    532\u001b[0m     types_pb2\u001b[39m.\u001b[39mDT_BFLOAT16:\n\u001b[1;32m    533\u001b[0m         _np_bfloat16,\n\u001b[1;32m    534\u001b[0m \n\u001b[1;32m    535\u001b[0m     \u001b[39m# Ref types\u001b[39;00m\n\u001b[1;32m    536\u001b[0m     types_pb2\u001b[39m.\u001b[39mDT_HALF_REF:\n\u001b[1;32m    537\u001b[0m         np\u001b[39m.\u001b[39mfloat16,\n\u001b[1;32m    538\u001b[0m     types_pb2\u001b[39m.\u001b[39mDT_FLOAT_REF:\n\u001b[1;32m    539\u001b[0m         np\u001b[39m.\u001b[39mfloat32,\n\u001b[1;32m    540\u001b[0m     types_pb2\u001b[39m.\u001b[39mDT_DOUBLE_REF:\n\u001b[1;32m    541\u001b[0m         np\u001b[39m.\u001b[39mfloat64,\n\u001b[1;32m    542\u001b[0m     types_pb2\u001b[39m.\u001b[39mDT_INT32_REF:\n\u001b[1;32m    543\u001b[0m         np\u001b[39m.\u001b[39mint32,\n\u001b[1;32m    544\u001b[0m     types_pb2\u001b[39m.\u001b[39mDT_UINT32_REF:\n\u001b[1;32m    545\u001b[0m         np\u001b[39m.\u001b[39muint32,\n\u001b[1;32m    546\u001b[0m     types_pb2\u001b[39m.\u001b[39mDT_UINT8_REF:\n\u001b[1;32m    547\u001b[0m         np\u001b[39m.\u001b[39muint8,\n\u001b[1;32m    548\u001b[0m     types_pb2\u001b[39m.\u001b[39mDT_UINT16_REF:\n\u001b[1;32m    549\u001b[0m         np\u001b[39m.\u001b[39muint16,\n\u001b[1;32m    550\u001b[0m     types_pb2\u001b[39m.\u001b[39mDT_INT16_REF:\n\u001b[1;32m    551\u001b[0m         np\u001b[39m.\u001b[39mint16,\n\u001b[1;32m    552\u001b[0m     types_pb2\u001b[39m.\u001b[39mDT_INT8_REF:\n\u001b[1;32m    553\u001b[0m         np\u001b[39m.\u001b[39mint8,\n\u001b[1;32m    554\u001b[0m     types_pb2\u001b[39m.\u001b[39mDT_STRING_REF:\n\u001b[1;32m    555\u001b[0m         np\u001b[39m.\u001b[39mobject,\n\u001b[1;32m    556\u001b[0m     types_pb2\u001b[39m.\u001b[39mDT_COMPLEX64_REF:\n\u001b[1;32m    557\u001b[0m         np\u001b[39m.\u001b[39mcomplex64,\n\u001b[1;32m    558\u001b[0m     types_pb2\u001b[39m.\u001b[39mDT_COMPLEX128_REF:\n\u001b[1;32m    559\u001b[0m         np\u001b[39m.\u001b[39mcomplex128,\n\u001b[1;32m    560\u001b[0m     types_pb2\u001b[39m.\u001b[39mDT_INT64_REF:\n\u001b[1;32m    561\u001b[0m         np\u001b[39m.\u001b[39mint64,\n\u001b[1;32m    562\u001b[0m     types_pb2\u001b[39m.\u001b[39mDT_UINT64_REF:\n\u001b[1;32m    563\u001b[0m         np\u001b[39m.\u001b[39muint64,\n\u001b[1;32m    564\u001b[0m     types_pb2\u001b[39m.\u001b[39mDT_BOOL_REF:\n\u001b[1;32m    565\u001b[0m         np\u001b[39m.\u001b[39mbool,\n\u001b[1;32m    566\u001b[0m     types_pb2\u001b[39m.\u001b[39mDT_QINT8_REF:\n\u001b[1;32m    567\u001b[0m         _np_qint8,\n\u001b[1;32m    568\u001b[0m     types_pb2\u001b[39m.\u001b[39mDT_QUINT8_REF:\n\u001b[1;32m    569\u001b[0m         _np_quint8,\n\u001b[1;32m    570\u001b[0m     types_pb2\u001b[39m.\u001b[39mDT_QINT16_REF:\n\u001b[1;32m    571\u001b[0m         _np_qint16,\n\u001b[1;32m    572\u001b[0m     types_pb2\u001b[39m.\u001b[39mDT_QUINT16_REF:\n\u001b[1;32m    573\u001b[0m         _np_quint16,\n\u001b[1;32m    574\u001b[0m     types_pb2\u001b[39m.\u001b[39mDT_QINT32_REF:\n\u001b[1;32m    575\u001b[0m         _np_qint32,\n\u001b[1;32m    576\u001b[0m     types_pb2\u001b[39m.\u001b[39mDT_BFLOAT16_REF:\n\u001b[1;32m    577\u001b[0m         _np_bfloat16,\n\u001b[1;32m    578\u001b[0m }\n\u001b[1;32m    580\u001b[0m _QUANTIZED_DTYPES_NO_REF \u001b[39m=\u001b[39m \u001b[39mfrozenset\u001b[39m([qint8, quint8, qint16, quint16, qint32])\n\u001b[1;32m    581\u001b[0m _QUANTIZED_DTYPES_REF \u001b[39m=\u001b[39m \u001b[39mfrozenset\u001b[39m(\n\u001b[1;32m    582\u001b[0m     [qint8_ref, quint8_ref, qint16_ref, quint16_ref, qint32_ref])\n",
            "File \u001b[0;32m~/miniconda3/envs/tf/lib/python3.8/site-packages/numpy/__init__.py:305\u001b[0m, in \u001b[0;36m__getattr__\u001b[0;34m(attr)\u001b[0m\n\u001b[1;32m    300\u001b[0m     warnings\u001b[39m.\u001b[39mwarn(\n\u001b[1;32m    301\u001b[0m         \u001b[39mf\u001b[39m\u001b[39m\"\u001b[39m\u001b[39mIn the future `np.\u001b[39m\u001b[39m{\u001b[39;00mattr\u001b[39m}\u001b[39;00m\u001b[39m` will be defined as the \u001b[39m\u001b[39m\"\u001b[39m\n\u001b[1;32m    302\u001b[0m         \u001b[39m\"\u001b[39m\u001b[39mcorresponding NumPy scalar.\u001b[39m\u001b[39m\"\u001b[39m, \u001b[39mFutureWarning\u001b[39;00m, stacklevel\u001b[39m=\u001b[39m\u001b[39m2\u001b[39m)\n\u001b[1;32m    304\u001b[0m \u001b[39mif\u001b[39;00m attr \u001b[39min\u001b[39;00m __former_attrs__:\n\u001b[0;32m--> 305\u001b[0m     \u001b[39mraise\u001b[39;00m \u001b[39mAttributeError\u001b[39;00m(__former_attrs__[attr])\n\u001b[1;32m    307\u001b[0m \u001b[39m# Importing Tester requires importing all of UnitTest which is not a\u001b[39;00m\n\u001b[1;32m    308\u001b[0m \u001b[39m# cheap import Since it is mainly used in test suits, we lazy import it\u001b[39;00m\n\u001b[1;32m    309\u001b[0m \u001b[39m# here to save on the order of 10 ms of import time for most users\u001b[39;00m\n\u001b[1;32m    310\u001b[0m \u001b[39m#\u001b[39;00m\n\u001b[1;32m    311\u001b[0m \u001b[39m# The previous way Tester was imported also had a side effect of adding\u001b[39;00m\n\u001b[1;32m    312\u001b[0m \u001b[39m# the full `numpy.testing` namespace\u001b[39;00m\n\u001b[1;32m    313\u001b[0m \u001b[39mif\u001b[39;00m attr \u001b[39m==\u001b[39m \u001b[39m'\u001b[39m\u001b[39mtesting\u001b[39m\u001b[39m'\u001b[39m:\n",
            "\u001b[0;31mAttributeError\u001b[0m: module 'numpy' has no attribute 'object'.\n`np.object` was a deprecated alias for the builtin `object`. To avoid this error in existing code, use `object` by itself. Doing this will not modify any behavior and is safe. \nThe aliases was originally deprecated in NumPy 1.20; for more details and guidance see the original release note at:\n    https://numpy.org/devdocs/release/1.20.0-notes.html#deprecations"
          ]
        }
      ],
      "source": [
        "import tensorflow as tf\n",
        "tf.config.list_physical_devices(\"GPU\")"
      ]
    },
    {
      "cell_type": "code",
      "execution_count": 2,
      "metadata": {
        "id": "KQLPRzaFjiZk"
      },
      "outputs": [
        {
          "name": "stderr",
          "output_type": "stream",
          "text": [
            "/home/jhohannes/miniconda3/envs/tf/lib/python3.8/site-packages/tensorflow/python/framework/dtypes.py:513: FutureWarning: In the future `np.object` will be defined as the corresponding NumPy scalar.\n",
            "  np.object,\n"
          ]
        },
        {
          "ename": "AttributeError",
          "evalue": "module 'numpy' has no attribute 'object'.\n`np.object` was a deprecated alias for the builtin `object`. To avoid this error in existing code, use `object` by itself. Doing this will not modify any behavior and is safe. \nThe aliases was originally deprecated in NumPy 1.20; for more details and guidance see the original release note at:\n    https://numpy.org/devdocs/release/1.20.0-notes.html#deprecations",
          "output_type": "error",
          "traceback": [
            "\u001b[0;31m---------------------------------------------------------------------------\u001b[0m",
            "\u001b[0;31mAttributeError\u001b[0m                            Traceback (most recent call last)",
            "Cell \u001b[0;32mIn[2], line 1\u001b[0m\n\u001b[0;32m----> 1\u001b[0m \u001b[39mimport\u001b[39;00m \u001b[39mtensorflow\u001b[39;00m \u001b[39mas\u001b[39;00m \u001b[39mtf\u001b[39;00m\n\u001b[1;32m      2\u001b[0m \u001b[39mfrom\u001b[39;00m \u001b[39mkeras\u001b[39;00m\u001b[39m.\u001b[39;00m\u001b[39mmodels\u001b[39;00m \u001b[39mimport\u001b[39;00m Sequential\n\u001b[1;32m      3\u001b[0m \u001b[39mfrom\u001b[39;00m \u001b[39mkeras\u001b[39;00m\u001b[39m.\u001b[39;00m\u001b[39mlayers\u001b[39;00m \u001b[39mimport\u001b[39;00m Dense, Dropout, Flatten, Conv2D, MaxPooling2D, Activation\n",
            "File \u001b[0;32m~/miniconda3/envs/tf/lib/python3.8/site-packages/tensorflow/__init__.py:41\u001b[0m\n\u001b[1;32m     38\u001b[0m \u001b[39mimport\u001b[39;00m \u001b[39msix\u001b[39;00m \u001b[39mas\u001b[39;00m \u001b[39m_six\u001b[39;00m\n\u001b[1;32m     39\u001b[0m \u001b[39mimport\u001b[39;00m \u001b[39msys\u001b[39;00m \u001b[39mas\u001b[39;00m \u001b[39m_sys\u001b[39;00m\n\u001b[0;32m---> 41\u001b[0m \u001b[39mfrom\u001b[39;00m \u001b[39mtensorflow\u001b[39;00m\u001b[39m.\u001b[39;00m\u001b[39mpython\u001b[39;00m\u001b[39m.\u001b[39;00m\u001b[39mtools\u001b[39;00m \u001b[39mimport\u001b[39;00m module_util \u001b[39mas\u001b[39;00m _module_util\n\u001b[1;32m     42\u001b[0m \u001b[39mfrom\u001b[39;00m \u001b[39mtensorflow\u001b[39;00m\u001b[39m.\u001b[39;00m\u001b[39mpython\u001b[39;00m\u001b[39m.\u001b[39;00m\u001b[39mutil\u001b[39;00m\u001b[39m.\u001b[39;00m\u001b[39mlazy_loader\u001b[39;00m \u001b[39mimport\u001b[39;00m LazyLoader \u001b[39mas\u001b[39;00m _LazyLoader\n\u001b[1;32m     44\u001b[0m \u001b[39m# Make sure code inside the TensorFlow codebase can use tf2.enabled() at import.\u001b[39;00m\n",
            "File \u001b[0;32m~/miniconda3/envs/tf/lib/python3.8/site-packages/tensorflow/python/__init__.py:46\u001b[0m\n\u001b[1;32m     41\u001b[0m \u001b[39mfrom\u001b[39;00m \u001b[39mtensorflow\u001b[39;00m\u001b[39m.\u001b[39;00m\u001b[39mpython\u001b[39;00m\u001b[39m.\u001b[39;00m\u001b[39meager\u001b[39;00m \u001b[39mimport\u001b[39;00m context\n\u001b[1;32m     43\u001b[0m \u001b[39m# pylint: enable=wildcard-import\u001b[39;00m\n\u001b[1;32m     44\u001b[0m \n\u001b[1;32m     45\u001b[0m \u001b[39m# Bring in subpackages.\u001b[39;00m\n\u001b[0;32m---> 46\u001b[0m \u001b[39mfrom\u001b[39;00m \u001b[39mtensorflow\u001b[39;00m\u001b[39m.\u001b[39;00m\u001b[39mpython\u001b[39;00m \u001b[39mimport\u001b[39;00m data\n\u001b[1;32m     47\u001b[0m \u001b[39mfrom\u001b[39;00m \u001b[39mtensorflow\u001b[39;00m\u001b[39m.\u001b[39;00m\u001b[39mpython\u001b[39;00m \u001b[39mimport\u001b[39;00m distribute\n\u001b[1;32m     48\u001b[0m \u001b[39mfrom\u001b[39;00m \u001b[39mtensorflow\u001b[39;00m\u001b[39m.\u001b[39;00m\u001b[39mpython\u001b[39;00m \u001b[39mimport\u001b[39;00m keras\n",
            "File \u001b[0;32m~/miniconda3/envs/tf/lib/python3.8/site-packages/tensorflow/python/data/__init__.py:25\u001b[0m\n\u001b[1;32m     22\u001b[0m \u001b[39mfrom\u001b[39;00m \u001b[39m__future__\u001b[39;00m \u001b[39mimport\u001b[39;00m print_function\n\u001b[1;32m     24\u001b[0m \u001b[39m# pylint: disable=unused-import\u001b[39;00m\n\u001b[0;32m---> 25\u001b[0m \u001b[39mfrom\u001b[39;00m \u001b[39mtensorflow\u001b[39;00m\u001b[39m.\u001b[39;00m\u001b[39mpython\u001b[39;00m\u001b[39m.\u001b[39;00m\u001b[39mdata\u001b[39;00m \u001b[39mimport\u001b[39;00m experimental\n\u001b[1;32m     26\u001b[0m \u001b[39mfrom\u001b[39;00m \u001b[39mtensorflow\u001b[39;00m\u001b[39m.\u001b[39;00m\u001b[39mpython\u001b[39;00m\u001b[39m.\u001b[39;00m\u001b[39mdata\u001b[39;00m\u001b[39m.\u001b[39;00m\u001b[39mops\u001b[39;00m\u001b[39m.\u001b[39;00m\u001b[39mdataset_ops\u001b[39;00m \u001b[39mimport\u001b[39;00m AUTOTUNE\n\u001b[1;32m     27\u001b[0m \u001b[39mfrom\u001b[39;00m \u001b[39mtensorflow\u001b[39;00m\u001b[39m.\u001b[39;00m\u001b[39mpython\u001b[39;00m\u001b[39m.\u001b[39;00m\u001b[39mdata\u001b[39;00m\u001b[39m.\u001b[39;00m\u001b[39mops\u001b[39;00m\u001b[39m.\u001b[39;00m\u001b[39mdataset_ops\u001b[39;00m \u001b[39mimport\u001b[39;00m Dataset\n",
            "File \u001b[0;32m~/miniconda3/envs/tf/lib/python3.8/site-packages/tensorflow/python/data/experimental/__init__.py:96\u001b[0m\n\u001b[1;32m     93\u001b[0m \u001b[39mfrom\u001b[39;00m \u001b[39m__future__\u001b[39;00m \u001b[39mimport\u001b[39;00m print_function\n\u001b[1;32m     95\u001b[0m \u001b[39m# pylint: disable=unused-import\u001b[39;00m\n\u001b[0;32m---> 96\u001b[0m \u001b[39mfrom\u001b[39;00m \u001b[39mtensorflow\u001b[39;00m\u001b[39m.\u001b[39;00m\u001b[39mpython\u001b[39;00m\u001b[39m.\u001b[39;00m\u001b[39mdata\u001b[39;00m\u001b[39m.\u001b[39;00m\u001b[39mexperimental\u001b[39;00m \u001b[39mimport\u001b[39;00m service\n\u001b[1;32m     97\u001b[0m \u001b[39mfrom\u001b[39;00m \u001b[39mtensorflow\u001b[39;00m\u001b[39m.\u001b[39;00m\u001b[39mpython\u001b[39;00m\u001b[39m.\u001b[39;00m\u001b[39mdata\u001b[39;00m\u001b[39m.\u001b[39;00m\u001b[39mexperimental\u001b[39;00m\u001b[39m.\u001b[39;00m\u001b[39mops\u001b[39;00m\u001b[39m.\u001b[39;00m\u001b[39mbatching\u001b[39;00m \u001b[39mimport\u001b[39;00m dense_to_ragged_batch\n\u001b[1;32m     98\u001b[0m \u001b[39mfrom\u001b[39;00m \u001b[39mtensorflow\u001b[39;00m\u001b[39m.\u001b[39;00m\u001b[39mpython\u001b[39;00m\u001b[39m.\u001b[39;00m\u001b[39mdata\u001b[39;00m\u001b[39m.\u001b[39;00m\u001b[39mexperimental\u001b[39;00m\u001b[39m.\u001b[39;00m\u001b[39mops\u001b[39;00m\u001b[39m.\u001b[39;00m\u001b[39mbatching\u001b[39;00m \u001b[39mimport\u001b[39;00m dense_to_sparse_batch\n",
            "File \u001b[0;32m~/miniconda3/envs/tf/lib/python3.8/site-packages/tensorflow/python/data/experimental/service/__init__.py:140\u001b[0m\n\u001b[1;32m    137\u001b[0m \u001b[39mfrom\u001b[39;00m \u001b[39m__future__\u001b[39;00m \u001b[39mimport\u001b[39;00m division\n\u001b[1;32m    138\u001b[0m \u001b[39mfrom\u001b[39;00m \u001b[39m__future__\u001b[39;00m \u001b[39mimport\u001b[39;00m print_function\n\u001b[0;32m--> 140\u001b[0m \u001b[39mfrom\u001b[39;00m \u001b[39mtensorflow\u001b[39;00m\u001b[39m.\u001b[39;00m\u001b[39mpython\u001b[39;00m\u001b[39m.\u001b[39;00m\u001b[39mdata\u001b[39;00m\u001b[39m.\u001b[39;00m\u001b[39mexperimental\u001b[39;00m\u001b[39m.\u001b[39;00m\u001b[39mops\u001b[39;00m\u001b[39m.\u001b[39;00m\u001b[39mdata_service_ops\u001b[39;00m \u001b[39mimport\u001b[39;00m distribute\n\u001b[1;32m    141\u001b[0m \u001b[39mfrom\u001b[39;00m \u001b[39mtensorflow\u001b[39;00m\u001b[39m.\u001b[39;00m\u001b[39mpython\u001b[39;00m\u001b[39m.\u001b[39;00m\u001b[39mdata\u001b[39;00m\u001b[39m.\u001b[39;00m\u001b[39mexperimental\u001b[39;00m\u001b[39m.\u001b[39;00m\u001b[39mops\u001b[39;00m\u001b[39m.\u001b[39;00m\u001b[39mdata_service_ops\u001b[39;00m \u001b[39mimport\u001b[39;00m from_dataset_id\n\u001b[1;32m    142\u001b[0m \u001b[39mfrom\u001b[39;00m \u001b[39mtensorflow\u001b[39;00m\u001b[39m.\u001b[39;00m\u001b[39mpython\u001b[39;00m\u001b[39m.\u001b[39;00m\u001b[39mdata\u001b[39;00m\u001b[39m.\u001b[39;00m\u001b[39mexperimental\u001b[39;00m\u001b[39m.\u001b[39;00m\u001b[39mops\u001b[39;00m\u001b[39m.\u001b[39;00m\u001b[39mdata_service_ops\u001b[39;00m \u001b[39mimport\u001b[39;00m register_dataset\n",
            "File \u001b[0;32m~/miniconda3/envs/tf/lib/python3.8/site-packages/tensorflow/python/data/experimental/ops/data_service_ops.py:25\u001b[0m\n\u001b[1;32m     22\u001b[0m \u001b[39mimport\u001b[39;00m \u001b[39msix\u001b[39;00m\n\u001b[1;32m     24\u001b[0m \u001b[39mfrom\u001b[39;00m \u001b[39mtensorflow\u001b[39;00m\u001b[39m.\u001b[39;00m\u001b[39mpython\u001b[39;00m \u001b[39mimport\u001b[39;00m tf2\n\u001b[0;32m---> 25\u001b[0m \u001b[39mfrom\u001b[39;00m \u001b[39mtensorflow\u001b[39;00m\u001b[39m.\u001b[39;00m\u001b[39mpython\u001b[39;00m\u001b[39m.\u001b[39;00m\u001b[39mdata\u001b[39;00m\u001b[39m.\u001b[39;00m\u001b[39mexperimental\u001b[39;00m\u001b[39m.\u001b[39;00m\u001b[39mops\u001b[39;00m \u001b[39mimport\u001b[39;00m compression_ops\n\u001b[1;32m     26\u001b[0m \u001b[39mfrom\u001b[39;00m \u001b[39mtensorflow\u001b[39;00m\u001b[39m.\u001b[39;00m\u001b[39mpython\u001b[39;00m\u001b[39m.\u001b[39;00m\u001b[39mdata\u001b[39;00m\u001b[39m.\u001b[39;00m\u001b[39mexperimental\u001b[39;00m\u001b[39m.\u001b[39;00m\u001b[39mops\u001b[39;00m\u001b[39m.\u001b[39;00m\u001b[39mdistribute_options\u001b[39;00m \u001b[39mimport\u001b[39;00m AutoShardPolicy\n\u001b[1;32m     27\u001b[0m \u001b[39mfrom\u001b[39;00m \u001b[39mtensorflow\u001b[39;00m\u001b[39m.\u001b[39;00m\u001b[39mpython\u001b[39;00m\u001b[39m.\u001b[39;00m\u001b[39mdata\u001b[39;00m\u001b[39m.\u001b[39;00m\u001b[39mexperimental\u001b[39;00m\u001b[39m.\u001b[39;00m\u001b[39mops\u001b[39;00m\u001b[39m.\u001b[39;00m\u001b[39mdistribute_options\u001b[39;00m \u001b[39mimport\u001b[39;00m ExternalStatePolicy\n",
            "File \u001b[0;32m~/miniconda3/envs/tf/lib/python3.8/site-packages/tensorflow/python/data/experimental/ops/compression_ops.py:20\u001b[0m\n\u001b[1;32m     17\u001b[0m \u001b[39mfrom\u001b[39;00m \u001b[39m__future__\u001b[39;00m \u001b[39mimport\u001b[39;00m division\n\u001b[1;32m     18\u001b[0m \u001b[39mfrom\u001b[39;00m \u001b[39m__future__\u001b[39;00m \u001b[39mimport\u001b[39;00m print_function\n\u001b[0;32m---> 20\u001b[0m \u001b[39mfrom\u001b[39;00m \u001b[39mtensorflow\u001b[39;00m\u001b[39m.\u001b[39;00m\u001b[39mpython\u001b[39;00m\u001b[39m.\u001b[39;00m\u001b[39mdata\u001b[39;00m\u001b[39m.\u001b[39;00m\u001b[39mutil\u001b[39;00m \u001b[39mimport\u001b[39;00m structure\n\u001b[1;32m     21\u001b[0m \u001b[39mfrom\u001b[39;00m \u001b[39mtensorflow\u001b[39;00m\u001b[39m.\u001b[39;00m\u001b[39mpython\u001b[39;00m\u001b[39m.\u001b[39;00m\u001b[39mops\u001b[39;00m \u001b[39mimport\u001b[39;00m gen_experimental_dataset_ops \u001b[39mas\u001b[39;00m ged_ops\n\u001b[1;32m     24\u001b[0m \u001b[39mdef\u001b[39;00m \u001b[39mcompress\u001b[39m(element):\n",
            "File \u001b[0;32m~/miniconda3/envs/tf/lib/python3.8/site-packages/tensorflow/python/data/util/structure.py:26\u001b[0m\n\u001b[1;32m     23\u001b[0m \u001b[39mimport\u001b[39;00m \u001b[39msix\u001b[39;00m\n\u001b[1;32m     24\u001b[0m \u001b[39mimport\u001b[39;00m \u001b[39mwrapt\u001b[39;00m\n\u001b[0;32m---> 26\u001b[0m \u001b[39mfrom\u001b[39;00m \u001b[39mtensorflow\u001b[39;00m\u001b[39m.\u001b[39;00m\u001b[39mpython\u001b[39;00m\u001b[39m.\u001b[39;00m\u001b[39mdata\u001b[39;00m\u001b[39m.\u001b[39;00m\u001b[39mutil\u001b[39;00m \u001b[39mimport\u001b[39;00m nest\n\u001b[1;32m     27\u001b[0m \u001b[39mfrom\u001b[39;00m \u001b[39mtensorflow\u001b[39;00m\u001b[39m.\u001b[39;00m\u001b[39mpython\u001b[39;00m\u001b[39m.\u001b[39;00m\u001b[39mframework\u001b[39;00m \u001b[39mimport\u001b[39;00m composite_tensor\n\u001b[1;32m     28\u001b[0m \u001b[39mfrom\u001b[39;00m \u001b[39mtensorflow\u001b[39;00m\u001b[39m.\u001b[39;00m\u001b[39mpython\u001b[39;00m\u001b[39m.\u001b[39;00m\u001b[39mframework\u001b[39;00m \u001b[39mimport\u001b[39;00m ops\n",
            "File \u001b[0;32m~/miniconda3/envs/tf/lib/python3.8/site-packages/tensorflow/python/data/util/nest.py:41\u001b[0m\n\u001b[1;32m     38\u001b[0m \u001b[39mimport\u001b[39;00m \u001b[39msix\u001b[39;00m \u001b[39mas\u001b[39;00m \u001b[39m_six\u001b[39;00m\n\u001b[1;32m     40\u001b[0m \u001b[39mfrom\u001b[39;00m \u001b[39mtensorflow\u001b[39;00m\u001b[39m.\u001b[39;00m\u001b[39mpython\u001b[39;00m \u001b[39mimport\u001b[39;00m _pywrap_utils\n\u001b[0;32m---> 41\u001b[0m \u001b[39mfrom\u001b[39;00m \u001b[39mtensorflow\u001b[39;00m\u001b[39m.\u001b[39;00m\u001b[39mpython\u001b[39;00m\u001b[39m.\u001b[39;00m\u001b[39mframework\u001b[39;00m \u001b[39mimport\u001b[39;00m sparse_tensor \u001b[39mas\u001b[39;00m _sparse_tensor\n\u001b[1;32m     42\u001b[0m \u001b[39mfrom\u001b[39;00m \u001b[39mtensorflow\u001b[39;00m\u001b[39m.\u001b[39;00m\u001b[39mpython\u001b[39;00m\u001b[39m.\u001b[39;00m\u001b[39mutil\u001b[39;00m\u001b[39m.\u001b[39;00m\u001b[39mcompat\u001b[39;00m \u001b[39mimport\u001b[39;00m collections_abc \u001b[39mas\u001b[39;00m _collections_abc\n\u001b[1;32m     45\u001b[0m \u001b[39mdef\u001b[39;00m \u001b[39m_sorted\u001b[39m(dict_):\n",
            "File \u001b[0;32m~/miniconda3/envs/tf/lib/python3.8/site-packages/tensorflow/python/framework/sparse_tensor.py:29\u001b[0m\n\u001b[1;32m     27\u001b[0m \u001b[39mfrom\u001b[39;00m \u001b[39mtensorflow\u001b[39;00m\u001b[39m.\u001b[39;00m\u001b[39mpython\u001b[39;00m \u001b[39mimport\u001b[39;00m tf2\n\u001b[1;32m     28\u001b[0m \u001b[39mfrom\u001b[39;00m \u001b[39mtensorflow\u001b[39;00m\u001b[39m.\u001b[39;00m\u001b[39mpython\u001b[39;00m\u001b[39m.\u001b[39;00m\u001b[39mframework\u001b[39;00m \u001b[39mimport\u001b[39;00m composite_tensor\n\u001b[0;32m---> 29\u001b[0m \u001b[39mfrom\u001b[39;00m \u001b[39mtensorflow\u001b[39;00m\u001b[39m.\u001b[39;00m\u001b[39mpython\u001b[39;00m\u001b[39m.\u001b[39;00m\u001b[39mframework\u001b[39;00m \u001b[39mimport\u001b[39;00m constant_op\n\u001b[1;32m     30\u001b[0m \u001b[39mfrom\u001b[39;00m \u001b[39mtensorflow\u001b[39;00m\u001b[39m.\u001b[39;00m\u001b[39mpython\u001b[39;00m\u001b[39m.\u001b[39;00m\u001b[39mframework\u001b[39;00m \u001b[39mimport\u001b[39;00m dtypes\n\u001b[1;32m     31\u001b[0m \u001b[39mfrom\u001b[39;00m \u001b[39mtensorflow\u001b[39;00m\u001b[39m.\u001b[39;00m\u001b[39mpython\u001b[39;00m\u001b[39m.\u001b[39;00m\u001b[39mframework\u001b[39;00m \u001b[39mimport\u001b[39;00m ops\n",
            "File \u001b[0;32m~/miniconda3/envs/tf/lib/python3.8/site-packages/tensorflow/python/framework/constant_op.py:29\u001b[0m\n\u001b[1;32m     27\u001b[0m \u001b[39mfrom\u001b[39;00m \u001b[39mtensorflow\u001b[39;00m\u001b[39m.\u001b[39;00m\u001b[39mcore\u001b[39;00m\u001b[39m.\u001b[39;00m\u001b[39mframework\u001b[39;00m \u001b[39mimport\u001b[39;00m types_pb2\n\u001b[1;32m     28\u001b[0m \u001b[39mfrom\u001b[39;00m \u001b[39mtensorflow\u001b[39;00m\u001b[39m.\u001b[39;00m\u001b[39mpython\u001b[39;00m\u001b[39m.\u001b[39;00m\u001b[39meager\u001b[39;00m \u001b[39mimport\u001b[39;00m context\n\u001b[0;32m---> 29\u001b[0m \u001b[39mfrom\u001b[39;00m \u001b[39mtensorflow\u001b[39;00m\u001b[39m.\u001b[39;00m\u001b[39mpython\u001b[39;00m\u001b[39m.\u001b[39;00m\u001b[39meager\u001b[39;00m \u001b[39mimport\u001b[39;00m execute\n\u001b[1;32m     30\u001b[0m \u001b[39mfrom\u001b[39;00m \u001b[39mtensorflow\u001b[39;00m\u001b[39m.\u001b[39;00m\u001b[39mpython\u001b[39;00m\u001b[39m.\u001b[39;00m\u001b[39mframework\u001b[39;00m \u001b[39mimport\u001b[39;00m dtypes\n\u001b[1;32m     31\u001b[0m \u001b[39mfrom\u001b[39;00m \u001b[39mtensorflow\u001b[39;00m\u001b[39m.\u001b[39;00m\u001b[39mpython\u001b[39;00m\u001b[39m.\u001b[39;00m\u001b[39mframework\u001b[39;00m \u001b[39mimport\u001b[39;00m op_callbacks\n",
            "File \u001b[0;32m~/miniconda3/envs/tf/lib/python3.8/site-packages/tensorflow/python/eager/execute.py:27\u001b[0m\n\u001b[1;32m     25\u001b[0m \u001b[39mfrom\u001b[39;00m \u001b[39mtensorflow\u001b[39;00m\u001b[39m.\u001b[39;00m\u001b[39mpython\u001b[39;00m \u001b[39mimport\u001b[39;00m pywrap_tfe\n\u001b[1;32m     26\u001b[0m \u001b[39mfrom\u001b[39;00m \u001b[39mtensorflow\u001b[39;00m\u001b[39m.\u001b[39;00m\u001b[39mpython\u001b[39;00m\u001b[39m.\u001b[39;00m\u001b[39meager\u001b[39;00m \u001b[39mimport\u001b[39;00m core\n\u001b[0;32m---> 27\u001b[0m \u001b[39mfrom\u001b[39;00m \u001b[39mtensorflow\u001b[39;00m\u001b[39m.\u001b[39;00m\u001b[39mpython\u001b[39;00m\u001b[39m.\u001b[39;00m\u001b[39mframework\u001b[39;00m \u001b[39mimport\u001b[39;00m dtypes\n\u001b[1;32m     28\u001b[0m \u001b[39mfrom\u001b[39;00m \u001b[39mtensorflow\u001b[39;00m\u001b[39m.\u001b[39;00m\u001b[39mpython\u001b[39;00m\u001b[39m.\u001b[39;00m\u001b[39mframework\u001b[39;00m \u001b[39mimport\u001b[39;00m ops\n\u001b[1;32m     29\u001b[0m \u001b[39mfrom\u001b[39;00m \u001b[39mtensorflow\u001b[39;00m\u001b[39m.\u001b[39;00m\u001b[39mpython\u001b[39;00m\u001b[39m.\u001b[39;00m\u001b[39mframework\u001b[39;00m \u001b[39mimport\u001b[39;00m tensor_shape\n",
            "File \u001b[0;32m~/miniconda3/envs/tf/lib/python3.8/site-packages/tensorflow/python/framework/dtypes.py:513\u001b[0m\n\u001b[1;32m    482\u001b[0m     _NP_TO_TF[pdt] \u001b[39m=\u001b[39m \u001b[39mnext\u001b[39m(\n\u001b[1;32m    483\u001b[0m         _NP_TO_TF[dt] \u001b[39mfor\u001b[39;00m dt \u001b[39min\u001b[39;00m _NP_TO_TF \u001b[39mif\u001b[39;00m dt \u001b[39m==\u001b[39m pdt()\u001b[39m.\u001b[39mdtype)\n\u001b[1;32m    486\u001b[0m TF_VALUE_DTYPES \u001b[39m=\u001b[39m \u001b[39mset\u001b[39m(_NP_TO_TF\u001b[39m.\u001b[39mvalues())\n\u001b[1;32m    489\u001b[0m _TF_TO_NP \u001b[39m=\u001b[39m {\n\u001b[1;32m    490\u001b[0m     types_pb2\u001b[39m.\u001b[39mDT_HALF:\n\u001b[1;32m    491\u001b[0m         np\u001b[39m.\u001b[39mfloat16,\n\u001b[1;32m    492\u001b[0m     types_pb2\u001b[39m.\u001b[39mDT_FLOAT:\n\u001b[1;32m    493\u001b[0m         np\u001b[39m.\u001b[39mfloat32,\n\u001b[1;32m    494\u001b[0m     types_pb2\u001b[39m.\u001b[39mDT_DOUBLE:\n\u001b[1;32m    495\u001b[0m         np\u001b[39m.\u001b[39mfloat64,\n\u001b[1;32m    496\u001b[0m     types_pb2\u001b[39m.\u001b[39mDT_INT32:\n\u001b[1;32m    497\u001b[0m         np\u001b[39m.\u001b[39mint32,\n\u001b[1;32m    498\u001b[0m     types_pb2\u001b[39m.\u001b[39mDT_UINT8:\n\u001b[1;32m    499\u001b[0m         np\u001b[39m.\u001b[39muint8,\n\u001b[1;32m    500\u001b[0m     types_pb2\u001b[39m.\u001b[39mDT_UINT16:\n\u001b[1;32m    501\u001b[0m         np\u001b[39m.\u001b[39muint16,\n\u001b[1;32m    502\u001b[0m     types_pb2\u001b[39m.\u001b[39mDT_UINT32:\n\u001b[1;32m    503\u001b[0m         np\u001b[39m.\u001b[39muint32,\n\u001b[1;32m    504\u001b[0m     types_pb2\u001b[39m.\u001b[39mDT_UINT64:\n\u001b[1;32m    505\u001b[0m         np\u001b[39m.\u001b[39muint64,\n\u001b[1;32m    506\u001b[0m     types_pb2\u001b[39m.\u001b[39mDT_INT16:\n\u001b[1;32m    507\u001b[0m         np\u001b[39m.\u001b[39mint16,\n\u001b[1;32m    508\u001b[0m     types_pb2\u001b[39m.\u001b[39mDT_INT8:\n\u001b[1;32m    509\u001b[0m         np\u001b[39m.\u001b[39mint8,\n\u001b[1;32m    510\u001b[0m     \u001b[39m# NOTE(touts): For strings we use np.object as it supports variable length\u001b[39;00m\n\u001b[1;32m    511\u001b[0m     \u001b[39m# strings.\u001b[39;00m\n\u001b[1;32m    512\u001b[0m     types_pb2\u001b[39m.\u001b[39mDT_STRING:\n\u001b[0;32m--> 513\u001b[0m         np\u001b[39m.\u001b[39;49mobject,\n\u001b[1;32m    514\u001b[0m     types_pb2\u001b[39m.\u001b[39mDT_COMPLEX64:\n\u001b[1;32m    515\u001b[0m         np\u001b[39m.\u001b[39mcomplex64,\n\u001b[1;32m    516\u001b[0m     types_pb2\u001b[39m.\u001b[39mDT_COMPLEX128:\n\u001b[1;32m    517\u001b[0m         np\u001b[39m.\u001b[39mcomplex128,\n\u001b[1;32m    518\u001b[0m     types_pb2\u001b[39m.\u001b[39mDT_INT64:\n\u001b[1;32m    519\u001b[0m         np\u001b[39m.\u001b[39mint64,\n\u001b[1;32m    520\u001b[0m     types_pb2\u001b[39m.\u001b[39mDT_BOOL:\n\u001b[1;32m    521\u001b[0m         np\u001b[39m.\u001b[39mbool,\n\u001b[1;32m    522\u001b[0m     types_pb2\u001b[39m.\u001b[39mDT_QINT8:\n\u001b[1;32m    523\u001b[0m         _np_qint8,\n\u001b[1;32m    524\u001b[0m     types_pb2\u001b[39m.\u001b[39mDT_QUINT8:\n\u001b[1;32m    525\u001b[0m         _np_quint8,\n\u001b[1;32m    526\u001b[0m     types_pb2\u001b[39m.\u001b[39mDT_QINT16:\n\u001b[1;32m    527\u001b[0m         _np_qint16,\n\u001b[1;32m    528\u001b[0m     types_pb2\u001b[39m.\u001b[39mDT_QUINT16:\n\u001b[1;32m    529\u001b[0m         _np_quint16,\n\u001b[1;32m    530\u001b[0m     types_pb2\u001b[39m.\u001b[39mDT_QINT32:\n\u001b[1;32m    531\u001b[0m         _np_qint32,\n\u001b[1;32m    532\u001b[0m     types_pb2\u001b[39m.\u001b[39mDT_BFLOAT16:\n\u001b[1;32m    533\u001b[0m         _np_bfloat16,\n\u001b[1;32m    534\u001b[0m \n\u001b[1;32m    535\u001b[0m     \u001b[39m# Ref types\u001b[39;00m\n\u001b[1;32m    536\u001b[0m     types_pb2\u001b[39m.\u001b[39mDT_HALF_REF:\n\u001b[1;32m    537\u001b[0m         np\u001b[39m.\u001b[39mfloat16,\n\u001b[1;32m    538\u001b[0m     types_pb2\u001b[39m.\u001b[39mDT_FLOAT_REF:\n\u001b[1;32m    539\u001b[0m         np\u001b[39m.\u001b[39mfloat32,\n\u001b[1;32m    540\u001b[0m     types_pb2\u001b[39m.\u001b[39mDT_DOUBLE_REF:\n\u001b[1;32m    541\u001b[0m         np\u001b[39m.\u001b[39mfloat64,\n\u001b[1;32m    542\u001b[0m     types_pb2\u001b[39m.\u001b[39mDT_INT32_REF:\n\u001b[1;32m    543\u001b[0m         np\u001b[39m.\u001b[39mint32,\n\u001b[1;32m    544\u001b[0m     types_pb2\u001b[39m.\u001b[39mDT_UINT32_REF:\n\u001b[1;32m    545\u001b[0m         np\u001b[39m.\u001b[39muint32,\n\u001b[1;32m    546\u001b[0m     types_pb2\u001b[39m.\u001b[39mDT_UINT8_REF:\n\u001b[1;32m    547\u001b[0m         np\u001b[39m.\u001b[39muint8,\n\u001b[1;32m    548\u001b[0m     types_pb2\u001b[39m.\u001b[39mDT_UINT16_REF:\n\u001b[1;32m    549\u001b[0m         np\u001b[39m.\u001b[39muint16,\n\u001b[1;32m    550\u001b[0m     types_pb2\u001b[39m.\u001b[39mDT_INT16_REF:\n\u001b[1;32m    551\u001b[0m         np\u001b[39m.\u001b[39mint16,\n\u001b[1;32m    552\u001b[0m     types_pb2\u001b[39m.\u001b[39mDT_INT8_REF:\n\u001b[1;32m    553\u001b[0m         np\u001b[39m.\u001b[39mint8,\n\u001b[1;32m    554\u001b[0m     types_pb2\u001b[39m.\u001b[39mDT_STRING_REF:\n\u001b[1;32m    555\u001b[0m         np\u001b[39m.\u001b[39mobject,\n\u001b[1;32m    556\u001b[0m     types_pb2\u001b[39m.\u001b[39mDT_COMPLEX64_REF:\n\u001b[1;32m    557\u001b[0m         np\u001b[39m.\u001b[39mcomplex64,\n\u001b[1;32m    558\u001b[0m     types_pb2\u001b[39m.\u001b[39mDT_COMPLEX128_REF:\n\u001b[1;32m    559\u001b[0m         np\u001b[39m.\u001b[39mcomplex128,\n\u001b[1;32m    560\u001b[0m     types_pb2\u001b[39m.\u001b[39mDT_INT64_REF:\n\u001b[1;32m    561\u001b[0m         np\u001b[39m.\u001b[39mint64,\n\u001b[1;32m    562\u001b[0m     types_pb2\u001b[39m.\u001b[39mDT_UINT64_REF:\n\u001b[1;32m    563\u001b[0m         np\u001b[39m.\u001b[39muint64,\n\u001b[1;32m    564\u001b[0m     types_pb2\u001b[39m.\u001b[39mDT_BOOL_REF:\n\u001b[1;32m    565\u001b[0m         np\u001b[39m.\u001b[39mbool,\n\u001b[1;32m    566\u001b[0m     types_pb2\u001b[39m.\u001b[39mDT_QINT8_REF:\n\u001b[1;32m    567\u001b[0m         _np_qint8,\n\u001b[1;32m    568\u001b[0m     types_pb2\u001b[39m.\u001b[39mDT_QUINT8_REF:\n\u001b[1;32m    569\u001b[0m         _np_quint8,\n\u001b[1;32m    570\u001b[0m     types_pb2\u001b[39m.\u001b[39mDT_QINT16_REF:\n\u001b[1;32m    571\u001b[0m         _np_qint16,\n\u001b[1;32m    572\u001b[0m     types_pb2\u001b[39m.\u001b[39mDT_QUINT16_REF:\n\u001b[1;32m    573\u001b[0m         _np_quint16,\n\u001b[1;32m    574\u001b[0m     types_pb2\u001b[39m.\u001b[39mDT_QINT32_REF:\n\u001b[1;32m    575\u001b[0m         _np_qint32,\n\u001b[1;32m    576\u001b[0m     types_pb2\u001b[39m.\u001b[39mDT_BFLOAT16_REF:\n\u001b[1;32m    577\u001b[0m         _np_bfloat16,\n\u001b[1;32m    578\u001b[0m }\n\u001b[1;32m    580\u001b[0m _QUANTIZED_DTYPES_NO_REF \u001b[39m=\u001b[39m \u001b[39mfrozenset\u001b[39m([qint8, quint8, qint16, quint16, qint32])\n\u001b[1;32m    581\u001b[0m _QUANTIZED_DTYPES_REF \u001b[39m=\u001b[39m \u001b[39mfrozenset\u001b[39m(\n\u001b[1;32m    582\u001b[0m     [qint8_ref, quint8_ref, qint16_ref, quint16_ref, qint32_ref])\n",
            "File \u001b[0;32m~/miniconda3/envs/tf/lib/python3.8/site-packages/numpy/__init__.py:305\u001b[0m, in \u001b[0;36m__getattr__\u001b[0;34m(attr)\u001b[0m\n\u001b[1;32m    300\u001b[0m     warnings\u001b[39m.\u001b[39mwarn(\n\u001b[1;32m    301\u001b[0m         \u001b[39mf\u001b[39m\u001b[39m\"\u001b[39m\u001b[39mIn the future `np.\u001b[39m\u001b[39m{\u001b[39;00mattr\u001b[39m}\u001b[39;00m\u001b[39m` will be defined as the \u001b[39m\u001b[39m\"\u001b[39m\n\u001b[1;32m    302\u001b[0m         \u001b[39m\"\u001b[39m\u001b[39mcorresponding NumPy scalar.\u001b[39m\u001b[39m\"\u001b[39m, \u001b[39mFutureWarning\u001b[39;00m, stacklevel\u001b[39m=\u001b[39m\u001b[39m2\u001b[39m)\n\u001b[1;32m    304\u001b[0m \u001b[39mif\u001b[39;00m attr \u001b[39min\u001b[39;00m __former_attrs__:\n\u001b[0;32m--> 305\u001b[0m     \u001b[39mraise\u001b[39;00m \u001b[39mAttributeError\u001b[39;00m(__former_attrs__[attr])\n\u001b[1;32m    307\u001b[0m \u001b[39m# Importing Tester requires importing all of UnitTest which is not a\u001b[39;00m\n\u001b[1;32m    308\u001b[0m \u001b[39m# cheap import Since it is mainly used in test suits, we lazy import it\u001b[39;00m\n\u001b[1;32m    309\u001b[0m \u001b[39m# here to save on the order of 10 ms of import time for most users\u001b[39;00m\n\u001b[1;32m    310\u001b[0m \u001b[39m#\u001b[39;00m\n\u001b[1;32m    311\u001b[0m \u001b[39m# The previous way Tester was imported also had a side effect of adding\u001b[39;00m\n\u001b[1;32m    312\u001b[0m \u001b[39m# the full `numpy.testing` namespace\u001b[39;00m\n\u001b[1;32m    313\u001b[0m \u001b[39mif\u001b[39;00m attr \u001b[39m==\u001b[39m \u001b[39m'\u001b[39m\u001b[39mtesting\u001b[39m\u001b[39m'\u001b[39m:\n",
            "\u001b[0;31mAttributeError\u001b[0m: module 'numpy' has no attribute 'object'.\n`np.object` was a deprecated alias for the builtin `object`. To avoid this error in existing code, use `object` by itself. Doing this will not modify any behavior and is safe. \nThe aliases was originally deprecated in NumPy 1.20; for more details and guidance see the original release note at:\n    https://numpy.org/devdocs/release/1.20.0-notes.html#deprecations"
          ]
        }
      ],
      "source": [
        "import tensorflow as tf\n",
        "from keras.models import Sequential\n",
        "from keras.layers import Dense, Dropout, Flatten, Conv2D, MaxPooling2D, Activation\n",
        "import numpy as np\n",
        "from sklearn.model_selection import train_test_split\n",
        "from tensorflow.keras.preprocessing.image import load_img, img_to_array\n",
        "from keras.constraints import maxnorm\n",
        "from tensorflow.keras.utils import to_categorical\n"
      ]
    },
    {
      "cell_type": "code",
      "execution_count": null,
      "metadata": {
        "id": "sa7irhsZ3fsp"
      },
      "outputs": [],
      "source": [
        "dataset_dir = './_data'\n",
        "\n",
        "train_ratio = 0.8  # 80% for training, 20% for testing\n",
        "# Lists to store the file paths and labels\n",
        "file_paths = []\n",
        "label_ids = []\n",
        "labels = ['A', 'B', 'C', 'D', 'E', 'Exceptions']"
      ]
    },
    {
      "cell_type": "code",
      "execution_count": null,
      "metadata": {},
      "outputs": [],
      "source": [
        "import tensorflow as tf\n",
        "\n",
        "devices = tf.config.list_physical_devices(\"GPU\")\n",
        "\n",
        "if devices:\n",
        "  print(\"TensorFlow is running with your GPU\")\n",
        "else:\n",
        "  print(\"TensorFlow is not running with your GPU\")"
      ]
    },
    {
      "attachments": {},
      "cell_type": "markdown",
      "metadata": {
        "id": "q6HJovjT3L3w"
      },
      "source": [
        "## Checking if any image is corrupted or not"
      ]
    },
    {
      "cell_type": "code",
      "execution_count": null,
      "metadata": {
        "colab": {
          "background_save": true
        },
        "id": "F7XpxNbl7X7i"
      },
      "outputs": [],
      "source": [
        "import os\n",
        "# Iterate through each class directory\n",
        "for label_id, label in enumerate(labels):\n",
        "    class_dir = os.path.join(dataset_dir, label)\n",
        "    if os.path.isdir(class_dir):\n",
        "        image_files = [f for f in os.listdir(class_dir) if os.path.isfile(os.path.join(class_dir, f))]\n",
        "        file_paths.extend([os.path.join(class_dir, f) for f in image_files])\n",
        "        label_ids.extend([label_id] * len(image_files))\n",
        "\n",
        "# Shuffle the file paths and label IDs\n",
        "tf.random.set_seed(42)\n",
        "tf.random.shuffle(file_paths)\n",
        "tf.random.set_seed(42)\n",
        "tf.random.shuffle(label_ids)\n",
        "\n",
        "# Split the dataset into training and testing sets using stratified sampling\n",
        "X_train_paths, X_test_paths, y_train_ids, y_test_ids = train_test_split(file_paths, label_ids, train_size=train_ratio, stratify=label_ids)\n",
        "\n",
        "# Convert the image data into NumPy arrays\n",
        "X_train = np.array([img_to_array(load_img(path, target_size=(130, 20))) for path in X_train_paths])\n",
        "X_test = np.array([img_to_array(load_img(path, target_size=(130, 20))) for path in X_test_paths])\n",
        "\n",
        "# Normalizing and performing one-hot encoding\n",
        "X_train = X_train.astype('float32')\n",
        "X_test = X_test.astype('float32')\n",
        "X_train = X_train/255.0\n",
        "X_test = X_test/255.0\n",
        "\n",
        "# Convert the label IDs into one-hot encoded vectors\n",
        "y_train = to_categorical(y_train_ids, num_classes=len(labels))\n",
        "y_test = to_categorical(y_test_ids, num_classes=len(labels))\n",
        "\n",
        "num_classes = y_test.shape[1]\n",
        "num_classes"
      ]
    },
    {
      "cell_type": "code",
      "execution_count": null,
      "metadata": {},
      "outputs": [],
      "source": [
        "X_train.shape"
      ]
    },
    {
      "cell_type": "code",
      "execution_count": null,
      "metadata": {},
      "outputs": [],
      "source": [
        "'./_data/Exceptions/Question2-scan0047.jpg' in X_train_paths"
      ]
    },
    {
      "cell_type": "code",
      "execution_count": null,
      "metadata": {
        "colab": {
          "background_save": true
        },
        "id": "YVv_kxzlipoB"
      },
      "outputs": [],
      "source": [
        "import keras\n",
        "\n",
        "model = Sequential()\n",
        "\n",
        "model.add(Conv2D(32, (3, 3), input_shape=(130,20,3), activation='relu', padding='same'))\n",
        "model.add(Dropout(0.2))\n",
        "model.add(Conv2D(32, (3, 3), activation='relu', padding='same'))\n",
        "model.add(MaxPooling2D(pool_size=(2, 2)))\n",
        "model.add(Conv2D(64, (3, 3), activation='relu', padding='same'))\n",
        "model.add(Dropout(0.2))\n",
        "model.add(Conv2D(64, (3, 3), activation='relu', padding='same'))\n",
        "model.add(MaxPooling2D(pool_size=(2, 2)))\n",
        "model.add(Conv2D(128, (3, 3), activation='relu', padding='same'))\n",
        "model.add(Dropout(0.2))\n",
        "model.add(Conv2D(128, (3, 3), activation='relu', padding='same'))\n",
        "model.add(MaxPooling2D(pool_size=(2, 2)))\n",
        "model.add(Flatten())\n",
        "model.add(Dropout(0.2))\n",
        "model.add(Dense(1024, activation='relu', kernel_constraint=maxnorm(3)))\n",
        "model.add(Dropout(0.2))\n",
        "model.add(Dense(512, activation='relu', kernel_constraint=maxnorm(3)))\n",
        "model.add(Dropout(0.2))\n",
        "model.add(Dense(num_classes, activation='softmax'))\n",
        "\n"
      ]
    },
    {
      "cell_type": "code",
      "execution_count": null,
      "metadata": {
        "colab": {
          "background_save": true
        },
        "id": "_TnhiLjx8wOF",
        "outputId": "7cc85321-69d2-48df-f26a-de71779404e4"
      },
      "outputs": [],
      "source": [
        "model.summary()"
      ]
    },
    {
      "cell_type": "code",
      "execution_count": null,
      "metadata": {
        "colab": {
          "base_uri": "https://localhost:8080/"
        },
        "id": "Do2pP8Ab8sfn",
        "outputId": "3a5fc5f3-cf00-4db5-f803-36ab0743d0a1"
      },
      "outputs": [],
      "source": [
        "model.compile(optimizer='Adam', loss=keras.losses.categorical_crossentropy, metrics=['accuracy'])\n",
        "\n",
        "# create a learning rate scheduler\n",
        "lr_scheduler = tf.keras.callbacks.LearningRateScheduler(lambda epoch: 1e-4 * 10 ** (epoch / 15))"
      ]
    },
    {
      "cell_type": "code",
      "execution_count": null,
      "metadata": {},
      "outputs": [],
      "source": [
        "hist = model.fit(X_train, y_train , epochs=15, validation_split=0.1, callbacks=[lr_scheduler])"
      ]
    },
    {
      "attachments": {},
      "cell_type": "markdown",
      "metadata": {},
      "source": [
        "## Save Model"
      ]
    },
    {
      "cell_type": "code",
      "execution_count": null,
      "metadata": {},
      "outputs": [],
      "source": [
        "models_path = \"./saved_models\"\n",
        "\n",
        "os.makedirs(models_path, exist_ok=True)\n",
        "\n",
        "# get the number of files in the directory\n",
        "def get_num_files(path):\n",
        "    if not os.path.exists(path):\n",
        "        return 0\n",
        "    return sum([len(files) for r, d, files in os.walk(path)])\n",
        "\n",
        "# save the model with the current number\n",
        "num_files = get_num_files(models_path)\n",
        "\n",
        "model.save(os.path.join(models_path, f\"model_{num_files}.h5\"))"
      ]
    },
    {
      "cell_type": "code",
      "execution_count": null,
      "metadata": {},
      "outputs": [],
      "source": [
        "import matplotlib.pyplot as plt\n",
        "\n",
        "fig = plt.figure()\n",
        "plt.plot(hist.history['accuracy'], color='red', label='acc')\n",
        "plt.plot(hist.history['val_accuracy'], label='val_acc')\n",
        "fig.show()"
      ]
    },
    {
      "cell_type": "code",
      "execution_count": null,
      "metadata": {},
      "outputs": [],
      "source": [
        "fig\n",
        "plt.plot(hist.history['loss'])\n",
        "plt.plot(hist.history['val_loss'], color='orange', label='val_loss')"
      ]
    },
    {
      "cell_type": "code",
      "execution_count": null,
      "metadata": {
        "colab": {
          "base_uri": "https://localhost:8080/",
          "height": 183
        },
        "id": "k90b5abqkE2v",
        "outputId": "0e236d04-85d2-42ef-deaf-97c7ec83347f"
      },
      "outputs": [],
      "source": [
        "predictions = model.predict(X_test)\n",
        "rounded_predictions = np.apply_along_axis(lambda x: np.round(x), 1, predictions)"
      ]
    },
    {
      "cell_type": "code",
      "execution_count": null,
      "metadata": {},
      "outputs": [],
      "source": [
        "predictions = tf.argmax(predictions, axis=1)\n"
      ]
    },
    {
      "cell_type": "code",
      "execution_count": null,
      "metadata": {},
      "outputs": [],
      "source": [
        "y_test_argmax = tf.argmax(y_test, axis=1)"
      ]
    },
    {
      "cell_type": "code",
      "execution_count": null,
      "metadata": {
        "id": "aQEnZTQukNMF"
      },
      "outputs": [],
      "source": [
        "cm = tf.math.confusion_matrix(y_test_argmax, predictions)\n",
        "cm = cm/cm.numpy().sum(axis=1)[:, tf.newaxis]"
      ]
    },
    {
      "cell_type": "code",
      "execution_count": null,
      "metadata": {},
      "outputs": [],
      "source": [
        "cm.numpy()"
      ]
    },
    {
      "cell_type": "code",
      "execution_count": null,
      "metadata": {
        "colab": {
          "background_save": true
        },
        "id": "Cn9dr7L7Z09F"
      },
      "outputs": [],
      "source": [
        "import seaborn as sns\n",
        "\n",
        "plt.figure(figsize=(10, 10))\n",
        "sns.heatmap(cm, annot=True, fmt=\".2f\", linewidths=0.5, square=True, cmap='Blues_r', xticklabels=labels, yticklabels=labels)\n",
        "plt.ylabel('Actual label')\n",
        "plt.xlabel('Predicted label')\n",
        "plt.title(\"Confusion matrix\")\n",
        "plt.show()"
      ]
    },
    {
      "cell_type": "code",
      "execution_count": null,
      "metadata": {},
      "outputs": [],
      "source": [
        "from tensorflow.keras.metrics import Precision, Accuracy, Recall, BinaryAccuracy\n",
        "\n",
        "labels = y_test\n",
        "\n",
        "precision = Precision()\n",
        "accuracy = Accuracy()\n",
        "recall = Recall()"
      ]
    },
    {
      "cell_type": "code",
      "execution_count": null,
      "metadata": {},
      "outputs": [],
      "source": [
        "# Evaluate the metrics\n",
        "precision.update_state(labels, rounded_predictions)\n",
        "accuracy.update_state(labels, rounded_predictions)\n",
        "recall.update_state(labels, rounded_predictions)\n",
        "\n",
        "# Print the metrics\n",
        "print('Precision:', precision.result().numpy())\n",
        "print('Accuracy:', accuracy.result().numpy())\n",
        "print('Recall:', recall.result().numpy())"
      ]
    },
    {
      "cell_type": "code",
      "execution_count": null,
      "metadata": {},
      "outputs": [],
      "source": [
        "scores = model.evaluate(X_test, y_test, verbose=0)\n",
        "print(\"Accuracy: %.2f%%\" % (scores[1]*100))"
      ]
    },
    {
      "cell_type": "code",
      "execution_count": null,
      "metadata": {},
      "outputs": [],
      "source": [
        "import cv2\n",
        "\n",
        "a = cv2.imread(dataset_dir + '/Exceptions/Question2-scan0047 - Copy.jpg')\n",
        "resize = tf.image.resize(a, (130, 20))\n",
        "\n",
        "b = model.predict(np.expand_dims(resize/255, 0))\n",
        "plt.imshow(a)\n",
        "e = np.apply_along_axis(lambda x: np.round(x), 1, b)\n",
        "e"
      ]
    },
    {
      "cell_type": "code",
      "execution_count": null,
      "metadata": {},
      "outputs": [],
      "source": []
    }
  ],
  "metadata": {
    "accelerator": "GPU",
    "colab": {
      "gpuType": "T4",
      "provenance": []
    },
    "kernelspec": {
      "display_name": "Python 3",
      "name": "python3"
    },
    "language_info": {
      "codemirror_mode": {
        "name": "ipython",
        "version": 3
      },
      "file_extension": ".py",
      "mimetype": "text/x-python",
      "name": "python",
      "nbconvert_exporter": "python",
      "pygments_lexer": "ipython3",
      "version": "3.8.16"
    }
  },
  "nbformat": 4,
  "nbformat_minor": 0
}
