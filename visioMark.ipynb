{
  "cells": [
    {
      "cell_type": "code",
      "execution_count": 1,
      "metadata": {
        "id": "KQLPRzaFjiZk"
      },
      "outputs": [
        {
          "name": "stderr",
          "output_type": "stream",
          "text": [
            "2023-07-02 02:36:53.042632: I tensorflow/stream_executor/platform/default/dso_loader.cc:49] Successfully opened dynamic library libcudart.so.10.1\n"
          ]
        }
      ],
      "source": [
        "import tensorflow as tf\n",
        "from keras.models import Sequential\n",
        "from keras.layers import Dense, Dropout, Flatten, Conv2D, MaxPooling2D, Activation\n",
        "import numpy as np\n",
        "from sklearn.model_selection import train_test_split\n",
        "from tensorflow.keras.preprocessing.image import load_img, img_to_array\n",
        "from keras.constraints import maxnorm\n",
        "from tensorflow.keras.utils import to_categorical\n"
      ]
    },
    {
      "cell_type": "code",
      "execution_count": 2,
      "metadata": {
        "id": "sa7irhsZ3fsp"
      },
      "outputs": [],
      "source": [
        "dataset_dir = './_data'\n",
        "\n",
        "train_ratio = 0.8  # 80% for training, 20% for testing\n",
        "# Lists to store the file paths and labels\n",
        "file_paths = []\n",
        "label_ids = []\n",
        "labels = ['A', 'B', 'C', 'D', 'E', 'Exceptions']"
      ]
    },
    {
      "cell_type": "code",
      "execution_count": 4,
      "metadata": {},
      "outputs": [
        {
          "name": "stdout",
          "output_type": "stream",
          "text": [
            "TensorFlow is not running with your GPU\n"
          ]
        }
      ],
      "source": [
        "import tensorflow as tf\n",
        "\n",
        "devices = tf.config.list_physical_devices(\"GPU\")\n",
        "\n",
        "if devices:\n",
        "  print(\"TensorFlow is running with your GPU\")\n",
        "else:\n",
        "  print(\"TensorFlow is not running with your GPU\")"
      ]
    },
    {
      "attachments": {},
      "cell_type": "markdown",
      "metadata": {
        "id": "q6HJovjT3L3w"
      },
      "source": [
        "## Checking if any image is corrupted or not"
      ]
    },
    {
      "cell_type": "code",
      "execution_count": 5,
      "metadata": {
        "colab": {
          "background_save": true
        },
        "id": "F7XpxNbl7X7i"
      },
      "outputs": [
        {
          "name": "stderr",
          "output_type": "stream",
          "text": [
            "2023-07-02 02:37:43.781858: I tensorflow/core/platform/cpu_feature_guard.cc:142] This TensorFlow binary is optimized with oneAPI Deep Neural Network Library (oneDNN) to use the following CPU instructions in performance-critical operations:  SSE4.1 SSE4.2 AVX AVX2 FMA\n",
            "To enable them in other operations, rebuild TensorFlow with the appropriate compiler flags.\n",
            "2023-07-02 02:37:43.782123: I tensorflow/compiler/jit/xla_gpu_device.cc:99] Not creating XLA devices, tf_xla_enable_xla_devices not set\n"
          ]
        },
        {
          "data": {
            "text/plain": [
              "6"
            ]
          },
          "execution_count": 5,
          "metadata": {},
          "output_type": "execute_result"
        }
      ],
      "source": [
        "import os\n",
        "# Iterate through each class directory\n",
        "for label_id, label in enumerate(labels):\n",
        "    class_dir = os.path.join(dataset_dir, label)\n",
        "    if os.path.isdir(class_dir):\n",
        "        image_files = [f for f in os.listdir(class_dir) if os.path.isfile(os.path.join(class_dir, f))]\n",
        "        file_paths.extend([os.path.join(class_dir, f) for f in image_files])\n",
        "        label_ids.extend([label_id] * len(image_files))\n",
        "\n",
        "# Shuffle the file paths and label IDs\n",
        "tf.random.set_seed(42)\n",
        "tf.random.shuffle(file_paths)\n",
        "tf.random.set_seed(42)\n",
        "tf.random.shuffle(label_ids)\n",
        "\n",
        "# Split the dataset into training and testing sets using stratified sampling\n",
        "X_train_paths, X_test_paths, y_train_ids, y_test_ids = train_test_split(file_paths, label_ids, train_size=train_ratio, stratify=label_ids)\n",
        "\n",
        "# Convert the image data into NumPy arrays\n",
        "X_train = np.array([img_to_array(load_img(path, target_size=(130, 20))) for path in X_train_paths])\n",
        "X_test = np.array([img_to_array(load_img(path, target_size=(130, 20))) for path in X_test_paths])\n",
        "\n",
        "# Normalizing and performing one-hot encoding\n",
        "X_train = X_train.astype('float32')\n",
        "X_test = X_test.astype('float32')\n",
        "X_train = X_train/255.0\n",
        "X_test = X_test/255.0\n",
        "\n",
        "# Convert the label IDs into one-hot encoded vectors\n",
        "y_train = to_categorical(y_train_ids, num_classes=len(labels))\n",
        "y_test = to_categorical(y_test_ids, num_classes=len(labels))\n",
        "\n",
        "num_classes = y_test.shape[1]\n",
        "num_classes"
      ]
    },
    {
      "cell_type": "code",
      "execution_count": 5,
      "metadata": {},
      "outputs": [
        {
          "data": {
            "text/plain": [
              "(7688, 130, 20, 3)"
            ]
          },
          "execution_count": 5,
          "metadata": {},
          "output_type": "execute_result"
        }
      ],
      "source": [
        "X_train.shape"
      ]
    },
    {
      "cell_type": "code",
      "execution_count": 6,
      "metadata": {},
      "outputs": [
        {
          "data": {
            "text/plain": [
              "True"
            ]
          },
          "execution_count": 6,
          "metadata": {},
          "output_type": "execute_result"
        }
      ],
      "source": [
        "'./_data/Exceptions/Question2-scan0047.jpg' in X_train_paths"
      ]
    },
    {
      "cell_type": "code",
      "execution_count": 7,
      "metadata": {
        "colab": {
          "background_save": true
        },
        "id": "YVv_kxzlipoB"
      },
      "outputs": [],
      "source": [
        "import keras\n",
        "\n",
        "model = Sequential()\n",
        "\n",
        "model.add(Conv2D(32, (3, 3), input_shape=(130,20,3), activation='relu', padding='same'))\n",
        "model.add(Dropout(0.2))\n",
        "model.add(Conv2D(32, (3, 3), activation='relu', padding='same'))\n",
        "model.add(MaxPooling2D(pool_size=(2, 2)))\n",
        "model.add(Conv2D(64, (3, 3), activation='relu', padding='same'))\n",
        "model.add(Dropout(0.2))\n",
        "model.add(Conv2D(64, (3, 3), activation='relu', padding='same'))\n",
        "model.add(MaxPooling2D(pool_size=(2, 2)))\n",
        "model.add(Conv2D(128, (3, 3), activation='relu', padding='same'))\n",
        "model.add(Dropout(0.2))\n",
        "model.add(Conv2D(128, (3, 3), activation='relu', padding='same'))\n",
        "model.add(MaxPooling2D(pool_size=(2, 2)))\n",
        "model.add(Flatten())\n",
        "model.add(Dropout(0.2))\n",
        "model.add(Dense(1024, activation='relu', kernel_constraint=maxnorm(3)))\n",
        "model.add(Dropout(0.2))\n",
        "model.add(Dense(512, activation='relu', kernel_constraint=maxnorm(3)))\n",
        "model.add(Dropout(0.2))\n",
        "model.add(Dense(num_classes, activation='softmax'))\n",
        "\n"
      ]
    },
    {
      "cell_type": "code",
      "execution_count": 8,
      "metadata": {
        "colab": {
          "background_save": true
        },
        "id": "_TnhiLjx8wOF",
        "outputId": "7cc85321-69d2-48df-f26a-de71779404e4"
      },
      "outputs": [
        {
          "name": "stdout",
          "output_type": "stream",
          "text": [
            "Model: \"sequential\"\n",
            "_________________________________________________________________\n",
            " Layer (type)                Output Shape              Param #   \n",
            "=================================================================\n",
            " conv2d (Conv2D)             (None, 130, 20, 32)       896       \n",
            "                                                                 \n",
            " dropout (Dropout)           (None, 130, 20, 32)       0         \n",
            "                                                                 \n",
            " conv2d_1 (Conv2D)           (None, 130, 20, 32)       9248      \n",
            "                                                                 \n",
            " max_pooling2d (MaxPooling2D  (None, 65, 10, 32)       0         \n",
            " )                                                               \n",
            "                                                                 \n",
            " conv2d_2 (Conv2D)           (None, 65, 10, 64)        18496     \n",
            "                                                                 \n",
            " dropout_1 (Dropout)         (None, 65, 10, 64)        0         \n",
            "                                                                 \n",
            " conv2d_3 (Conv2D)           (None, 65, 10, 64)        36928     \n",
            "                                                                 \n",
            " max_pooling2d_1 (MaxPooling  (None, 32, 5, 64)        0         \n",
            " 2D)                                                             \n",
            "                                                                 \n",
            " conv2d_4 (Conv2D)           (None, 32, 5, 128)        73856     \n",
            "                                                                 \n",
            " dropout_2 (Dropout)         (None, 32, 5, 128)        0         \n",
            "                                                                 \n",
            " conv2d_5 (Conv2D)           (None, 32, 5, 128)        147584    \n",
            "                                                                 \n",
            " max_pooling2d_2 (MaxPooling  (None, 16, 2, 128)       0         \n",
            " 2D)                                                             \n",
            "                                                                 \n",
            " flatten (Flatten)           (None, 4096)              0         \n",
            "                                                                 \n",
            " dropout_3 (Dropout)         (None, 4096)              0         \n",
            "                                                                 \n",
            " dense (Dense)               (None, 1024)              4195328   \n",
            "                                                                 \n",
            " dropout_4 (Dropout)         (None, 1024)              0         \n",
            "                                                                 \n",
            " dense_1 (Dense)             (None, 512)               524800    \n",
            "                                                                 \n",
            " dropout_5 (Dropout)         (None, 512)               0         \n",
            "                                                                 \n",
            " dense_2 (Dense)             (None, 6)                 3078      \n",
            "                                                                 \n",
            "=================================================================\n",
            "Total params: 5,010,214\n",
            "Trainable params: 5,010,214\n",
            "Non-trainable params: 0\n",
            "_________________________________________________________________\n"
          ]
        }
      ],
      "source": [
        "model.summary()"
      ]
    },
    {
      "cell_type": "code",
      "execution_count": 9,
      "metadata": {
        "colab": {
          "base_uri": "https://localhost:8080/"
        },
        "id": "Do2pP8Ab8sfn",
        "outputId": "3a5fc5f3-cf00-4db5-f803-36ab0743d0a1"
      },
      "outputs": [],
      "source": [
        "model.compile(optimizer='Adam', loss=keras.losses.categorical_crossentropy, metrics=['accuracy'])\n",
        "\n",
        "# create a learning rate scheduler\n",
        "lr_scheduler = tf.keras.callbacks.LearningRateScheduler(lambda epoch: 1e-4 * 10 ** (epoch / 15))"
      ]
    },
    {
      "cell_type": "code",
      "execution_count": 10,
      "metadata": {},
      "outputs": [
        {
          "name": "stdout",
          "output_type": "stream",
          "text": [
            "Epoch 1/15\n"
          ]
        },
        {
          "name": "stderr",
          "output_type": "stream",
          "text": [
            "2023-06-23 14:54:36.090077: W tensorflow/core/platform/profile_utils/cpu_utils.cc:128] Failed to get CPU frequency: 0 Hz\n",
            "2023-06-23 14:54:36.545871: I tensorflow/core/grappler/optimizers/custom_graph_optimizer_registry.cc:113] Plugin optimizer for device_type GPU is enabled.\n"
          ]
        },
        {
          "name": "stdout",
          "output_type": "stream",
          "text": [
            "217/217 [==============================] - ETA: 0s - loss: 1.6690 - accuracy: 0.2542"
          ]
        },
        {
          "name": "stderr",
          "output_type": "stream",
          "text": [
            "2023-06-23 14:54:44.279626: I tensorflow/core/grappler/optimizers/custom_graph_optimizer_registry.cc:113] Plugin optimizer for device_type GPU is enabled.\n"
          ]
        },
        {
          "name": "stdout",
          "output_type": "stream",
          "text": [
            "217/217 [==============================] - 9s 35ms/step - loss: 1.6690 - accuracy: 0.2542 - val_loss: 1.1040 - val_accuracy: 0.6840 - lr: 1.0000e-04\n",
            "Epoch 2/15\n",
            "217/217 [==============================] - 7s 32ms/step - loss: 0.5376 - accuracy: 0.8257 - val_loss: 0.4160 - val_accuracy: 0.8726 - lr: 1.1659e-04\n",
            "Epoch 3/15\n",
            "217/217 [==============================] - 7s 33ms/step - loss: 0.3217 - accuracy: 0.9023 - val_loss: 0.2695 - val_accuracy: 0.9116 - lr: 1.3594e-04\n",
            "Epoch 4/15\n",
            "217/217 [==============================] - 7s 32ms/step - loss: 0.2688 - accuracy: 0.9212 - val_loss: 0.2502 - val_accuracy: 0.9259 - lr: 1.5849e-04\n",
            "Epoch 5/15\n",
            "217/217 [==============================] - 7s 32ms/step - loss: 0.2149 - accuracy: 0.9380 - val_loss: 0.2050 - val_accuracy: 0.9441 - lr: 1.8478e-04\n",
            "Epoch 6/15\n",
            "217/217 [==============================] - 7s 31ms/step - loss: 0.2144 - accuracy: 0.9392 - val_loss: 0.2287 - val_accuracy: 0.9363 - lr: 2.1544e-04\n",
            "Epoch 7/15\n",
            "217/217 [==============================] - 7s 32ms/step - loss: 0.1835 - accuracy: 0.9446 - val_loss: 0.2051 - val_accuracy: 0.9454 - lr: 2.5119e-04\n",
            "Epoch 8/15\n",
            "217/217 [==============================] - 7s 32ms/step - loss: 0.1599 - accuracy: 0.9532 - val_loss: 0.1244 - val_accuracy: 0.9675 - lr: 2.9286e-04\n",
            "Epoch 9/15\n",
            "217/217 [==============================] - 7s 32ms/step - loss: 0.1519 - accuracy: 0.9572 - val_loss: 0.1505 - val_accuracy: 0.9571 - lr: 3.4145e-04\n",
            "Epoch 10/15\n",
            "217/217 [==============================] - 7s 31ms/step - loss: 0.1458 - accuracy: 0.9608 - val_loss: 0.1904 - val_accuracy: 0.9428 - lr: 3.9811e-04\n",
            "Epoch 11/15\n",
            "217/217 [==============================] - 7s 33ms/step - loss: 0.1394 - accuracy: 0.9631 - val_loss: 0.1556 - val_accuracy: 0.9597 - lr: 4.6416e-04\n",
            "Epoch 12/15\n",
            "217/217 [==============================] - 7s 32ms/step - loss: 0.1382 - accuracy: 0.9630 - val_loss: 0.1147 - val_accuracy: 0.9792 - lr: 5.4117e-04\n",
            "Epoch 13/15\n",
            "217/217 [==============================] - 7s 32ms/step - loss: 0.1348 - accuracy: 0.9636 - val_loss: 0.1497 - val_accuracy: 0.9545 - lr: 6.3096e-04\n",
            "Epoch 14/15\n",
            "217/217 [==============================] - 7s 32ms/step - loss: 0.1580 - accuracy: 0.9581 - val_loss: 0.1346 - val_accuracy: 0.9584 - lr: 7.3564e-04\n",
            "Epoch 15/15\n",
            "217/217 [==============================] - 7s 32ms/step - loss: 0.1488 - accuracy: 0.9620 - val_loss: 0.1208 - val_accuracy: 0.9636 - lr: 8.5770e-04\n"
          ]
        }
      ],
      "source": [
        "hist = model.fit(X_train, y_train , epochs=15, validation_split=0.1, callbacks=[lr_scheduler])"
      ]
    },
    {
      "attachments": {},
      "cell_type": "markdown",
      "metadata": {},
      "source": [
        "## Save Model"
      ]
    },
    {
      "cell_type": "code",
      "execution_count": null,
      "metadata": {},
      "outputs": [],
      "source": [
        "# models_path = \"./saved_models\"\n",
        "\n",
        "# os.makedirs(models_path, exist_ok=True)\n",
        "\n",
        "# # get the number of files in the directory\n",
        "# def get_num_files(path):\n",
        "#     if not os.path.exists(path):\n",
        "#         return 0\n",
        "#     return sum([len(files) for r, d, files in os.walk(path)])\n",
        "\n",
        "# # save the model with the current number\n",
        "# num_files = get_num_files(models_path)\n",
        "\n",
        "# model.save(os.path.join(models_path, f\"model_{num_files}.h5\"))"
      ]
    },
    {
      "cell_type": "code",
      "execution_count": 11,
      "metadata": {},
      "outputs": [
        {
          "name": "stderr",
          "output_type": "stream",
          "text": [
            "/var/folders/fp/mn15v0dx2s7_pkffb0939s800000gn/T/ipykernel_23492/3113396048.py:6: UserWarning: Matplotlib is currently using module://matplotlib_inline.backend_inline, which is a non-GUI backend, so cannot show the figure.\n",
            "  fig.show()\n"
          ]
        },
        {
          "data": {
            "image/png": "[encoded data removed]",
            "text/plain": [
              "<Figure size 640x480 with 1 Axes>"
            ]
          },
          "metadata": {},
          "output_type": "display_data"
        }
      ],
      "source": [
        "import matplotlib.pyplot as plt\n",
        "\n",
        "fig = plt.figure()\n",
        "plt.plot(hist.history['accuracy'], color='red', label='acc')\n",
        "plt.plot(hist.history['val_accuracy'], label='val_acc')\n",
        "fig.show()"
      ]
    },
    {
      "cell_type": "code",
      "execution_count": 12,
      "metadata": {},
      "outputs": [
        {
          "data": {
            "text/plain": [
              "[<matplotlib.lines.Line2D at 0x29c9cf730>]"
            ]
          },
          "execution_count": 12,
          "metadata": {},
          "output_type": "execute_result"
        },
        {
          "data": {
            "image/png": "[encoded data removed]",
            "text/plain": [
              "<Figure size 640x480 with 1 Axes>"
            ]
          },
          "metadata": {},
          "output_type": "display_data"
        }
      ],
      "source": [
        "fig\n",
        "plt.plot(hist.history['loss'])\n",
        "plt.plot(hist.history['val_loss'], color='orange', label='val_loss')"
      ]
    },
    {
      "cell_type": "code",
      "execution_count": 49,
      "metadata": {
        "colab": {
          "base_uri": "https://localhost:8080/",
          "height": 183
        },
        "id": "k90b5abqkE2v",
        "outputId": "0e236d04-85d2-42ef-deaf-97c7ec83347f"
      },
      "outputs": [
        {
          "name": "stdout",
          "output_type": "stream",
          "text": [
            "61/61 [==============================] - 1s 9ms/step\n"
          ]
        }
      ],
      "source": [
        "predictions_original = model.predict(X_test)\n",
        "rounded_predictions = np.apply_along_axis(lambda x: np.round(x), 1, predictions_original)"
      ]
    },
    {
      "cell_type": "code",
      "execution_count": 50,
      "metadata": {},
      "outputs": [],
      "source": [
        "y_test_argmax = tf.argmax(y_test, axis=1)\n"
      ]
    },
    {
      "cell_type": "code",
      "execution_count": 51,
      "metadata": {},
      "outputs": [
        {
          "data": {
            "text/plain": [
              "array([[1., 0., 0., 0., 0., 0.],\n",
              "       [1., 0., 0., 0., 0., 0.],\n",
              "       [0., 0., 0., 1., 0., 0.],\n",
              "       ...,\n",
              "       [0., 0., 1., 0., 0., 0.],\n",
              "       [0., 1., 0., 0., 0., 0.],\n",
              "       [0., 0., 1., 0., 0., 0.]], dtype=float32)"
            ]
          },
          "execution_count": 51,
          "metadata": {},
          "output_type": "execute_result"
        }
      ],
      "source": [
        "rounded_predictions"
      ]
    },
    {
      "cell_type": "code",
      "execution_count": 62,
      "metadata": {},
      "outputs": [
        {
          "name": "stdout",
          "output_type": "stream",
          "text": [
            "average 0 12\n",
            "average 1 184\n",
            "average 2 308\n",
            "average 3 75\n",
            "average 4 348\n",
            "average 5 29\n"
          ]
        }
      ],
      "source": [
        "prediction_index_probs: dict[int, list] = {\n",
        "    0: [],\n",
        "    1: [],\n",
        "    2: [],\n",
        "    3: [],\n",
        "    4: [],\n",
        "    5: []\n",
        "}\n",
        "\n",
        "low_prob_indices = []\n",
        "low_prob_predictions = []\n",
        "\n",
        "for i, prediction in enumerate(predictions_original):\n",
        "    prediction_index = np.argmax(prediction)\n",
        "    prediction_prob = prediction[prediction_index]\n",
        "    if prediction_prob < 0.7:\n",
        "        low_prob_indices.append(i)\n",
        "        low_prob_predictions.append(prediction)\n",
        "    prediction_index_probs[prediction_index].append(prediction_prob)\n",
        "    # print(prediction_index_probs)\n",
        "\n",
        "for key in prediction_index_probs.keys():\n",
        "    print(f\"average {key}\", np.argmin(prediction_index_probs[key]))    \n"
      ]
    },
    {
      "cell_type": "code",
      "execution_count": 67,
      "metadata": {},
      "outputs": [
        {
          "name": "stdout",
          "output_type": "stream",
          "text": [
            "116 out of 1922\n",
            "percentage: 0.060353798126951096\n"
          ]
        }
      ],
      "source": [
        "print(f\"{len(low_prob_indices)} out of {len(X_test)}\")\n",
        "print(f\"percentage: {len(low_prob_indices)/len(X_test)}\")"
      ]
    },
    {
      "cell_type": "code",
      "execution_count": 60,
      "metadata": {},
      "outputs": [
        {
          "data": {
            "text/plain": [
              "'./_data/B/Question172-scan0015.jpg'"
            ]
          },
          "execution_count": 60,
          "metadata": {},
          "output_type": "execute_result"
        }
      ],
      "source": [
        "X_test_paths[1907]"
      ]
    },
    {
      "cell_type": "code",
      "execution_count": 57,
      "metadata": {},
      "outputs": [
        {
          "data": {
            "text/plain": [
              "array([0.12641414, 0.00768519, 0.00093208, 0.00204984, 0.8593111 ,\n",
              "       0.00360764], dtype=float32)"
            ]
          },
          "execution_count": 57,
          "metadata": {},
          "output_type": "execute_result"
        }
      ],
      "source": [
        "predictions_original[11]"
      ]
    },
    {
      "cell_type": "code",
      "execution_count": 28,
      "metadata": {},
      "outputs": [],
      "source": [
        "predictions = tf.argmax(rounded_predictions, axis=1)"
      ]
    },
    {
      "cell_type": "code",
      "execution_count": 45,
      "metadata": {
        "id": "aQEnZTQukNMF"
      },
      "outputs": [],
      "source": [
        "cm = tf.math.confusion_matrix(y_test_argmax, predictions)\n",
        "cm = cm/cm.numpy().sum(axis=1)[:, tf.newaxis]"
      ]
    },
    {
      "cell_type": "code",
      "execution_count": 46,
      "metadata": {},
      "outputs": [
        {
          "data": {
            "text/plain": [
              "array([[0.98108108, 0.0027027 , 0.        , 0.00540541, 0.00810811,\n",
              "        0.0027027 ],\n",
              "       [0.02849003, 0.95156695, 0.00569801, 0.00569801, 0.00569801,\n",
              "        0.002849  ],\n",
              "       [0.0132626 , 0.        , 0.94960212, 0.03183024, 0.00265252,\n",
              "        0.00265252],\n",
              "       [0.01358696, 0.        , 0.        , 0.95380435, 0.0326087 ,\n",
              "        0.        ],\n",
              "       [0.02122016, 0.        , 0.        , 0.01591512, 0.9602122 ,\n",
              "        0.00265252],\n",
              "       [0.08860759, 0.01265823, 0.01265823, 0.07594937, 0.02531646,\n",
              "        0.78481013]])"
            ]
          },
          "execution_count": 46,
          "metadata": {},
          "output_type": "execute_result"
        }
      ],
      "source": [
        "cm.numpy()"
      ]
    },
    {
      "cell_type": "code",
      "execution_count": 47,
      "metadata": {
        "colab": {
          "background_save": true
        },
        "id": "Cn9dr7L7Z09F"
      },
      "outputs": [
        {
          "data": {
            "image/png": "[encoded data removed]",
            "text/plain": [
              "<Figure size 1000x1000 with 2 Axes>"
            ]
          },
          "metadata": {},
          "output_type": "display_data"
        }
      ],
      "source": [
        "import seaborn as sns\n",
        "\n",
        "plt.figure(figsize=(10, 10))\n",
        "sns.heatmap(cm, annot=True, fmt=\".2f\", linewidths=0.5, square=True, cmap='Blues_r', xticklabels=labels, yticklabels=labels)\n",
        "plt.ylabel('Actual label')\n",
        "plt.xlabel('Predicted label')\n",
        "plt.title(\"Confusion matrix\")\n",
        "plt.show()"
      ]
    },
    {
      "cell_type": "code",
      "execution_count": null,
      "metadata": {},
      "outputs": [],
      "source": [
        "from tensorflow.keras.metrics import Precision, Accuracy, Recall, BinaryAccuracy\n",
        "\n",
        "labels = y_test\n",
        "\n",
        "precision = Precision()\n",
        "accuracy = Accuracy()\n",
        "recall = Recall()"
      ]
    },
    {
      "cell_type": "code",
      "execution_count": null,
      "metadata": {},
      "outputs": [],
      "source": [
        "# Evaluate the metrics\n",
        "precision.update_state(labels, rounded_predictions)\n",
        "accuracy.update_state(labels, rounded_predictions)\n",
        "recall.update_state(labels, rounded_predictions)\n",
        "\n",
        "# Print the metrics\n",
        "print('Precision:', precision.result().numpy())\n",
        "print('Accuracy:', accuracy.result().numpy())\n",
        "print('Recall:', recall.result().numpy())"
      ]
    },
    {
      "cell_type": "code",
      "execution_count": null,
      "metadata": {},
      "outputs": [],
      "source": [
        "scores = model.evaluate(X_test, y_test, verbose=0)\n",
        "print(\"Accuracy: %.2f%%\" % (scores[1]*100))"
      ]
    },
    {
      "cell_type": "code",
      "execution_count": 25,
      "metadata": {},
      "outputs": [
        {
          "name": "stdout",
          "output_type": "stream",
          "text": [
            "1/1 [==============================] - 0s 13ms/step\n",
            "Question51-scan0048.jpg [0.62712437]\n",
            "1/1 [==============================] - 0s 13ms/step\n",
            "Question43-scan0048.jpg [0.9623627]\n",
            "1/1 [==============================] - 0s 13ms/step\n",
            "Question16-scan0048.jpg [0.99535036]\n",
            "1/1 [==============================] - 0s 14ms/step\n",
            "Question11-scan0048.jpg [0.6196985]\n",
            "1/1 [==============================] - 0s 14ms/step\n",
            "Question72-scan0048.jpg [0.99681276]\n",
            "1/1 [==============================] - 0s 13ms/step\n",
            "Question27-scan0048.jpg [0.86267227]\n",
            "1/1 [==============================] - 0s 14ms/step\n",
            "Question75-scan0048.jpg [0.957994]\n",
            "1/1 [==============================] - 0s 14ms/step\n",
            "Question20-scan0048.jpg [0.9889059]\n",
            "1/1 [==============================] - 0s 18ms/step\n",
            "Question67-scan0048.jpg [0.97574675]\n",
            "1/1 [==============================] - 0s 13ms/step\n",
            "Question32-scan0048.jpg [0.49070036]\n",
            "1/1 [==============================] - 0s 12ms/step\n",
            "Question10-scan0048.jpg [0.8672704]\n",
            "1/1 [==============================] - 0s 13ms/step\n",
            "Question17-scan0048.jpg [0.91837823]\n",
            "1/1 [==============================] - 0s 12ms/step\n",
            "Question42-scan0048.jpg [0.94525385]\n",
            "1/1 [==============================] - 0s 13ms/step\n",
            "Question19-scan0026.jpg [0.75911736]\n",
            "1/1 [==============================] - 0s 13ms/step\n",
            "Question80-scan0029.jpg [0.9995609]\n",
            "1/1 [==============================] - 0s 13ms/step\n",
            "Question66-scan0048.jpg [0.99671495]\n",
            "1/1 [==============================] - 0s 14ms/step\n",
            "Question21-scan0048.jpg [0.7350922]\n",
            "1/1 [==============================] - 0s 13ms/step\n",
            "Question74-scan0048.jpg [0.54851055]\n",
            "1/1 [==============================] - 0s 13ms/step\n",
            "Question26-scan0048.jpg [0.99354386]\n",
            "1/1 [==============================] - 0s 13ms/step\n",
            "Question73-scan0048.jpg [0.49621588]\n",
            "1/1 [==============================] - 0s 13ms/step\n",
            "Question34-scan0005.jpg [0.99999297]\n",
            "1/1 [==============================] - 0s 14ms/step\n",
            "Question7-scan0048.jpg [0.89379543]\n",
            "1/1 [==============================] - 0s 12ms/step\n",
            "Question157-scan0019.jpg [0.9991027]\n",
            "1/1 [==============================] - 0s 13ms/step\n",
            "Question1-scan0048.jpg [0.8625007]\n",
            "1/1 [==============================] - 0s 13ms/step\n",
            "Question68-scan0048.jpg [0.649091]\n",
            "1/1 [==============================] - 0s 12ms/step\n",
            "Question20-scan0035.jpg [0.97028065]\n",
            "1/1 [==============================] - 0s 13ms/step\n",
            "Question10-scan0019.jpg [0.87003374]\n",
            "1/1 [==============================] - 0s 12ms/step\n",
            "Question28-scan0048.jpg [0.96497405]\n",
            "1/1 [==============================] - 0s 13ms/step\n",
            "Question199-scan0028.jpg [0.98658305]\n",
            "1/1 [==============================] - 0s 13ms/step\n",
            "Question4-scan0048.jpg [0.96461815]\n",
            "1/1 [==============================] - 0s 14ms/step\n",
            "Question19-scan0048.jpg [0.9998592]\n",
            "1/1 [==============================] - 0s 12ms/step\n",
            "Question69-scan0048.jpg [0.9944476]\n",
            "1/1 [==============================] - 0s 17ms/step\n",
            "Question2-scan0048.jpg [0.9967924]\n",
            "1/1 [==============================] - 0s 14ms/step\n",
            "Question18-scan0048.jpg [0.70192236]\n",
            "1/1 [==============================] - 0s 14ms/step\n",
            "Question15-scan0048.jpg [0.96529025]\n",
            "1/1 [==============================] - 0s 13ms/step\n",
            "Question12-scan0048.jpg [0.9855187]\n",
            "1/1 [==============================] - 0s 13ms/step\n",
            "Question8-scan0048.jpg [0.9876194]\n",
            "1/1 [==============================] - 0s 13ms/step\n",
            "Question52-scan0048.jpg [0.6878582]\n",
            "1/1 [==============================] - 0s 14ms/step\n",
            "Question98-scan0042.jpg [0.97173756]\n",
            "1/1 [==============================] - 0s 13ms/step\n",
            "Question31-scan0048.jpg [0.70872366]\n",
            "1/1 [==============================] - 0s 13ms/step\n",
            "Question71-scan0048.jpg [0.99981374]\n",
            "1/1 [==============================] - 0s 13ms/step\n",
            "Question24-scan0048.jpg [0.6642057]\n",
            "1/1 [==============================] - 0s 13ms/step\n",
            "Question76-scan0048.jpg [0.8007712]\n",
            "1/1 [==============================] - 0s 13ms/step\n",
            "Question23-scan0048.jpg [0.49713263]\n",
            "1/1 [==============================] - 0s 13ms/step\n",
            "Question39-scan0019.jpg [0.98946583]\n",
            "1/1 [==============================] - 0s 13ms/step\n",
            "Question54-scan0048.jpg [0.31967682]\n",
            "1/1 [==============================] - 0s 13ms/step\n",
            "Question13-scan0048.jpg [0.996487]\n",
            "1/1 [==============================] - 0s 13ms/step\n",
            "Question9-scan0048.jpg [0.9798396]\n",
            "1/1 [==============================] - 0s 14ms/step\n",
            "Question14-scan0048.jpg [0.9842717]\n",
            "1/1 [==============================] - 0s 13ms/step\n",
            "Question22-scan0048.jpg [0.96388465]\n",
            "1/1 [==============================] - 0s 13ms/step\n",
            "Question77-scan0048.jpg [0.75353026]\n",
            "1/1 [==============================] - 0s 16ms/step\n",
            "Question25-scan0048.jpg [0.9863744]\n",
            "1/1 [==============================] - 0s 13ms/step\n",
            "Question70-scan0048.jpg [0.58388287]\n",
            "1/1 [==============================] - 0s 13ms/step\n",
            "Question30-scan0048.jpg [0.8549949]\n"
          ]
        }
      ],
      "source": [
        "import cv2\n",
        "\n",
        "# a = cv2.imread(dataset_dir + '/double/Question1-scan0048.jpg')\n",
        "# getting all the files in a dir\n",
        "for image_name in os.listdir(\"./_data/double\"):\n",
        "    image_path = os.path.join(\"./_data/double\", image_name)\n",
        "    a = cv2.imread(image_path)\n",
        "    resize = tf.image.resize(a, (130, 20))\n",
        "    b = model.predict(np.expand_dims(resize/255, 0))\n",
        "    c = np.apply_along_axis(lambda x: np.max(x), 1, b)\n",
        "    print(image_name, c)\n",
        "# plt.imshow(a)\n",
        "    # e = np.apply_along_axis(lambda x: np.round(x), 1, b)"
      ]
    },
    {
      "cell_type": "code",
      "execution_count": 6,
      "metadata": {},
      "outputs": [
        {
          "name": "stderr",
          "output_type": "stream",
          "text": [
            "2023-06-27 12:34:42.576695: I tensorflow/compiler/mlir/mlir_graph_optimization_pass.cc:116] None of the MLIR optimization passes are enabled (registered 2)\n",
            "2023-06-27 12:34:42.580013: I tensorflow/core/platform/profile_utils/cpu_utils.cc:112] CPU Frequency: 2499950000 Hz\n",
            "2023-06-27 12:34:42.693417: I tensorflow/stream_executor/platform/default/dso_loader.cc:49] Successfully opened dynamic library libcublas.so.10\n",
            "2023-06-27 12:34:42.889521: I tensorflow/stream_executor/platform/default/dso_loader.cc:49] Successfully opened dynamic library libcudnn.so.7\n"
          ]
        },
        {
          "name": "stdout",
          "output_type": "stream",
          "text": [
            "Accuracy: 97.45%\n"
          ]
        }
      ],
      "source": [
        "import cv2\n",
        "import numpy as np\n",
        "model = tf.keras.models.load_model('saved_models/model_1.h5')\n",
        "\n",
        "img = cv2.imread('./output_folder/Question2.jpg')\n",
        "resize = tf.image.resize(img, [130, 20])\n",
        "predictions = model.predict(np.expand_dims(resize/255, axis=0))\n",
        "\n",
        "scores = model.evaluate(X_test, y_test, verbose=0)\n",
        "print(\"Accuracy: %.2f%%\" % (scores[1]*100))"
      ]
    },
    {
      "cell_type": "code",
      "execution_count": 7,
      "metadata": {},
      "outputs": [
        {
          "data": {
            "text/plain": [
              "array([[0.3228849 , 0.01961753, 0.07438634, 0.02790102, 0.09390964,\n",
              "        0.46130052]], dtype=float32)"
            ]
          },
          "execution_count": 7,
          "metadata": {},
          "output_type": "execute_result"
        }
      ],
      "source": [
        "predictions"
      ]
    },
    {
      "cell_type": "code",
      "execution_count": 8,
      "metadata": {},
      "outputs": [],
      "source": [
        "pred = np.apply_along_axis(lambda x: np.round(x), 1, predictions)"
      ]
    },
    {
      "cell_type": "code",
      "execution_count": 11,
      "metadata": {},
      "outputs": [
        {
          "data": {
            "text/plain": [
              "array([[0.3228849 , 0.01961753, 0.07438634, 0.02790102, 0.09390964,\n",
              "        0.46130052]], dtype=float32)"
            ]
          },
          "execution_count": 11,
          "metadata": {},
          "output_type": "execute_result"
        }
      ],
      "source": [
        "predictions"
      ]
    },
    {
      "cell_type": "code",
      "execution_count": 9,
      "metadata": {},
      "outputs": [],
      "source": [
        "shading= {\n",
        "    0: 'A',\n",
        "    1: 'B',\n",
        "    2: 'C', \n",
        "    3: 'D', \n",
        "    4: 'E',\n",
        "    5: 'Exception'\n",
        "}\n",
        "for i in range(len(pred)):\n",
        "    for j in range(len(pred[i])):\n",
        "        if pred[i][j] == 1:\n",
        "            print(shading[j], end=' ')"
      ]
    }
  ],
  "metadata": {
    "accelerator": "GPU",
    "colab": {
      "gpuType": "T4",
      "provenance": []
    },
    "kernelspec": {
      "display_name": "Python 3",
      "name": "python3"
    },
    "language_info": {
      "codemirror_mode": {
        "name": "ipython",
        "version": 3
      },
      "file_extension": ".py",
      "mimetype": "text/x-python",
      "name": "python",
      "nbconvert_exporter": "python",
      "pygments_lexer": "ipython3",
      "version": "3.8.12"
    }
  },
  "nbformat": 4,
  "nbformat_minor": 0
}
