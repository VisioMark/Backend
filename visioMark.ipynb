{
  "cells": [
    {
      "cell_type": "code",
      "execution_count": 1,
      "metadata": {
        "id": "KQLPRzaFjiZk"
      },
      "outputs": [
        {
          "name": "stderr",
          "output_type": "stream",
          "text": [
            "2023-06-18 12:28:42.856569: I tensorflow/tsl/cuda/cudart_stub.cc:28] Could not find cuda drivers on your machine, GPU will not be used.\n",
            "2023-06-18 12:28:43.357338: I tensorflow/tsl/cuda/cudart_stub.cc:28] Could not find cuda drivers on your machine, GPU will not be used.\n",
            "2023-06-18 12:28:43.363054: I tensorflow/core/platform/cpu_feature_guard.cc:182] This TensorFlow binary is optimized to use available CPU instructions in performance-critical operations.\n",
            "To enable the following instructions: AVX2 FMA, in other operations, rebuild TensorFlow with the appropriate compiler flags.\n",
            "2023-06-18 12:28:48.655881: W tensorflow/compiler/tf2tensorrt/utils/py_utils.cc:38] TF-TRT Warning: Could not find TensorRT\n"
          ]
        }
      ],
      "source": [
        "import tensorflow as tf\n",
        "from keras.models import Sequential\n",
        "from keras.layers import Dense, Dropout, Flatten, Conv2D, MaxPooling2D, Activation\n",
        "import random\n",
        "import numpy as np\n",
        "from sklearn.model_selection import train_test_split\n",
        "from tensorflow.keras.preprocessing.image import load_img, img_to_array\n",
        "from keras.constraints import maxnorm\n",
        "from tensorflow.keras.utils import to_categorical\n"
      ]
    },
    {
      "cell_type": "code",
      "execution_count": 2,
      "metadata": {
        "id": "sa7irhsZ3fsp"
      },
      "outputs": [],
      "source": [
        "dataset_dir = './_data'\n",
        "\n",
        "train_ratio = 0.8  # 80% for training, 20% for testing\n",
        "# Lists to store the file paths and labels\n",
        "file_paths = []\n",
        "label_ids = []\n",
        "labels = ['A', 'B', 'C', 'D', 'E', 'Exceptions']"
      ]
    },
    {
      "cell_type": "code",
      "execution_count": 4,
      "metadata": {},
      "outputs": [
        {
          "name": "stderr",
          "output_type": "stream",
          "text": [
            "2023-06-18 13:22:14.792718: I tensorflow/tsl/cuda/cudart_stub.cc:28] Could not find cuda drivers on your machine, GPU will not be used.\n",
            "2023-06-18 13:22:15.020061: I tensorflow/tsl/cuda/cudart_stub.cc:28] Could not find cuda drivers on your machine, GPU will not be used.\n",
            "2023-06-18 13:22:15.024172: I tensorflow/core/platform/cpu_feature_guard.cc:182] This TensorFlow binary is optimized to use available CPU instructions in performance-critical operations.\n",
            "To enable the following instructions: AVX2 FMA, in other operations, rebuild TensorFlow with the appropriate compiler flags.\n",
            "2023-06-18 13:22:17.000255: W tensorflow/compiler/tf2tensorrt/utils/py_utils.cc:38] TF-TRT Warning: Could not find TensorRT\n"
          ]
        },
        {
          "name": "stdout",
          "output_type": "stream",
          "text": [
            "TensorFlow is not running with your GPU\n"
          ]
        },
        {
          "name": "stderr",
          "output_type": "stream",
          "text": [
            "2023-06-18 13:22:19.801913: I tensorflow/compiler/xla/stream_executor/cuda/cuda_gpu_executor.cc:982] could not open file to read NUMA node: /sys/bus/pci/devices/0000:01:00.0/numa_node\n",
            "Your kernel may have been built without NUMA support.\n",
            "2023-06-18 13:22:19.966481: W tensorflow/core/common_runtime/gpu/gpu_device.cc:1956] Cannot dlopen some GPU libraries. Please make sure the missing libraries mentioned above are installed properly if you would like to use GPU. Follow the guide at https://www.tensorflow.org/install/gpu for how to download and setup the required libraries for your platform.\n",
            "Skipping registering GPU devices...\n"
          ]
        }
      ],
      "source": [
        "import tensorflow as tf\n",
        "\n",
        "devices = tf.config.list_physical_devices(\"GPU\")\n",
        "\n",
        "if devices:\n",
        "  print(\"TensorFlow is running with your GPU\")\n",
        "else:\n",
        "  print(\"TensorFlow is not running with your GPU\")"
      ]
    },
    {
      "cell_type": "markdown",
      "metadata": {
        "id": "q6HJovjT3L3w"
      },
      "source": [
        "## Checking if any image is corrupted or not"
      ]
    },
    {
      "cell_type": "code",
      "execution_count": 3,
      "metadata": {
        "colab": {
          "background_save": true
        },
        "id": "IAQfa5l5p_rs"
      },
      "outputs": [
        {
          "ename": "NameError",
          "evalue": "name 'dataset_dir' is not defined",
          "output_type": "error",
          "traceback": [
            "\u001b[0;31m---------------------------------------------------------------------------\u001b[0m",
            "\u001b[0;31mNameError\u001b[0m                                 Traceback (most recent call last)",
            "Cell \u001b[0;32mIn[3], line 4\u001b[0m\n\u001b[1;32m      1\u001b[0m \u001b[39mimport\u001b[39;00m \u001b[39mcv2\u001b[39;00m\n\u001b[1;32m      2\u001b[0m \u001b[39mimport\u001b[39;00m \u001b[39mos\u001b[39;00m\n\u001b[0;32m----> 4\u001b[0m image_files \u001b[39m=\u001b[39m [f \u001b[39mfor\u001b[39;00m f \u001b[39min\u001b[39;00m os\u001b[39m.\u001b[39mlistdir(dataset_dir) ]\n\u001b[1;32m      6\u001b[0m \u001b[39mfor\u001b[39;00m image_file \u001b[39min\u001b[39;00m image_files:\n\u001b[1;32m      7\u001b[0m   new_path \u001b[39m=\u001b[39m dataset_dir \u001b[39m+\u001b[39m \u001b[39m'\u001b[39m\u001b[39m/\u001b[39m\u001b[39m'\u001b[39m \u001b[39m+\u001b[39m image_file\n",
            "\u001b[0;31mNameError\u001b[0m: name 'dataset_dir' is not defined"
          ]
        }
      ],
      "source": [
        "import cv2\n",
        "import os\n",
        "\n",
        "\n",
        "image_files = [f for f in os.listdir(dataset_dir) ]\n",
        "\n",
        "for image_file in image_files:\n",
        "  new_path = dataset_dir + '/' + image_file\n",
        "  files = [f for f in os.listdir(new_path) if os.path.isfile(os.path.join(new_path, f))]\n",
        "\n",
        "  for i in range(len(files)):\n",
        "    try:\n",
        "        img = cv2.imread(new_path + '/' + files[i])\n",
        "        dummy = img.shape # this line will throw the exception\n",
        "    except:\n",
        "        print(\"[INFO] Image is not available or corrupted.\")\n",
        "        print(new_path+'/'+files[i])\n"
      ]
    },
    {
      "cell_type": "code",
      "execution_count": 5,
      "metadata": {
        "colab": {
          "background_save": true
        },
        "id": "F7XpxNbl7X7i"
      },
      "outputs": [
        {
          "data": {
            "text/plain": [
              "6"
            ]
          },
          "execution_count": 5,
          "metadata": {},
          "output_type": "execute_result"
        }
      ],
      "source": [
        "import os\n",
        "# Iterate through each class directory\n",
        "for label_id, label in enumerate(labels):\n",
        "    class_dir = os.path.join(dataset_dir, label)\n",
        "    if os.path.isdir(class_dir):\n",
        "        image_files = [f for f in os.listdir(class_dir) if os.path.isfile(os.path.join(class_dir, f))]\n",
        "        file_paths.extend([os.path.join(class_dir, f) for f in image_files])\n",
        "        label_ids.extend([label_id] * len(image_files))\n",
        "\n",
        "# Shuffle the file paths and label IDs\n",
        "tf.random.set_seed(42)\n",
        "tf.random.shuffle(file_paths)\n",
        "tf.random.set_seed(42)\n",
        "tf.random.shuffle(label_ids)\n",
        "\n",
        "# Split the dataset into training and testing sets using stratified sampling\n",
        "X_train_paths, X_test_paths, y_train_ids, y_test_ids = train_test_split(file_paths, label_ids, train_size=train_ratio, stratify=label_ids)\n",
        "\n",
        "# Convert the image data into NumPy arrays\n",
        "X_train = np.array([img_to_array(load_img(path, target_size=(130, 20))) for path in X_train_paths])\n",
        "X_test = np.array([img_to_array(load_img(path, target_size=(130, 20))) for path in X_test_paths])\n",
        "\n",
        "# Normalizing and performing one-hot encoding\n",
        "X_train = X_train.astype('float32')\n",
        "X_test = X_test.astype('float32')\n",
        "X_train = X_train/255.0\n",
        "X_test = X_test/255.0\n",
        "\n",
        "# Convert the label IDs into one-hot encoded vectors\n",
        "y_train = to_categorical(y_train_ids, num_classes=len(labels))\n",
        "y_test = to_categorical(y_test_ids, num_classes=len(labels))\n",
        "\n",
        "num_classes = y_test.shape[1]\n",
        "num_classes"
      ]
    },
    {
      "cell_type": "code",
      "execution_count": 6,
      "metadata": {},
      "outputs": [
        {
          "data": {
            "text/plain": [
              "True"
            ]
          },
          "execution_count": 6,
          "metadata": {},
          "output_type": "execute_result"
        }
      ],
      "source": [
        "'./_data/Exceptions/Question2-scan0047.jpg' in X_train_paths"
      ]
    },
    {
      "cell_type": "code",
      "execution_count": 7,
      "metadata": {
        "colab": {
          "background_save": true
        },
        "id": "YVv_kxzlipoB"
      },
      "outputs": [],
      "source": [
        "import keras\n",
        "\n",
        "model = Sequential()\n",
        "\n",
        "model.add(Conv2D(32, (3, 3), input_shape=(130,20,3), activation='relu', padding='same'))\n",
        "model.add(Dropout(0.2))\n",
        "model.add(Conv2D(32, (3, 3), activation='relu', padding='same'))\n",
        "model.add(MaxPooling2D(pool_size=(2, 2)))\n",
        "model.add(Conv2D(64, (3, 3), activation='relu', padding='same'))\n",
        "model.add(Dropout(0.2))\n",
        "model.add(Conv2D(64, (3, 3), activation='relu', padding='same'))\n",
        "model.add(MaxPooling2D(pool_size=(2, 2)))\n",
        "model.add(Conv2D(128, (3, 3), activation='relu', padding='same'))\n",
        "model.add(Dropout(0.2))\n",
        "model.add(Conv2D(128, (3, 3), activation='relu', padding='same'))\n",
        "model.add(MaxPooling2D(pool_size=(2, 2)))\n",
        "model.add(Flatten())\n",
        "model.add(Dropout(0.2))\n",
        "model.add(Dense(1024, activation='relu', kernel_constraint=maxnorm(3)))\n",
        "model.add(Dropout(0.2))\n",
        "model.add(Dense(512, activation='relu', kernel_constraint=maxnorm(3)))\n",
        "model.add(Dropout(0.2))\n",
        "model.add(Dense(num_classes, activation='softmax'))\n",
        "\n"
      ]
    },
    {
      "cell_type": "code",
      "execution_count": 8,
      "metadata": {
        "colab": {
          "background_save": true
        },
        "id": "_TnhiLjx8wOF",
        "outputId": "7cc85321-69d2-48df-f26a-de71779404e4"
      },
      "outputs": [
        {
          "name": "stdout",
          "output_type": "stream",
          "text": [
            "Model: \"sequential\"\n",
            "_________________________________________________________________\n",
            " Layer (type)                Output Shape              Param #   \n",
            "=================================================================\n",
            " conv2d (Conv2D)             (None, 130, 20, 32)       896       \n",
            "                                                                 \n",
            " dropout (Dropout)           (None, 130, 20, 32)       0         \n",
            "                                                                 \n",
            " conv2d_1 (Conv2D)           (None, 130, 20, 32)       9248      \n",
            "                                                                 \n",
            " max_pooling2d (MaxPooling2D  (None, 65, 10, 32)       0         \n",
            " )                                                               \n",
            "                                                                 \n",
            " conv2d_2 (Conv2D)           (None, 65, 10, 64)        18496     \n",
            "                                                                 \n",
            " dropout_1 (Dropout)         (None, 65, 10, 64)        0         \n",
            "                                                                 \n",
            " conv2d_3 (Conv2D)           (None, 65, 10, 64)        36928     \n",
            "                                                                 \n",
            " max_pooling2d_1 (MaxPooling  (None, 32, 5, 64)        0         \n",
            " 2D)                                                             \n",
            "                                                                 \n",
            " conv2d_4 (Conv2D)           (None, 32, 5, 128)        73856     \n",
            "                                                                 \n",
            " dropout_2 (Dropout)         (None, 32, 5, 128)        0         \n",
            "                                                                 \n",
            " conv2d_5 (Conv2D)           (None, 32, 5, 128)        147584    \n",
            "                                                                 \n",
            " max_pooling2d_2 (MaxPooling  (None, 16, 2, 128)       0         \n",
            " 2D)                                                             \n",
            "                                                                 \n",
            " flatten (Flatten)           (None, 4096)              0         \n",
            "                                                                 \n",
            " dropout_3 (Dropout)         (None, 4096)              0         \n",
            "                                                                 \n",
            " dense (Dense)               (None, 1024)              4195328   \n",
            "                                                                 \n",
            " dropout_4 (Dropout)         (None, 1024)              0         \n",
            "                                                                 \n",
            " dense_1 (Dense)             (None, 512)               524800    \n",
            "                                                                 \n",
            " dropout_5 (Dropout)         (None, 512)               0         \n",
            "                                                                 \n",
            " dense_2 (Dense)             (None, 6)                 3078      \n",
            "                                                                 \n",
            "=================================================================\n",
            "Total params: 5,010,214\n",
            "Trainable params: 5,010,214\n",
            "Non-trainable params: 0\n",
            "_________________________________________________________________\n"
          ]
        }
      ],
      "source": [
        "model.summary()"
      ]
    },
    {
      "cell_type": "code",
      "execution_count": 9,
      "metadata": {
        "colab": {
          "base_uri": "https://localhost:8080/"
        },
        "id": "Do2pP8Ab8sfn",
        "outputId": "3a5fc5f3-cf00-4db5-f803-36ab0743d0a1"
      },
      "outputs": [],
      "source": [
        "model.compile(optimizer='adam', loss=keras.losses.categorical_crossentropy, metrics=['accuracy'])\n"
      ]
    },
    {
      "cell_type": "code",
      "execution_count": 10,
      "metadata": {},
      "outputs": [
        {
          "name": "stderr",
          "output_type": "stream",
          "text": [
            "2023-06-18 12:29:04.196230: W tensorflow/tsl/framework/cpu_allocator_impl.cc:83] Allocation of 215872800 exceeds 10% of free system memory.\n"
          ]
        },
        {
          "name": "stdout",
          "output_type": "stream",
          "text": [
            "Epoch 1/15\n",
            "217/217 [==============================] - 146s 660ms/step - loss: 1.5080 - accuracy: 0.3305 - val_loss: 0.5725 - val_accuracy: 0.8127\n",
            "Epoch 2/15\n",
            "217/217 [==============================] - 144s 662ms/step - loss: 0.4262 - accuracy: 0.8718 - val_loss: 0.2919 - val_accuracy: 0.9142\n",
            "Epoch 3/15\n",
            "217/217 [==============================] - 164s 758ms/step - loss: 0.2777 - accuracy: 0.9253 - val_loss: 0.2059 - val_accuracy: 0.9441\n",
            "Epoch 4/15\n",
            "217/217 [==============================] - 146s 672ms/step - loss: 0.2215 - accuracy: 0.9409 - val_loss: 0.1708 - val_accuracy: 0.9532\n",
            "Epoch 5/15\n",
            "217/217 [==============================] - 149s 687ms/step - loss: 0.1848 - accuracy: 0.9513 - val_loss: 0.1650 - val_accuracy: 0.9571\n",
            "Epoch 6/15\n",
            "217/217 [==============================] - 109s 502ms/step - loss: 0.1644 - accuracy: 0.9552 - val_loss: 0.1392 - val_accuracy: 0.9623\n",
            "Epoch 7/15\n",
            "217/217 [==============================] - 102s 469ms/step - loss: 0.1566 - accuracy: 0.9595 - val_loss: 0.1885 - val_accuracy: 0.9454\n",
            "Epoch 8/15\n",
            "217/217 [==============================] - 102s 472ms/step - loss: 0.1306 - accuracy: 0.9653 - val_loss: 0.1316 - val_accuracy: 0.9675\n",
            "Epoch 9/15\n",
            "217/217 [==============================] - 110s 507ms/step - loss: 0.1359 - accuracy: 0.9647 - val_loss: 0.2451 - val_accuracy: 0.9324\n",
            "Epoch 10/15\n",
            "217/217 [==============================] - 125s 576ms/step - loss: 0.1260 - accuracy: 0.9679 - val_loss: 0.1215 - val_accuracy: 0.9675\n",
            "Epoch 11/15\n",
            "217/217 [==============================] - 159s 730ms/step - loss: 0.1121 - accuracy: 0.9720 - val_loss: 0.1233 - val_accuracy: 0.9662\n",
            "Epoch 12/15\n",
            "217/217 [==============================] - 104s 479ms/step - loss: 0.0852 - accuracy: 0.9777 - val_loss: 0.1069 - val_accuracy: 0.9766\n",
            "Epoch 13/15\n",
            "217/217 [==============================] - 101s 466ms/step - loss: 0.0888 - accuracy: 0.9750 - val_loss: 0.0934 - val_accuracy: 0.9805\n",
            "Epoch 14/15\n",
            "217/217 [==============================] - 111s 513ms/step - loss: 0.0997 - accuracy: 0.9718 - val_loss: 0.1086 - val_accuracy: 0.9805\n",
            "Epoch 15/15\n",
            "217/217 [==============================] - 97s 446ms/step - loss: 0.0890 - accuracy: 0.9770 - val_loss: 0.1649 - val_accuracy: 0.9610\n"
          ]
        }
      ],
      "source": [
        "hist = model.fit(X_train, y_train , epochs=15, validation_split=0.1)"
      ]
    },
    {
      "cell_type": "code",
      "execution_count": 2,
      "metadata": {},
      "outputs": [
        {
          "ename": "NameError",
          "evalue": "name 'hist' is not defined",
          "output_type": "error",
          "traceback": [
            "\u001b[0;31m---------------------------------------------------------------------------\u001b[0m",
            "\u001b[0;31mNameError\u001b[0m                                 Traceback (most recent call last)",
            "Cell \u001b[0;32mIn[2], line 4\u001b[0m\n\u001b[1;32m      1\u001b[0m \u001b[39mimport\u001b[39;00m \u001b[39mmatplotlib\u001b[39;00m\u001b[39m.\u001b[39;00m\u001b[39mpyplot\u001b[39;00m \u001b[39mas\u001b[39;00m \u001b[39mplt\u001b[39;00m\n\u001b[1;32m      3\u001b[0m fig \u001b[39m=\u001b[39m plt\u001b[39m.\u001b[39mfigure()\n\u001b[0;32m----> 4\u001b[0m plt\u001b[39m.\u001b[39mplot(hist\u001b[39m.\u001b[39mhistory[\u001b[39m'\u001b[39m\u001b[39maccuracy\u001b[39m\u001b[39m'\u001b[39m], color\u001b[39m=\u001b[39m\u001b[39m'\u001b[39m\u001b[39mred\u001b[39m\u001b[39m'\u001b[39m, label\u001b[39m=\u001b[39m\u001b[39m'\u001b[39m\u001b[39macc\u001b[39m\u001b[39m'\u001b[39m)\n\u001b[1;32m      5\u001b[0m plt\u001b[39m.\u001b[39mplot(hist\u001b[39m.\u001b[39mhistory[\u001b[39m'\u001b[39m\u001b[39mval_accuracy\u001b[39m\u001b[39m'\u001b[39m], label\u001b[39m=\u001b[39m\u001b[39m'\u001b[39m\u001b[39mval_acc\u001b[39m\u001b[39m'\u001b[39m)\n\u001b[1;32m      6\u001b[0m fig\u001b[39m.\u001b[39mshow()\n",
            "\u001b[0;31mNameError\u001b[0m: name 'hist' is not defined"
          ]
        },
        {
          "data": {
            "text/plain": [
              "<Figure size 640x480 with 0 Axes>"
            ]
          },
          "metadata": {},
          "output_type": "display_data"
        }
      ],
      "source": [
        "import matplotlib.pyplot as plt\n",
        "\n",
        "fig = plt.figure()\n",
        "plt.plot(hist.history['accuracy'], color='red', label='acc')\n",
        "plt.plot(hist.history['val_accuracy'], label='val_acc')\n",
        "fig.show()"
      ]
    },
    {
      "cell_type": "code",
      "execution_count": 25,
      "metadata": {},
      "outputs": [
        {
          "data": {
            "text/plain": [
              "[<matplotlib.lines.Line2D at 0x7fcad4aec730>]"
            ]
          },
          "execution_count": 25,
          "metadata": {},
          "output_type": "execute_result"
        },
        {
          "data": {
            "image/png": "[encoded data removed]",
            "text/plain": [
              "<Figure size 640x480 with 1 Axes>"
            ]
          },
          "metadata": {},
          "output_type": "display_data"
        }
      ],
      "source": [
        "fig\n",
        "plt.plot(hist.history['loss'])\n",
        "plt.plot(hist.history['val_loss'], color='orange', label='val_loss')"
      ]
    },
    {
      "cell_type": "code",
      "execution_count": 26,
      "metadata": {
        "colab": {
          "base_uri": "https://localhost:8080/",
          "height": 183
        },
        "id": "k90b5abqkE2v",
        "outputId": "0e236d04-85d2-42ef-deaf-97c7ec83347f"
      },
      "outputs": [
        {
          "name": "stdout",
          "output_type": "stream",
          "text": [
            "61/61 [==============================] - 6s 90ms/step\n"
          ]
        }
      ],
      "source": [
        "predictions = model.predict(X_test)\n",
        "rounded_predictions = np.apply_along_axis(lambda x: np.round(x), 1, predictions)"
      ]
    },
    {
      "cell_type": "code",
      "execution_count": 27,
      "metadata": {},
      "outputs": [],
      "source": [
        "predictions = tf.argmax(predictions, axis=1)\n"
      ]
    },
    {
      "cell_type": "code",
      "execution_count": 28,
      "metadata": {},
      "outputs": [],
      "source": [
        "y_test_argmax = tf.argmax(y_test, axis=1)"
      ]
    },
    {
      "cell_type": "code",
      "execution_count": 29,
      "metadata": {
        "id": "aQEnZTQukNMF"
      },
      "outputs": [],
      "source": [
        "cm = tf.math.confusion_matrix(y_test_argmax, predictions)\n",
        "cm = cm/cm.numpy().sum(axis=1)[:, tf.newaxis]"
      ]
    },
    {
      "cell_type": "code",
      "execution_count": 30,
      "metadata": {},
      "outputs": [
        {
          "data": {
            "text/plain": [
              "array([[0.97837838, 0.00540541, 0.        , 0.0027027 , 0.0027027 ,\n",
              "        0.01081081],\n",
              "       [0.00569801, 0.98290598, 0.002849  , 0.        , 0.002849  ,\n",
              "        0.00569801],\n",
              "       [0.0132626 , 0.01061008, 0.97612732, 0.        , 0.        ,\n",
              "        0.        ],\n",
              "       [0.00543478, 0.00543478, 0.01358696, 0.94836957, 0.02445652,\n",
              "        0.00271739],\n",
              "       [0.00795756, 0.00795756, 0.        , 0.00795756, 0.9734748 ,\n",
              "        0.00265252],\n",
              "       [0.06329114, 0.03797468, 0.02531646, 0.        , 0.12658228,\n",
              "        0.74683544]])"
            ]
          },
          "execution_count": 30,
          "metadata": {},
          "output_type": "execute_result"
        }
      ],
      "source": [
        "cm.numpy()"
      ]
    },
    {
      "cell_type": "code",
      "execution_count": 1,
      "metadata": {
        "colab": {
          "background_save": true
        },
        "id": "Cn9dr7L7Z09F"
      },
      "outputs": [
        {
          "ename": "NameError",
          "evalue": "name 'plt' is not defined",
          "output_type": "error",
          "traceback": [
            "\u001b[0;31m---------------------------------------------------------------------------\u001b[0m",
            "\u001b[0;31mNameError\u001b[0m                                 Traceback (most recent call last)",
            "Cell \u001b[0;32mIn[1], line 3\u001b[0m\n\u001b[1;32m      1\u001b[0m \u001b[39mimport\u001b[39;00m \u001b[39mseaborn\u001b[39;00m \u001b[39mas\u001b[39;00m \u001b[39msns\u001b[39;00m\n\u001b[0;32m----> 3\u001b[0m plt\u001b[39m.\u001b[39mfigure(figsize\u001b[39m=\u001b[39m(\u001b[39m10\u001b[39m, \u001b[39m10\u001b[39m))\n\u001b[1;32m      4\u001b[0m sns\u001b[39m.\u001b[39mheatmap(cm, annot\u001b[39m=\u001b[39m\u001b[39mTrue\u001b[39;00m, fmt\u001b[39m=\u001b[39m\u001b[39m\"\u001b[39m\u001b[39m.2f\u001b[39m\u001b[39m\"\u001b[39m, linewidths\u001b[39m=\u001b[39m\u001b[39m0.5\u001b[39m, square\u001b[39m=\u001b[39m\u001b[39mTrue\u001b[39;00m, cmap\u001b[39m=\u001b[39m\u001b[39m'\u001b[39m\u001b[39mBlues_r\u001b[39m\u001b[39m'\u001b[39m, xticklabels\u001b[39m=\u001b[39mlabels, yticklabels\u001b[39m=\u001b[39mlabels)\n\u001b[1;32m      5\u001b[0m plt\u001b[39m.\u001b[39mylabel(\u001b[39m'\u001b[39m\u001b[39mActual label\u001b[39m\u001b[39m'\u001b[39m)\n",
            "\u001b[0;31mNameError\u001b[0m: name 'plt' is not defined"
          ]
        }
      ],
      "source": [
        "import seaborn as sns\n",
        "\n",
        "plt.figure(figsize=(10, 10))\n",
        "sns.heatmap(cm, annot=True, fmt=\".2f\", linewidths=0.5, square=True, cmap='Blues_r', xticklabels=labels, yticklabels=labels)\n",
        "plt.ylabel('Actual label')\n",
        "plt.xlabel('Predicted label')\n",
        "plt.title(\"Confusion matrix\")\n",
        "plt.show()"
      ]
    },
    {
      "cell_type": "code",
      "execution_count": null,
      "metadata": {},
      "outputs": [],
      "source": [
        "from tensorflow.keras.metrics import Precision, Accuracy, Recall, BinaryAccuracy\n",
        "\n",
        "labels = y_test\n",
        "\n",
        "precision = Precision()\n",
        "accuracy = Accuracy()\n",
        "recall = Recall()"
      ]
    },
    {
      "cell_type": "code",
      "execution_count": null,
      "metadata": {},
      "outputs": [
        {
          "name": "stdout",
          "output_type": "stream",
          "text": [
            "Precision: 0.9714739\n",
            "Accuracy: 0.98812\n",
            "Recall: 0.95681584\n"
          ]
        }
      ],
      "source": [
        "# Evaluate the metrics\n",
        "precision.update_state(labels, rounded_predictions)\n",
        "accuracy.update_state(labels, rounded_predictions)\n",
        "recall.update_state(labels, rounded_predictions)\n",
        "\n",
        "# Print the metrics\n",
        "print('Precision:', precision.result().numpy())\n",
        "print('Accuracy:', accuracy.result().numpy())\n",
        "print('Recall:', recall.result().numpy())"
      ]
    },
    {
      "cell_type": "code",
      "execution_count": 21,
      "metadata": {},
      "outputs": [
        {
          "name": "stdout",
          "output_type": "stream",
          "text": [
            "Accuracy: 96.25%\n"
          ]
        }
      ],
      "source": [
        "scores = model.evaluate(X_test, y_test, verbose=0)\n",
        "print(\"Accuracy: %.2f%%\" % (scores[1]*100))"
      ]
    },
    {
      "cell_type": "code",
      "execution_count": 22,
      "metadata": {},
      "outputs": [
        {
          "name": "stdout",
          "output_type": "stream",
          "text": [
            "1/1 [==============================] - 0s 37ms/step\n"
          ]
        },
        {
          "data": {
            "text/plain": [
              "array([[1., 0., 0., 0., 0., 0.]], dtype=float32)"
            ]
          },
          "execution_count": 22,
          "metadata": {},
          "output_type": "execute_result"
        },
        {
          "data": {
            "image/png": "[encoded data removed]",
            "text/plain": [
              "<Figure size 640x480 with 1 Axes>"
            ]
          },
          "metadata": {},
          "output_type": "display_data"
        }
      ],
      "source": [
        "a = cv2.imread(dataset_dir + '/Exceptions/Question2-scan0047 - Copy.jpg')\n",
        "resize = tf.image.resize(a, (130, 20))\n",
        "\n",
        "b = model.predict(np.expand_dims(resize/255, 0))\n",
        "plt.imshow(a)\n",
        "e = np.apply_along_axis(lambda x: np.round(x), 1, b)\n",
        "e"
      ]
    },
    {
      "cell_type": "code",
      "execution_count": 23,
      "metadata": {},
      "outputs": [],
      "source": [
        "from tensorflow.keras.models import load_model\n",
        "\n",
        "model.save(os.path.join('models', 'model1.h5'))"
      ]
    }
  ],
  "metadata": {
    "accelerator": "GPU",
    "colab": {
      "gpuType": "T4",
      "provenance": []
    },
    "kernelspec": {
      "display_name": "Python 3",
      "name": "python3"
    },
    "language_info": {
      "codemirror_mode": {
        "name": "ipython",
        "version": 3
      },
      "file_extension": ".py",
      "mimetype": "text/x-python",
      "name": "python",
      "nbconvert_exporter": "python",
      "pygments_lexer": "ipython3",
      "version": "3.10.6"
    }
  },
  "nbformat": 4,
  "nbformat_minor": 0
}
