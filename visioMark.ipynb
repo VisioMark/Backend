{
  "cells": [
    {
      "cell_type": "code",
      "execution_count": 1,
      "metadata": {
        "id": "KQLPRzaFjiZk"
      },
      "outputs": [],
      "source": [
        "import tensorflow as tf\n",
        "from keras.models import Sequential\n",
        "from keras.layers import Dense, Dropout, Flatten, Conv2D, MaxPooling2D, Activation\n",
        "import numpy as np\n",
        "from sklearn.model_selection import train_test_split\n",
        "from tensorflow.keras.preprocessing.image import load_img, img_to_array\n",
        "from keras.constraints import maxnorm\n",
        "from tensorflow.keras.utils import to_categorical\n"
      ]
    },
    {
      "cell_type": "code",
      "execution_count": 2,
      "metadata": {
        "id": "sa7irhsZ3fsp"
      },
      "outputs": [],
      "source": [
        "dataset_dir = './_data'\n",
        "\n",
        "train_ratio = 0.8  # 80% for training, 20% for testing\n",
        "# Lists to store the file paths and labels\n",
        "file_paths = []\n",
        "label_ids = []\n",
        "labels = ['A', 'B', 'C', 'D', 'E', 'Exceptions']"
      ]
    },
    {
      "cell_type": "code",
      "execution_count": 3,
      "metadata": {},
      "outputs": [
        {
          "name": "stdout",
          "output_type": "stream",
          "text": [
            "TensorFlow is running with your GPU\n"
          ]
        }
      ],
      "source": [
        "import tensorflow as tf\n",
        "\n",
        "devices = tf.config.list_physical_devices(\"GPU\")\n",
        "\n",
        "if devices:\n",
        "  print(\"TensorFlow is running with your GPU\")\n",
        "else:\n",
        "  print(\"TensorFlow is not running with your GPU\")"
      ]
    },
    {
      "attachments": {},
      "cell_type": "markdown",
      "metadata": {
        "id": "q6HJovjT3L3w"
      },
      "source": [
        "## Checking if any image is corrupted or not"
      ]
    },
    {
      "cell_type": "code",
      "execution_count": 4,
      "metadata": {
        "colab": {
          "background_save": true
        },
        "id": "F7XpxNbl7X7i"
      },
      "outputs": [
        {
          "name": "stdout",
          "output_type": "stream",
          "text": [
            "Metal device set to: Apple M1 Pro\n",
            "\n",
            "systemMemory: 16.00 GB\n",
            "maxCacheSize: 5.33 GB\n",
            "\n"
          ]
        },
        {
          "name": "stderr",
          "output_type": "stream",
          "text": [
            "2023-06-18 13:16:03.734674: I tensorflow/core/common_runtime/pluggable_device/pluggable_device_factory.cc:305] Could not identify NUMA node of platform GPU ID 0, defaulting to 0. Your kernel may not have been built with NUMA support.\n",
            "2023-06-18 13:16:03.734802: I tensorflow/core/common_runtime/pluggable_device/pluggable_device_factory.cc:271] Created TensorFlow device (/job:localhost/replica:0/task:0/device:GPU:0 with 0 MB memory) -> physical PluggableDevice (device: 0, name: METAL, pci bus id: <undefined>)\n"
          ]
        },
        {
          "data": {
            "text/plain": [
              "6"
            ]
          },
          "execution_count": 4,
          "metadata": {},
          "output_type": "execute_result"
        }
      ],
      "source": [
        "import os\n",
        "# Iterate through each class directory\n",
        "for label_id, label in enumerate(labels):\n",
        "    class_dir = os.path.join(dataset_dir, label)\n",
        "    if os.path.isdir(class_dir):\n",
        "        image_files = [f for f in os.listdir(class_dir) if os.path.isfile(os.path.join(class_dir, f))]\n",
        "        file_paths.extend([os.path.join(class_dir, f) for f in image_files])\n",
        "        label_ids.extend([label_id] * len(image_files))\n",
        "\n",
        "# Shuffle the file paths and label IDs\n",
        "tf.random.set_seed(42)\n",
        "tf.random.shuffle(file_paths)\n",
        "tf.random.set_seed(42)\n",
        "tf.random.shuffle(label_ids)\n",
        "\n",
        "# Split the dataset into training and testing sets using stratified sampling\n",
        "X_train_paths, X_test_paths, y_train_ids, y_test_ids = train_test_split(file_paths, label_ids, train_size=train_ratio, stratify=label_ids)\n",
        "\n",
        "# Convert the image data into NumPy arrays\n",
        "X_train = np.array([img_to_array(load_img(path, target_size=(130, 20))) for path in X_train_paths])\n",
        "X_test = np.array([img_to_array(load_img(path, target_size=(130, 20))) for path in X_test_paths])\n",
        "\n",
        "# Normalizing and performing one-hot encoding\n",
        "X_train = X_train.astype('float32')\n",
        "X_test = X_test.astype('float32')\n",
        "X_train = X_train/255.0\n",
        "X_test = X_test/255.0\n",
        "\n",
        "# Convert the label IDs into one-hot encoded vectors\n",
        "y_train = to_categorical(y_train_ids, num_classes=len(labels))\n",
        "y_test = to_categorical(y_test_ids, num_classes=len(labels))\n",
        "\n",
        "num_classes = y_test.shape[1]\n",
        "num_classes"
      ]
    },
    {
      "cell_type": "code",
      "execution_count": 5,
      "metadata": {},
      "outputs": [
        {
          "data": {
            "text/plain": [
              "(7688, 130, 20, 3)"
            ]
          },
          "execution_count": 5,
          "metadata": {},
          "output_type": "execute_result"
        }
      ],
      "source": [
        "X_train.shape"
      ]
    },
    {
      "cell_type": "code",
      "execution_count": 6,
      "metadata": {},
      "outputs": [
        {
          "data": {
            "text/plain": [
              "True"
            ]
          },
          "execution_count": 6,
          "metadata": {},
          "output_type": "execute_result"
        }
      ],
      "source": [
        "'./_data/Exceptions/Question2-scan0047.jpg' in X_train_paths"
      ]
    },
    {
      "cell_type": "code",
      "execution_count": 7,
      "metadata": {
        "colab": {
          "background_save": true
        },
        "id": "YVv_kxzlipoB"
      },
      "outputs": [],
      "source": [
        "import keras\n",
        "\n",
        "model = Sequential()\n",
        "\n",
        "model.add(Conv2D(32, (3, 3), input_shape=(130,20,3), activation='relu', padding='same'))\n",
        "model.add(Dropout(0.2))\n",
        "model.add(Conv2D(32, (3, 3), activation='relu', padding='same'))\n",
        "model.add(MaxPooling2D(pool_size=(2, 2)))\n",
        "model.add(Conv2D(64, (3, 3), activation='relu', padding='same'))\n",
        "model.add(Dropout(0.2))\n",
        "model.add(Conv2D(64, (3, 3), activation='relu', padding='same'))\n",
        "model.add(MaxPooling2D(pool_size=(2, 2)))\n",
        "model.add(Conv2D(128, (3, 3), activation='relu', padding='same'))\n",
        "model.add(Dropout(0.2))\n",
        "model.add(Conv2D(128, (3, 3), activation='relu', padding='same'))\n",
        "model.add(MaxPooling2D(pool_size=(2, 2)))\n",
        "model.add(Flatten())\n",
        "model.add(Dropout(0.2))\n",
        "model.add(Dense(1024, activation='relu', kernel_constraint=maxnorm(3)))\n",
        "model.add(Dropout(0.2))\n",
        "model.add(Dense(512, activation='relu', kernel_constraint=maxnorm(3)))\n",
        "model.add(Dropout(0.2))\n",
        "model.add(Dense(num_classes, activation='softmax'))\n",
        "\n"
      ]
    },
    {
      "cell_type": "code",
      "execution_count": 8,
      "metadata": {
        "colab": {
          "background_save": true
        },
        "id": "_TnhiLjx8wOF",
        "outputId": "7cc85321-69d2-48df-f26a-de71779404e4"
      },
      "outputs": [
        {
          "name": "stdout",
          "output_type": "stream",
          "text": [
            "Model: \"sequential\"\n",
            "_________________________________________________________________\n",
            " Layer (type)                Output Shape              Param #   \n",
            "=================================================================\n",
            " conv2d (Conv2D)             (None, 130, 20, 32)       896       \n",
            "                                                                 \n",
            " dropout (Dropout)           (None, 130, 20, 32)       0         \n",
            "                                                                 \n",
            " conv2d_1 (Conv2D)           (None, 130, 20, 32)       9248      \n",
            "                                                                 \n",
            " max_pooling2d (MaxPooling2D  (None, 65, 10, 32)       0         \n",
            " )                                                               \n",
            "                                                                 \n",
            " conv2d_2 (Conv2D)           (None, 65, 10, 64)        18496     \n",
            "                                                                 \n",
            " dropout_1 (Dropout)         (None, 65, 10, 64)        0         \n",
            "                                                                 \n",
            " conv2d_3 (Conv2D)           (None, 65, 10, 64)        36928     \n",
            "                                                                 \n",
            " max_pooling2d_1 (MaxPooling  (None, 32, 5, 64)        0         \n",
            " 2D)                                                             \n",
            "                                                                 \n",
            " conv2d_4 (Conv2D)           (None, 32, 5, 128)        73856     \n",
            "                                                                 \n",
            " dropout_2 (Dropout)         (None, 32, 5, 128)        0         \n",
            "                                                                 \n",
            " conv2d_5 (Conv2D)           (None, 32, 5, 128)        147584    \n",
            "                                                                 \n",
            " max_pooling2d_2 (MaxPooling  (None, 16, 2, 128)       0         \n",
            " 2D)                                                             \n",
            "                                                                 \n",
            " flatten (Flatten)           (None, 4096)              0         \n",
            "                                                                 \n",
            " dropout_3 (Dropout)         (None, 4096)              0         \n",
            "                                                                 \n",
            " dense (Dense)               (None, 1024)              4195328   \n",
            "                                                                 \n",
            " dropout_4 (Dropout)         (None, 1024)              0         \n",
            "                                                                 \n",
            " dense_1 (Dense)             (None, 512)               524800    \n",
            "                                                                 \n",
            " dropout_5 (Dropout)         (None, 512)               0         \n",
            "                                                                 \n",
            " dense_2 (Dense)             (None, 6)                 3078      \n",
            "                                                                 \n",
            "=================================================================\n",
            "Total params: 5,010,214\n",
            "Trainable params: 5,010,214\n",
            "Non-trainable params: 0\n",
            "_________________________________________________________________\n"
          ]
        }
      ],
      "source": [
        "model.summary()"
      ]
    },
    {
      "cell_type": "code",
      "execution_count": 9,
      "metadata": {
        "colab": {
          "base_uri": "https://localhost:8080/"
        },
        "id": "Do2pP8Ab8sfn",
        "outputId": "3a5fc5f3-cf00-4db5-f803-36ab0743d0a1"
      },
      "outputs": [],
      "source": [
        "model.compile(optimizer='Adam', loss=keras.losses.categorical_crossentropy, metrics=['accuracy'])\n",
        "\n",
        "# create a learning rate scheduler\n",
        "lr_scheduler = tf.keras.callbacks.LearningRateScheduler(lambda epoch: 1e-4 * 10 ** (epoch / 15))"
      ]
    },
    {
      "cell_type": "code",
      "execution_count": 10,
      "metadata": {},
      "outputs": [
        {
          "name": "stdout",
          "output_type": "stream",
          "text": [
            "Epoch 1/15\n"
          ]
        },
        {
          "name": "stderr",
          "output_type": "stream",
          "text": [
            "2023-06-18 13:16:06.220101: W tensorflow/core/platform/profile_utils/cpu_utils.cc:128] Failed to get CPU frequency: 0 Hz\n",
            "2023-06-18 13:16:06.640410: I tensorflow/core/grappler/optimizers/custom_graph_optimizer_registry.cc:113] Plugin optimizer for device_type GPU is enabled.\n"
          ]
        },
        {
          "name": "stdout",
          "output_type": "stream",
          "text": [
            "217/217 [==============================] - ETA: 0s - loss: 1.5840 - accuracy: 0.3152"
          ]
        },
        {
          "name": "stderr",
          "output_type": "stream",
          "text": [
            "2023-06-18 13:16:14.355155: I tensorflow/core/grappler/optimizers/custom_graph_optimizer_registry.cc:113] Plugin optimizer for device_type GPU is enabled.\n"
          ]
        },
        {
          "name": "stdout",
          "output_type": "stream",
          "text": [
            "217/217 [==============================] - 9s 35ms/step - loss: 1.5840 - accuracy: 0.3152 - val_loss: 0.8305 - val_accuracy: 0.7789 - lr: 1.0000e-04\n",
            "Epoch 2/15\n",
            "217/217 [==============================] - 7s 33ms/step - loss: 0.4718 - accuracy: 0.8511 - val_loss: 0.3795 - val_accuracy: 0.9064 - lr: 1.1659e-04\n",
            "Epoch 3/15\n",
            "217/217 [==============================] - 7s 31ms/step - loss: 0.3071 - accuracy: 0.9049 - val_loss: 0.2902 - val_accuracy: 0.9376 - lr: 1.3594e-04\n",
            "Epoch 4/15\n",
            "217/217 [==============================] - 7s 32ms/step - loss: 0.2511 - accuracy: 0.9233 - val_loss: 0.2420 - val_accuracy: 0.9324 - lr: 1.5849e-04\n",
            "Epoch 5/15\n",
            "217/217 [==============================] - 7s 32ms/step - loss: 0.2123 - accuracy: 0.9373 - val_loss: 0.2279 - val_accuracy: 0.9467 - lr: 1.8478e-04\n",
            "Epoch 6/15\n",
            "217/217 [==============================] - 7s 33ms/step - loss: 0.1980 - accuracy: 0.9418 - val_loss: 0.2153 - val_accuracy: 0.9441 - lr: 2.1544e-04\n",
            "Epoch 7/15\n",
            "217/217 [==============================] - 7s 32ms/step - loss: 0.1734 - accuracy: 0.9510 - val_loss: 0.1653 - val_accuracy: 0.9584 - lr: 2.5119e-04\n",
            "Epoch 8/15\n",
            "217/217 [==============================] - 7s 32ms/step - loss: 0.1730 - accuracy: 0.9507 - val_loss: 0.2197 - val_accuracy: 0.9506 - lr: 2.9286e-04\n",
            "Epoch 9/15\n",
            "217/217 [==============================] - 7s 32ms/step - loss: 0.1523 - accuracy: 0.9574 - val_loss: 0.1701 - val_accuracy: 0.9675 - lr: 3.4145e-04\n",
            "Epoch 10/15\n",
            "217/217 [==============================] - 7s 32ms/step - loss: 0.1405 - accuracy: 0.9621 - val_loss: 0.1648 - val_accuracy: 0.9662 - lr: 3.9811e-04\n",
            "Epoch 11/15\n",
            "217/217 [==============================] - 7s 32ms/step - loss: 0.1483 - accuracy: 0.9592 - val_loss: 0.2034 - val_accuracy: 0.9480 - lr: 4.6416e-04\n",
            "Epoch 12/15\n",
            "217/217 [==============================] - 7s 32ms/step - loss: 0.1408 - accuracy: 0.9620 - val_loss: 0.1612 - val_accuracy: 0.9662 - lr: 5.4117e-04\n",
            "Epoch 13/15\n",
            "217/217 [==============================] - 7s 33ms/step - loss: 0.1520 - accuracy: 0.9578 - val_loss: 0.1583 - val_accuracy: 0.9727 - lr: 6.3096e-04\n",
            "Epoch 14/15\n",
            "217/217 [==============================] - 7s 33ms/step - loss: 0.1354 - accuracy: 0.9640 - val_loss: 0.1455 - val_accuracy: 0.9727 - lr: 7.3564e-04\n",
            "Epoch 15/15\n",
            "217/217 [==============================] - 7s 32ms/step - loss: 0.1437 - accuracy: 0.9629 - val_loss: 0.1662 - val_accuracy: 0.9727 - lr: 8.5770e-04\n"
          ]
        }
      ],
      "source": [
        "hist = model.fit(X_train, y_train , epochs=15, validation_split=0.1, callbacks=[lr_scheduler])"
      ]
    },
    {
      "attachments": {},
      "cell_type": "markdown",
      "metadata": {},
      "source": [
        "## Save Model"
      ]
    },
    {
      "cell_type": "code",
      "execution_count": 11,
      "metadata": {},
      "outputs": [],
      "source": [
        "models_path = \"./saved_models\"\n",
        "\n",
        "os.makedirs(models_path, exist_ok=True)\n",
        "\n",
        "# get the number of files in the directory\n",
        "def get_num_files(path):\n",
        "    if not os.path.exists(path):\n",
        "        return 0\n",
        "    return sum([len(files) for r, d, files in os.walk(path)])\n",
        "\n",
        "# save the model with the current number\n",
        "num_files = get_num_files(models_path)\n",
        "\n",
        "model.save(os.path.join(models_path, f\"model_{num_files}.h5\"))"
      ]
    },
    {
      "cell_type": "code",
      "execution_count": 12,
      "metadata": {},
      "outputs": [
        {
          "name": "stderr",
          "output_type": "stream",
          "text": [
            "/var/folders/fp/mn15v0dx2s7_pkffb0939s800000gn/T/ipykernel_63122/3113396048.py:6: UserWarning: Matplotlib is currently using module://matplotlib_inline.backend_inline, which is a non-GUI backend, so cannot show the figure.\n",
            "  fig.show()\n"
          ]
        },
        {
          "data": {
            "image/png": "[encoded data removed]",
            "text/plain": [
              "<Figure size 640x480 with 1 Axes>"
            ]
          },
          "metadata": {},
          "output_type": "display_data"
        }
      ],
      "source": [
        "import matplotlib.pyplot as plt\n",
        "\n",
        "fig = plt.figure()\n",
        "plt.plot(hist.history['accuracy'], color='red', label='acc')\n",
        "plt.plot(hist.history['val_accuracy'], label='val_acc')\n",
        "fig.show()"
      ]
    },
    {
      "cell_type": "code",
      "execution_count": 13,
      "metadata": {},
      "outputs": [
        {
          "data": {
            "text/plain": [
              "[<matplotlib.lines.Line2D at 0x30fe071f0>]"
            ]
          },
          "execution_count": 13,
          "metadata": {},
          "output_type": "execute_result"
        },
        {
          "data": {
            "image/png": "[encoded data removed]",
            "text/plain": [
              "<Figure size 640x480 with 1 Axes>"
            ]
          },
          "metadata": {},
          "output_type": "display_data"
        }
      ],
      "source": [
        "fig\n",
        "plt.plot(hist.history['loss'])\n",
        "plt.plot(hist.history['val_loss'], color='orange', label='val_loss')"
      ]
    },
    {
      "cell_type": "code",
      "execution_count": 14,
      "metadata": {
        "colab": {
          "base_uri": "https://localhost:8080/",
          "height": 183
        },
        "id": "k90b5abqkE2v",
        "outputId": "0e236d04-85d2-42ef-deaf-97c7ec83347f"
      },
      "outputs": [
        {
          "name": "stdout",
          "output_type": "stream",
          "text": [
            "17/61 [=======>......................] - ETA: 0s"
          ]
        },
        {
          "name": "stderr",
          "output_type": "stream",
          "text": [
            "2023-06-18 13:17:53.528234: I tensorflow/core/grappler/optimizers/custom_graph_optimizer_registry.cc:113] Plugin optimizer for device_type GPU is enabled.\n"
          ]
        },
        {
          "name": "stdout",
          "output_type": "stream",
          "text": [
            "61/61 [==============================] - 1s 10ms/step\n"
          ]
        }
      ],
      "source": [
        "predictions = model.predict(X_test)\n",
        "rounded_predictions = np.apply_along_axis(lambda x: np.round(x), 1, predictions)"
      ]
    },
    {
      "cell_type": "code",
      "execution_count": 15,
      "metadata": {},
      "outputs": [],
      "source": [
        "predictions = tf.argmax(predictions, axis=1)\n"
      ]
    },
    {
      "cell_type": "code",
      "execution_count": 16,
      "metadata": {},
      "outputs": [],
      "source": [
        "y_test_argmax = tf.argmax(y_test, axis=1)"
      ]
    },
    {
      "cell_type": "code",
      "execution_count": 17,
      "metadata": {
        "id": "aQEnZTQukNMF"
      },
      "outputs": [],
      "source": [
        "cm = tf.math.confusion_matrix(y_test_argmax, predictions)\n",
        "cm = cm/cm.numpy().sum(axis=1)[:, tf.newaxis]"
      ]
    },
    {
      "cell_type": "code",
      "execution_count": 18,
      "metadata": {},
      "outputs": [
        {
          "data": {
            "text/plain": [
              "array([[0.98108108, 0.00810811, 0.        , 0.        , 0.00540541,\n",
              "        0.00540541],\n",
              "       [0.        , 0.98290598, 0.        , 0.002849  , 0.00569801,\n",
              "        0.00854701],\n",
              "       [0.0132626 , 0.00530504, 0.95225464, 0.0132626 , 0.00530504,\n",
              "        0.01061008],\n",
              "       [0.00271739, 0.00271739, 0.        , 0.98369565, 0.00271739,\n",
              "        0.00815217],\n",
              "       [0.00795756, 0.00265252, 0.        , 0.0132626 , 0.97082228,\n",
              "        0.00530504],\n",
              "       [0.05063291, 0.07594937, 0.        , 0.07594937, 0.05063291,\n",
              "        0.74683544]])"
            ]
          },
          "execution_count": 18,
          "metadata": {},
          "output_type": "execute_result"
        }
      ],
      "source": [
        "cm.numpy()"
      ]
    },
    {
      "cell_type": "code",
      "execution_count": 19,
      "metadata": {
        "colab": {
          "background_save": true
        },
        "id": "Cn9dr7L7Z09F"
      },
      "outputs": [
        {
          "data": {
            "image/png": "[encoded data removed]",
            "text/plain": [
              "<Figure size 1000x1000 with 2 Axes>"
            ]
          },
          "metadata": {},
          "output_type": "display_data"
        }
      ],
      "source": [
        "import seaborn as sns\n",
        "\n",
        "plt.figure(figsize=(10, 10))\n",
        "sns.heatmap(cm, annot=True, fmt=\".2f\", linewidths=0.5, square=True, cmap='Blues_r', xticklabels=labels, yticklabels=labels)\n",
        "plt.ylabel('Actual label')\n",
        "plt.xlabel('Predicted label')\n",
        "plt.title(\"Confusion matrix\")\n",
        "plt.show()"
      ]
    },
    {
      "cell_type": "code",
      "execution_count": 20,
      "metadata": {},
      "outputs": [],
      "source": [
        "from tensorflow.keras.metrics import Precision, Accuracy, Recall, BinaryAccuracy\n",
        "\n",
        "labels = y_test\n",
        "\n",
        "precision = Precision()\n",
        "accuracy = Accuracy()\n",
        "recall = Recall()"
      ]
    },
    {
      "cell_type": "code",
      "execution_count": 21,
      "metadata": {},
      "outputs": [
        {
          "name": "stdout",
          "output_type": "stream",
          "text": [
            "Precision: 0.97507954\n",
            "Accuracy: 0.98872703\n",
            "Recall: 0.95681584\n"
          ]
        }
      ],
      "source": [
        "# Evaluate the metrics\n",
        "precision.update_state(labels, rounded_predictions)\n",
        "accuracy.update_state(labels, rounded_predictions)\n",
        "recall.update_state(labels, rounded_predictions)\n",
        "\n",
        "# Print the metrics\n",
        "print('Precision:', precision.result().numpy())\n",
        "print('Accuracy:', accuracy.result().numpy())\n",
        "print('Recall:', recall.result().numpy())"
      ]
    },
    {
      "cell_type": "code",
      "execution_count": 22,
      "metadata": {},
      "outputs": [
        {
          "name": "stdout",
          "output_type": "stream",
          "text": [
            "Accuracy: 96.46%\n"
          ]
        }
      ],
      "source": [
        "scores = model.evaluate(X_test, y_test, verbose=0)\n",
        "print(\"Accuracy: %.2f%%\" % (scores[1]*100))"
      ]
    },
    {
      "cell_type": "code",
      "execution_count": 23,
      "metadata": {},
      "outputs": [
        {
          "name": "stdout",
          "output_type": "stream",
          "text": [
            "1/1 [==============================] - 0s 78ms/step\n"
          ]
        },
        {
          "data": {
            "text/plain": [
              "array([[0., 0., 0., 0., 0., 1.]], dtype=float32)"
            ]
          },
          "execution_count": 23,
          "metadata": {},
          "output_type": "execute_result"
        },
        {
          "data": {
            "image/png": "[encoded data removed]",
            "text/plain": [
              "<Figure size 640x480 with 1 Axes>"
            ]
          },
          "metadata": {},
          "output_type": "display_data"
        }
      ],
      "source": [
        "import cv2\n",
        "\n",
        "a = cv2.imread(dataset_dir + '/Exceptions/Question2-scan0047 - Copy.jpg')\n",
        "resize = tf.image.resize(a, (130, 20))\n",
        "\n",
        "b = model.predict(np.expand_dims(resize/255, 0))\n",
        "plt.imshow(a)\n",
        "e = np.apply_along_axis(lambda x: np.round(x), 1, b)\n",
        "e"
      ]
    },
    {
      "cell_type": "code",
      "execution_count": null,
      "metadata": {},
      "outputs": [],
      "source": []
    }
  ],
  "metadata": {
    "accelerator": "GPU",
    "colab": {
      "gpuType": "T4",
      "provenance": []
    },
    "kernelspec": {
      "display_name": "Python 3",
      "name": "python3"
    },
    "language_info": {
      "codemirror_mode": {
        "name": "ipython",
        "version": 3
      },
      "file_extension": ".py",
      "mimetype": "text/x-python",
      "name": "python",
      "nbconvert_exporter": "python",
      "pygments_lexer": "ipython3",
      "version": "3.10.9"
    }
  },
  "nbformat": 4,
  "nbformat_minor": 0
}
